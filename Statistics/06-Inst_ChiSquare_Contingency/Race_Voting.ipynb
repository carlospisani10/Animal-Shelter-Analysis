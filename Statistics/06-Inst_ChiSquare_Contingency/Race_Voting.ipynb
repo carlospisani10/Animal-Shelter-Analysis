{
 "cells": [
  {
   "cell_type": "code",
   "execution_count": 1,
   "metadata": {
    "collapsed": true
   },
   "outputs": [],
   "source": [
    "# Dependencies\n",
    "import numpy as np\n",
    "import pandas as pd\n",
    "import scipy.stats as stats\n",
    "import matplotlib.pyplot as plt\n",
    "import math"
   ]
  },
  {
   "cell_type": "code",
   "execution_count": 2,
   "metadata": {},
   "outputs": [
    {
     "name": "stderr",
     "output_type": "stream",
     "text": [
      "//anaconda/envs/py36/lib/python3.6/site-packages/ipykernel_launcher.py:27: DeprecationWarning: \n",
      ".ix is deprecated. Please use\n",
      ".loc for label based indexing or\n",
      ".iloc for positional indexing\n",
      "\n",
      "See the documentation here:\n",
      "http://pandas.pydata.org/pandas-docs/stable/indexing.html#ix-indexer-is-deprecated\n"
     ]
    },
    {
     "data": {
      "text/html": [
       "<div>\n",
       "<style>\n",
       "    .dataframe thead tr:only-child th {\n",
       "        text-align: right;\n",
       "    }\n",
       "\n",
       "    .dataframe thead th {\n",
       "        text-align: left;\n",
       "    }\n",
       "\n",
       "    .dataframe tbody tr th {\n",
       "        vertical-align: top;\n",
       "    }\n",
       "</style>\n",
       "<table border=\"1\" class=\"dataframe\">\n",
       "  <thead>\n",
       "    <tr style=\"text-align: right;\">\n",
       "      <th></th>\n",
       "      <th>democrat</th>\n",
       "      <th>independent</th>\n",
       "      <th>republican</th>\n",
       "      <th>row_totals</th>\n",
       "    </tr>\n",
       "  </thead>\n",
       "  <tbody>\n",
       "    <tr>\n",
       "      <th>American Indian or Alaska Native</th>\n",
       "      <td>20</td>\n",
       "      <td>9</td>\n",
       "      <td>21</td>\n",
       "      <td>50</td>\n",
       "    </tr>\n",
       "    <tr>\n",
       "      <th>Asian</th>\n",
       "      <td>40</td>\n",
       "      <td>33</td>\n",
       "      <td>56</td>\n",
       "      <td>129</td>\n",
       "    </tr>\n",
       "    <tr>\n",
       "      <th>Black or African American</th>\n",
       "      <td>93</td>\n",
       "      <td>57</td>\n",
       "      <td>102</td>\n",
       "      <td>252</td>\n",
       "    </tr>\n",
       "    <tr>\n",
       "      <th>Hispanic or Latino</th>\n",
       "      <td>14</td>\n",
       "      <td>10</td>\n",
       "      <td>22</td>\n",
       "      <td>46</td>\n",
       "    </tr>\n",
       "    <tr>\n",
       "      <th>Native Hawaiian or Other Pacific Islander</th>\n",
       "      <td>99</td>\n",
       "      <td>55</td>\n",
       "      <td>94</td>\n",
       "      <td>248</td>\n",
       "    </tr>\n",
       "    <tr>\n",
       "      <th>White</th>\n",
       "      <td>23</td>\n",
       "      <td>12</td>\n",
       "      <td>15</td>\n",
       "      <td>50</td>\n",
       "    </tr>\n",
       "    <tr>\n",
       "      <th>Other</th>\n",
       "      <td>81</td>\n",
       "      <td>55</td>\n",
       "      <td>89</td>\n",
       "      <td>225</td>\n",
       "    </tr>\n",
       "    <tr>\n",
       "      <th>col_totals</th>\n",
       "      <td>370</td>\n",
       "      <td>231</td>\n",
       "      <td>399</td>\n",
       "      <td>1000</td>\n",
       "    </tr>\n",
       "  </tbody>\n",
       "</table>\n",
       "</div>"
      ],
      "text/plain": [
       "                                           democrat  independent  republican  \\\n",
       "American Indian or Alaska Native                 20            9          21   \n",
       "Asian                                            40           33          56   \n",
       "Black or African American                        93           57         102   \n",
       "Hispanic or Latino                               14           10          22   \n",
       "Native Hawaiian or Other Pacific Islander        99           55          94   \n",
       "White                                            23           12          15   \n",
       "Other                                            81           55          89   \n",
       "col_totals                                      370          231         399   \n",
       "\n",
       "                                           row_totals  \n",
       "American Indian or Alaska Native                   50  \n",
       "Asian                                             129  \n",
       "Black or African American                         252  \n",
       "Hispanic or Latino                                 46  \n",
       "Native Hawaiian or Other Pacific Islander         248  \n",
       "White                                              50  \n",
       "Other                                             225  \n",
       "col_totals                                       1000  "
      ]
     },
     "execution_count": 2,
     "metadata": {},
     "output_type": "execute_result"
    }
   ],
   "source": [
    "# Generate Simulated Data\n",
    "# Racial and Ethnic Categories:\n",
    "# https://grants.nih.gov/grants/guide/notice-files/NOT-OD-15-089.html\n",
    "categories = [\n",
    "    \"American Indian or Alaska Native\",\n",
    "    \"Asian\",\n",
    "    \"Black or African American\",\n",
    "    \"Hispanic or Latino\",\n",
    "    \"Native Hawaiian or Other Pacific Islander\",\n",
    "    \"White\",\n",
    "    \"Other\"]\n",
    "\n",
    "voter_race = np.random.choice(a=categories,\n",
    "                              p=[0.05, 0.15, 0.25, 0.05, 0.25, 0.2, 0.05],\n",
    "                              size=1000)\n",
    "\n",
    "voter_party = np.random.choice(a=[\"democrat\", \"independent\", \"republican\"],\n",
    "                               p=[0.4, 0.2, 0.4],\n",
    "                               size=1000)\n",
    "\n",
    "voters = pd.DataFrame({\"race\": voter_race,\n",
    "                       \"party\": voter_party})\n",
    "\n",
    "voter_tab = pd.crosstab(voters.race, voters.party, margins=True)\n",
    "voter_tab.columns = [\"democrat\", \"independent\", \"republican\", \"row_totals\"]\n",
    "voter_tab.index = categories + [\"col_totals\"]\n",
    "observed = voter_tab.ix[0:7, 0:3]\n",
    "voter_tab"
   ]
  },
  {
   "cell_type": "code",
   "execution_count": 3,
   "metadata": {},
   "outputs": [
    {
     "data": {
      "text/plain": [
       "(7.5722935555955662,\n",
       " 0.81759806021800019,\n",
       " 12,\n",
       " array([[  18.5  ,   11.55 ,   19.95 ],\n",
       "        [  47.73 ,   29.799,   51.471],\n",
       "        [  93.24 ,   58.212,  100.548],\n",
       "        [  17.02 ,   10.626,   18.354],\n",
       "        [  91.76 ,   57.288,   98.952],\n",
       "        [  18.5  ,   11.55 ,   19.95 ],\n",
       "        [  83.25 ,   51.975,   89.775]]))"
      ]
     },
     "execution_count": 3,
     "metadata": {},
     "output_type": "execute_result"
    }
   ],
   "source": [
    "stats.chi2_contingency(observed=observed)"
   ]
  }
 ],
 "metadata": {
  "anaconda-cloud": {},
  "kernelspec": {
   "display_name": "Python 3",
   "language": "python",
   "name": "python3"
  },
  "language_info": {
   "codemirror_mode": {
    "name": "ipython",
    "version": 3
   },
   "file_extension": ".py",
   "mimetype": "text/x-python",
   "name": "python",
   "nbconvert_exporter": "python",
   "pygments_lexer": "ipython3",
   "version": "3.6.1"
  },
  "varInspector": {
   "cols": {
    "lenName": 16,
    "lenType": 16,
    "lenVar": 40
   },
   "kernels_config": {
    "python": {
     "delete_cmd_postfix": "",
     "delete_cmd_prefix": "del ",
     "library": "var_list.py",
     "varRefreshCmd": "print(var_dic_list())"
    },
    "r": {
     "delete_cmd_postfix": ") ",
     "delete_cmd_prefix": "rm(",
     "library": "var_list.r",
     "varRefreshCmd": "cat(var_dic_list()) "
    }
   },
   "types_to_exclude": [
    "module",
    "function",
    "builtin_function_or_method",
    "instance",
    "_Feature"
   ],
   "window_display": false
  }
 },
 "nbformat": 4,
 "nbformat_minor": 1
}
