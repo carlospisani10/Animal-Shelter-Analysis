{
 "cells": [
  {
   "cell_type": "code",
   "execution_count": 1,
   "metadata": {
    "collapsed": true
   },
   "outputs": [],
   "source": [
    "# Dependencies\n",
    "import numpy as np\n",
    "import pandas as pd\n",
    "import scipy.stats as stats\n",
    "import matplotlib.pyplot as plt\n",
    "import math"
   ]
  },
  {
   "cell_type": "code",
   "execution_count": 2,
   "metadata": {
    "collapsed": true
   },
   "outputs": [],
   "source": [
    "# Generate \"Simulated\" Data\n",
    "# Racial and Ethnic Categories: https://grants.nih.gov/grants/guide/notice-files/NOT-OD-15-089.html\n",
    "categories = [\n",
    "    \"American Indian or Alaska Native\",  \n",
    "    \"Asian\", \n",
    "    \"Black or African American\", \n",
    "    \"Hispanic or Latino\", \n",
    "    \"Native Hawaiian or Other Pacific Islander\",\n",
    "    \"White\",\n",
    "    \"Other\"]\n",
    "sorority_races = np.random.choice(categories, 200, p=[0.01, 0.05, 0.10, 0.07, 0.02, 0.5, 0.25])\n",
    "university_races = np.random.choice(categories, 1000, p=[0.01, 0.06, 0.12, 0.24, 0.02, 0.5, 0.05])"
   ]
  },
  {
   "cell_type": "code",
   "execution_count": 3,
   "metadata": {},
   "outputs": [
    {
     "data": {
      "text/plain": [
       "White                                        108\n",
       "Other                                         46\n",
       "Black or African American                     22\n",
       "Asian                                         11\n",
       "Hispanic or Latino                             8\n",
       "Native Hawaiian or Other Pacific Islander      4\n",
       "American Indian or Alaska Native               1\n",
       "Name: 0, dtype: int64"
      ]
     },
     "execution_count": 3,
     "metadata": {},
     "output_type": "execute_result"
    }
   ],
   "source": [
    "sorority_pd = pd.DataFrame(sorority_races)\n",
    "sorority_counts = sorority_pd[0].value_counts()\n",
    "sorority_counts"
   ]
  },
  {
   "cell_type": "code",
   "execution_count": 4,
   "metadata": {},
   "outputs": [
    {
     "data": {
      "text/plain": [
       "White                                        481\n",
       "Hispanic or Latino                           257\n",
       "Black or African American                    115\n",
       "Asian                                         75\n",
       "Other                                         47\n",
       "Native Hawaiian or Other Pacific Islander     15\n",
       "American Indian or Alaska Native              10\n",
       "Name: 0, dtype: int64"
      ]
     },
     "execution_count": 4,
     "metadata": {},
     "output_type": "execute_result"
    }
   ],
   "source": [
    "university_pd = pd.DataFrame(university_races)\n",
    "university_counts = university_pd[0].value_counts()\n",
    "university_counts"
   ]
  },
  {
   "cell_type": "code",
   "execution_count": 5,
   "metadata": {},
   "outputs": [
    {
     "data": {
      "text/plain": [
       "White                                        0.481\n",
       "Hispanic or Latino                           0.257\n",
       "Black or African American                    0.115\n",
       "Asian                                        0.075\n",
       "Other                                        0.047\n",
       "Native Hawaiian or Other Pacific Islander    0.015\n",
       "American Indian or Alaska Native             0.010\n",
       "Name: 0, dtype: float64"
      ]
     },
     "execution_count": 5,
     "metadata": {},
     "output_type": "execute_result"
    }
   ],
   "source": [
    "university_ratios = university_pd[0].value_counts() / len(university_pd)\n",
    "university_ratios"
   ]
  },
  {
   "cell_type": "code",
   "execution_count": 6,
   "metadata": {},
   "outputs": [
    {
     "data": {
      "text/plain": [
       "White                                        96.2\n",
       "Hispanic or Latino                           51.4\n",
       "Black or African American                    23.0\n",
       "Asian                                        15.0\n",
       "Other                                         9.4\n",
       "Native Hawaiian or Other Pacific Islander     3.0\n",
       "American Indian or Alaska Native              2.0\n",
       "Name: 0, dtype: float64"
      ]
     },
     "execution_count": 6,
     "metadata": {},
     "output_type": "execute_result"
    }
   ],
   "source": [
    "sorority_expected = university_ratios * len(sorority_pd)\n",
    "sorority_expected"
   ]
  },
  {
   "cell_type": "code",
   "execution_count": 7,
   "metadata": {},
   "outputs": [
    {
     "data": {
      "text/plain": [
       "Power_divergenceResult(statistic=4.16670532166596, pvalue=0.65412809444327347)"
      ]
     },
     "execution_count": 7,
     "metadata": {},
     "output_type": "execute_result"
    }
   ],
   "source": [
    "# Run Chi-Square Test to determine goodness of fit\n",
    "stats.chisquare(f_obs=sorority_counts, f_exp=sorority_expected)"
   ]
  }
 ],
 "metadata": {
  "anaconda-cloud": {},
  "kernelspec": {
   "display_name": "Python 3",
   "language": "python",
   "name": "python3"
  },
  "language_info": {
   "codemirror_mode": {
    "name": "ipython",
    "version": 3
   },
   "file_extension": ".py",
   "mimetype": "text/x-python",
   "name": "python",
   "nbconvert_exporter": "python",
   "pygments_lexer": "ipython3",
   "version": "3.6.1"
  },
  "varInspector": {
   "cols": {
    "lenName": 16,
    "lenType": 16,
    "lenVar": 40
   },
   "kernels_config": {
    "python": {
     "delete_cmd_postfix": "",
     "delete_cmd_prefix": "del ",
     "library": "var_list.py",
     "varRefreshCmd": "print(var_dic_list())"
    },
    "r": {
     "delete_cmd_postfix": ") ",
     "delete_cmd_prefix": "rm(",
     "library": "var_list.r",
     "varRefreshCmd": "cat(var_dic_list()) "
    }
   },
   "types_to_exclude": [
    "module",
    "function",
    "builtin_function_or_method",
    "instance",
    "_Feature"
   ],
   "window_display": false
  }
 },
 "nbformat": 4,
 "nbformat_minor": 1
}
