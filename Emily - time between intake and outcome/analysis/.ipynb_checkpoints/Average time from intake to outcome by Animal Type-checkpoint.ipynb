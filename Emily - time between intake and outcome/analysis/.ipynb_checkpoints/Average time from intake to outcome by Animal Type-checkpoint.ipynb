{
 "cells": [
  {
   "cell_type": "code",
   "execution_count": 1,
   "metadata": {},
   "outputs": [],
   "source": [
    "#Dependencies\n",
    "import pandas as pd\n",
    "import numpy as np\n",
    "import datetime\n",
    "from matplotlib import pyplot, pylab\n",
    "import scipy.stats as stats\n",
    "import math\n"
   ]
  },
  {
   "cell_type": "code",
   "execution_count": 25,
   "metadata": {},
   "outputs": [],
   "source": [
    "#Read in the data\n",
    "austin_data = pd.read_csv(\"../../raw data/Austin_merged_data_with_time_deltas.csv\")\n",
    "louisville_data = pd.read_csv(\"../../raw data/Louisville_with_time_deltas_dogs_cats_only.csv\")"
   ]
  },
  {
   "cell_type": "code",
   "execution_count": 26,
   "metadata": {},
   "outputs": [
    {
     "data": {
      "text/plain": [
       "Dog    108384\n",
       "Cat     94108\n",
       "Name: Animal Type, dtype: int64"
      ]
     },
     "execution_count": 26,
     "metadata": {},
     "output_type": "execute_result"
    },
    {
     "data": {
      "text/html": [
       "<div>\n",
       "<style scoped>\n",
       "    .dataframe tbody tr th:only-of-type {\n",
       "        vertical-align: middle;\n",
       "    }\n",
       "\n",
       "    .dataframe tbody tr th {\n",
       "        vertical-align: top;\n",
       "    }\n",
       "\n",
       "    .dataframe thead th {\n",
       "        text-align: right;\n",
       "    }\n",
       "</style>\n",
       "<table border=\"1\" class=\"dataframe\">\n",
       "  <thead>\n",
       "    <tr style=\"text-align: right;\">\n",
       "      <th></th>\n",
       "      <th>index</th>\n",
       "      <th>Days from Intake to Outcome</th>\n",
       "      <th>Animal Type</th>\n",
       "      <th>City</th>\n",
       "    </tr>\n",
       "  </thead>\n",
       "  <tbody>\n",
       "    <tr>\n",
       "      <th>0</th>\n",
       "      <td>0</td>\n",
       "      <td>126.398611</td>\n",
       "      <td>Dog</td>\n",
       "      <td>Austin</td>\n",
       "    </tr>\n",
       "    <tr>\n",
       "      <th>1</th>\n",
       "      <td>1</td>\n",
       "      <td>4.138889</td>\n",
       "      <td>Dog</td>\n",
       "      <td>Austin</td>\n",
       "    </tr>\n",
       "    <tr>\n",
       "      <th>2</th>\n",
       "      <td>2</td>\n",
       "      <td>0.867361</td>\n",
       "      <td>Cat</td>\n",
       "      <td>Austin</td>\n",
       "    </tr>\n",
       "    <tr>\n",
       "      <th>3</th>\n",
       "      <td>3</td>\n",
       "      <td>4.711111</td>\n",
       "      <td>Dog</td>\n",
       "      <td>Austin</td>\n",
       "    </tr>\n",
       "    <tr>\n",
       "      <th>4</th>\n",
       "      <td>4</td>\n",
       "      <td>115.961111</td>\n",
       "      <td>Dog</td>\n",
       "      <td>Austin</td>\n",
       "    </tr>\n",
       "  </tbody>\n",
       "</table>\n",
       "</div>"
      ],
      "text/plain": [
       "   index  Days from Intake to Outcome Animal Type    City\n",
       "0      0                   126.398611         Dog  Austin\n",
       "1      1                     4.138889         Dog  Austin\n",
       "2      2                     0.867361         Cat  Austin\n",
       "3      3                     4.711111         Dog  Austin\n",
       "4      4                   115.961111         Dog  Austin"
      ]
     },
     "execution_count": 26,
     "metadata": {},
     "output_type": "execute_result"
    }
   ],
   "source": [
    "austin_data['City']='Austin'\n",
    "louisville_data['City']='Louisville'\n",
    "\n",
    "austin_data=austin_data.loc[:,['Days from Intake to Outcome','Animal Type_intake']]\n",
    "louisville_data=louisville_data.loc[:,['Days between Intake and Outcome','AnimalType']]\n",
    "\n",
    "austin_data=austin_data.rename(columns={\"Animal Type_intake\":\"Animal Type\"})\n",
    "louisville_data=louisville_data.rename(columns={\"AnimalType\":\"Animal Type\",\"Days between Intake and Outcome\":\"Days from Intake to Outcome\"})\n",
    "austin_data['City']='Austin'\n",
    "louisville_data['City']='Louisville'\n",
    "df=pd.concat([austin_data,louisville_data]).reset_index()\n",
    "\n",
    "#Get the outcome types to be named the same things across AUS and Louisville data\n",
    "\n",
    "df=df.replace(to_replace='DOG',value='Dog')\n",
    "df=df.replace(to_replace='CAT',value='Cat')\n"
   ]
  },
  {
   "cell_type": "code",
   "execution_count": 31,
   "metadata": {},
   "outputs": [
    {
     "data": {
      "text/plain": [
       "Dog    108384\n",
       "Cat     94108\n",
       "Name: Animal Type, dtype: int64"
      ]
     },
     "execution_count": 31,
     "metadata": {},
     "output_type": "execute_result"
    }
   ],
   "source": [
    "#include only data for Dogs and Cats\n",
    "group_by_animal_type=df.groupby(df['Animal Type'])\n",
    "\n",
    "#count up total dogs and cats\n",
    "df['Animal Type'].value_counts()"
   ]
  },
  {
   "cell_type": "code",
   "execution_count": null,
   "metadata": {},
   "outputs": [],
   "source": [
    "#create lists for boxplot showing intake times for cats vs dogs\n",
    "\n",
    "cats=[]\n",
    "dogs=[]\n",
    "\n",
    "for row in range(len(df)):\n",
    "    if (df.loc[row,'Animal Type']==\"Cat\") & (df.loc[row,'Days from Intake to Outcome']>0):\n",
    "        cats.append(df.loc[row,'Days from Intake to Outcome'])\n",
    "    elif (df.loc[row,'Animal Type']==\"Dog\") & (df.loc[row,'Days from Intake to Outcome']>0):\n",
    "        dogs.append(df.loc[row,'Days from Intake to Outcome'])\n",
    "    else:\n",
    "        continue"
   ]
  },
  {
   "cell_type": "code",
   "execution_count": 137,
   "metadata": {},
   "outputs": [],
   "source": [
    "%%capture\n",
    "\n",
    "#set up the figure\n",
    "data=[cats,dogs]\n",
    "labels=['Cats','Dogs']\n",
    "pyplot.boxplot(data, labels=labels, showfliers=False)\n",
    "pylab.title('Days from Intake to Outcome by Animal Type (Cats vs Dogs)\\n\\n')\n",
    "pylab.xlabel(\"\\nAnimal Type\")\n",
    "pylab.ylabel(\"Days from Intake to Outcome\\n\")"
   ]
  },
  {
   "cell_type": "code",
   "execution_count": 138,
   "metadata": {},
   "outputs": [
    {
     "name": "stdout",
     "output_type": "stream",
     "text": [
      "Mean values:\n",
      "Cats: 13.504\n",
      "Dogs: 13.543\n",
      "Standard Deviations:\n",
      "Cats: 32.467\n",
      "Dogs: 37.626\n",
      "\n",
      "Medians:\n",
      "Cats: 5.788\n",
      "Dogs: 6.308\n"
     ]
    },
    {
     "data": {
      "image/png": "[encoded data removed]",
      "text/plain": [
       "<matplotlib.figure.Figure at 0x10e7c9400>"
      ]
     },
     "metadata": {},
     "output_type": "display_data"
    }
   ],
   "source": [
    "#save box and whiskers plot to PNG file\n",
    "pyplot.savefig('../figures/time_to_outcome_by_animal_type.png')\n",
    "\n",
    "print(f\"Mean values:\\nCats: {round(np.mean(cats),3)}\\nDogs: {round(np.mean(dogs),3)}\")\n",
    "print(f\"Standard Deviations:\\nCats: {round(np.std(cats),3)}\\nDogs: {round(np.std(dogs),3)}\\n\")\n",
    "print(f\"Medians:\\nCats: {round(np.median(cats),3)}\\nDogs: {round(np.median(dogs),3)}\")\n",
    "\n",
    "#show box and whiskers plot\n",
    "pyplot.show()\n"
   ]
  },
  {
   "cell_type": "code",
   "execution_count": 134,
   "metadata": {},
   "outputs": [],
   "source": [
    "%%capture\n",
    "#Is this difference significant? (Probably not, but let's check because we can)\n",
    "\n",
    "#check for equality of variances (Levene's test)\n",
    "stats.levene(cats,dogs)\n",
    "\n",
    "#p = 0.41, do not reject the null hypothesis that variances are equal. (Assume equal variances)\n",
    "\n",
    "# Run 2-Sample T-Test\n",
    "result=stats.ttest_ind(cats, dogs, equal_var=True)"
   ]
  },
  {
   "cell_type": "code",
   "execution_count": 135,
   "metadata": {},
   "outputs": [
    {
     "name": "stdout",
     "output_type": "stream",
     "text": [
      "t = -0.206\n",
      "P = 0.837\n",
      "The difference is not significant.\n"
     ]
    }
   ],
   "source": [
    "print(f\"t = {round(result.statistic,3)}\\nP = {round(result.pvalue,3)}\\nThe difference is not significant.\")"
   ]
  }
 ],
 "metadata": {
  "kernelspec": {
   "display_name": "Python 3",
   "language": "python",
   "name": "python3"
  },
  "language_info": {
   "codemirror_mode": {
    "name": "ipython",
    "version": 3
   },
   "file_extension": ".py",
   "mimetype": "text/x-python",
   "name": "python",
   "nbconvert_exporter": "python",
   "pygments_lexer": "ipython3",
   "version": "3.6.3"
  }
 },
 "nbformat": 4,
 "nbformat_minor": 2
}
