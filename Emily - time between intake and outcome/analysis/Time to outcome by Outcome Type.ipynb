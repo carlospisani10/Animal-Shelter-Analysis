{
 "cells": [
  {
   "cell_type": "code",
   "execution_count": 1,
   "metadata": {},
   "outputs": [],
   "source": [
    "#Dependencies\n",
    "import pandas as pd\n",
    "import numpy as np\n",
    "import datetime\n",
    "from matplotlib import pyplot, pylab\n",
    "import scipy.stats as stats\n",
    "import math\n"
   ]
  },
  {
   "cell_type": "code",
   "execution_count": 2,
   "metadata": {},
   "outputs": [],
   "source": [
    "#Read in the data\n",
    "austin_data = pd.read_csv(\"../../raw data/Austin_merged_data_with_time_deltas.csv\")\n",
    "louisville_data = pd.read_csv(\"../../raw data/Louisville_with_time_deltas_dogs_cats_only.csv\")"
   ]
  },
  {
   "cell_type": "code",
   "execution_count": 3,
   "metadata": {},
   "outputs": [
    {
     "data": {
      "text/plain": [
       "Adoption           24338\n",
       "Transfer           20462\n",
       "Return to Owner     9496\n",
       "Euthanasia          2652\n",
       "Died                 504\n",
       "Rto-Adopt             80\n",
       "Missing               37\n",
       "Disposal              22\n",
       "Name: Outcome Type, dtype: int64"
      ]
     },
     "execution_count": 3,
     "metadata": {},
     "output_type": "execute_result"
    },
    {
     "data": {
      "text/plain": [
       "EUTH          68280\n",
       "ADOPTION      24682\n",
       "TRANSFER      17315\n",
       "RTO           14136\n",
       "FOSTER         4507\n",
       "RELEASED       3460\n",
       "TNR            3072\n",
       "DIED           2449\n",
       "DISPOSAL       1694\n",
       "TRANSPORT      1661\n",
       "MISSING        1283\n",
       "SNR            1085\n",
       "RTF             551\n",
       "RELOCATE        107\n",
       "ET PROCESS       51\n",
       "NO SHOW          47\n",
       "MISSING EX       19\n",
       "RELEASE           8\n",
       "LOST EXP          5\n",
       "INDEFINITE        1\n",
       "Name: OutcomeType, dtype: int64"
      ]
     },
     "execution_count": 3,
     "metadata": {},
     "output_type": "execute_result"
    }
   ],
   "source": [
    "austin_data['Outcome Type'].value_counts()\n",
    "louisville_data['OutcomeType'].value_counts()"
   ]
  },
  {
   "cell_type": "code",
   "execution_count": 4,
   "metadata": {},
   "outputs": [],
   "source": [
    "#Restrict our analysis to adoption, transfer, euthanasia, and death\n",
    "#Adoption\n",
    "\n",
    "austin_data=austin_data[austin_data['Outcome Type'].isin(['Adoption','Transfer','Euthanasia','Died'])]\n",
    "louisville_data=louisville_data[louisville_data['OutcomeType'].isin(['ADOPTION','EUTH','TRANSFER','DIED'])]\n",
    "\n",
    "austin_data['City']='Austin'\n",
    "louisville_data['City']='Louisville'\n",
    "\n",
    "austin_data=austin_data.rename(columns={\"Outcome Type\":\"OutcomeType\",\"Days from Intake to Outcome\":\"Days between Intake and Outcome\"})"
   ]
  },
  {
   "cell_type": "code",
   "execution_count": 5,
   "metadata": {},
   "outputs": [
    {
     "data": {
      "text/plain": [
       "Louisville    112726\n",
       "Austin         47956\n",
       "Name: City, dtype: int64"
      ]
     },
     "execution_count": 5,
     "metadata": {},
     "output_type": "execute_result"
    }
   ],
   "source": [
    "df=pd.concat([austin_data,louisville_data]).reset_index()\n",
    "\n",
    "df['City'].value_counts()"
   ]
  },
  {
   "cell_type": "code",
   "execution_count": 6,
   "metadata": {},
   "outputs": [
    {
     "data": {
      "text/plain": [
       "Euthanasia    70932\n",
       "Adoption      49020\n",
       "Transfer      37777\n",
       "Died           2953\n",
       "Name: OutcomeType, dtype: int64"
      ]
     },
     "execution_count": 6,
     "metadata": {},
     "output_type": "execute_result"
    }
   ],
   "source": [
    "#Get the outcome types to be named the same things across AUS and Louisville data\n",
    "\n",
    "df=df.replace(to_replace='ADOPTION',value='Adoption')\n",
    "df=df.replace(to_replace='EUTH',value='Euthanasia')\n",
    "df=df.replace(to_replace='TRANSFER',value='Transfer')\n",
    "df=df.replace(to_replace='DIED',value='Died')\n",
    "\n",
    "df['OutcomeType'].value_counts()"
   ]
  },
  {
   "cell_type": "code",
   "execution_count": 7,
   "metadata": {},
   "outputs": [],
   "source": [
    "#create lists for boxplot showing intake times for cats vs dogs\n",
    "\n",
    "adoption=[]\n",
    "euthanasia=[]\n",
    "transfer=[]\n",
    "died=[]\n",
    "\n",
    "#fill the lists\n",
    "for row in range(len(df)):    \n",
    "    if (df.loc[row,'Days between Intake and Outcome']>0) & (df.loc[row,'OutcomeType']=='Adoption'):\n",
    "        adoption.append(df.loc[row,'Days between Intake and Outcome'])\n",
    "    elif (df.loc[row,'Days between Intake and Outcome']>0) & (df.loc[row,'OutcomeType']=='Euthanasia'):\n",
    "        euthanasia.append(df.loc[row,'Days between Intake and Outcome'])        \n",
    "    elif (df.loc[row,'Days between Intake and Outcome']>0) & (df.loc[row,'OutcomeType']=='Transfer'):\n",
    "        transfer.append(df.loc[row,'Days between Intake and Outcome'])                \n",
    "    elif (df.loc[row,'Days between Intake and Outcome']>0) & (df.loc[row,'OutcomeType']=='Died'):\n",
    "        died.append(df.loc[row,'Days between Intake and Outcome'])                        \n",
    "    else:\n",
    "        continue"
   ]
  },
  {
   "cell_type": "code",
   "execution_count": 17,
   "metadata": {},
   "outputs": [],
   "source": [
    "%%capture\n",
    "\n",
    "#set up the figure\n",
    "data=[adoption, euthanasia, transfer, died]\n",
    "labels=['Adopted','Euthanized','Transferred','Died']\n",
    "pyplot.boxplot(data, labels=labels, showfliers=False)\n",
    "pylab.title('Days from Intake to Outcome by Outcome Type')\n",
    "pylab.xlabel(\"Outcome Type\")\n",
    "pylab.ylabel(\"Days from Intake to Outcome\")"
   ]
  },
  {
   "cell_type": "code",
   "execution_count": 18,
   "metadata": {},
   "outputs": [
    {
     "name": "stdout",
     "output_type": "stream",
     "text": [
      "Mean values:\n",
      "Adopted: 31.134\n",
      "Euthanized: 8.403\n",
      "Transferred: 11.792\n",
      "Died: 17.88\n",
      "\n",
      "Standard Deviations:\n",
      "Adopted: 55.158\n",
      "Euthanized: 17.42\n",
      "Transferred: 24.686\n",
      "Died: 64.101\n",
      "\n",
      "Medians:\n",
      "Adopted: 14.18\n",
      "Euthanized: 5.815\n",
      "Transferred: 5.106\n",
      "Died: 6.956\n"
     ]
    },
    {
     "data": {
      "image/png": "[encoded data removed]",
      "text/plain": [
       "<matplotlib.figure.Figure at 0x114b4fb00>"
      ]
     },
     "metadata": {},
     "output_type": "display_data"
    }
   ],
   "source": [
    "#save box and whiskers plot to PNG file\n",
    "pyplot.savefig('../figures/time_to_outcome_by_outcome_type.png')\n",
    "\n",
    "print(f\"Mean values:\\nAdopted: {round(np.mean(adoption),3)}\\nEuthanized: {round(np.mean(euthanasia),3)}\\nTransferred: {round(np.mean(transfer),3)}\\nDied: {round(np.mean(died),3)}\")\n",
    "print(f\"\\nStandard Deviations:\\nAdopted: {round(np.std(adoption),3)}\\nEuthanized: {round(np.std(euthanasia),3)}\\nTransferred: {round(np.std(transfer),3)}\\nDied: {round(np.std(died),3)}\")\n",
    "print(f\"\\nMedians:\\nAdopted: {round(np.median(adoption),3)}\\nEuthanized: {round(np.median(euthanasia),3)}\\nTransferred: {round(np.median(transfer),3)}\\nDied: {round(np.median(died),3)}\")\n",
    "\n",
    "#show box and whiskers plot\n",
    "pyplot.show()\n"
   ]
  },
  {
   "cell_type": "code",
   "execution_count": 19,
   "metadata": {},
   "outputs": [
    {
     "data": {
      "text/plain": [
       "F_onewayResult(statistic=4086.9711082211779, pvalue=0.0)"
      ]
     },
     "execution_count": 19,
     "metadata": {},
     "output_type": "execute_result"
    }
   ],
   "source": [
    "#ANOVA:\n",
    "stats.f_oneway(adoption, euthanasia, transfer, died)"
   ]
  }
 ],
 "metadata": {
  "kernelspec": {
   "display_name": "Python 3",
   "language": "python",
   "name": "python3"
  },
  "language_info": {
   "codemirror_mode": {
    "name": "ipython",
    "version": 3
   },
   "file_extension": ".py",
   "mimetype": "text/x-python",
   "name": "python",
   "nbconvert_exporter": "python",
   "pygments_lexer": "ipython3",
   "version": "3.6.3"
  }
 },
 "nbformat": 4,
 "nbformat_minor": 2
}
