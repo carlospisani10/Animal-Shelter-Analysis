{
 "cells": [
  {
   "cell_type": "code",
   "execution_count": 1,
   "metadata": {},
   "outputs": [],
   "source": [
    "#Dependencies\n",
    "import pandas as pd\n",
    "import numpy as np\n",
    "import datetime\n",
    "from matplotlib import pyplot, pylab\n",
    "import scipy.stats as stats\n",
    "import math\n"
   ]
  },
  {
   "cell_type": "code",
   "execution_count": 8,
   "metadata": {},
   "outputs": [
    {
     "data": {
      "text/plain": [
       "['Unnamed: 0',\n",
       " 'Animal ID',\n",
       " 'Name_intake',\n",
       " 'DateTime_intake',\n",
       " 'Found Location',\n",
       " 'Intake Type',\n",
       " 'Intake Condition',\n",
       " 'Animal Type_intake',\n",
       " 'Sex upon Intake',\n",
       " 'Age upon Intake',\n",
       " 'Breed_intake',\n",
       " 'Color_intake',\n",
       " 'Sex_intake',\n",
       " 'Female_intake',\n",
       " 'Male_intake',\n",
       " 'SpayNeuter_intake',\n",
       " 'Purebred_intake',\n",
       " 'NumAge_intake',\n",
       " 'AgeUnits_intake',\n",
       " 'AgeDays_intake',\n",
       " 'Name_outcome',\n",
       " 'DateTime_outcome',\n",
       " 'Date of Birth',\n",
       " 'Outcome Type',\n",
       " 'Outcome Subtype',\n",
       " 'Animal Type_outcome',\n",
       " 'Sex upon Outcome',\n",
       " 'Age upon Outcome',\n",
       " 'Breed_outcome',\n",
       " 'Color_outcome',\n",
       " 'Sex_outcome',\n",
       " 'Female_outcome',\n",
       " 'Male_outcome',\n",
       " 'SpayNeuter_outcome',\n",
       " 'Purebred_outcome',\n",
       " 'NumAge_outcome',\n",
       " 'AgeUnits_outcome',\n",
       " 'AgeDays_outcome',\n",
       " 'Days from Intake to Outcome']"
      ]
     },
     "execution_count": 8,
     "metadata": {},
     "output_type": "execute_result"
    }
   ],
   "source": [
    "#Read in the data\n",
    "austin_data= pd.read_csv(\"../../raw data/Austin_merged_data_with_time_deltas.csv\")\n",
    "\n",
    "list(austin_data)"
   ]
  },
  {
   "cell_type": "code",
   "execution_count": 46,
   "metadata": {},
   "outputs": [
    {
     "data": {
      "text/html": [
       "<div>\n",
       "<style scoped>\n",
       "    .dataframe tbody tr th:only-of-type {\n",
       "        vertical-align: middle;\n",
       "    }\n",
       "\n",
       "    .dataframe tbody tr th {\n",
       "        vertical-align: top;\n",
       "    }\n",
       "\n",
       "    .dataframe thead th {\n",
       "        text-align: right;\n",
       "    }\n",
       "</style>\n",
       "<table border=\"1\" class=\"dataframe\">\n",
       "  <thead>\n",
       "    <tr style=\"text-align: right;\">\n",
       "      <th></th>\n",
       "      <th>Age upon Intake</th>\n",
       "      <th>NumAge_intake</th>\n",
       "      <th>AgeUnits_intake</th>\n",
       "      <th>AgeDays_intake</th>\n",
       "    </tr>\n",
       "  </thead>\n",
       "  <tbody>\n",
       "    <tr>\n",
       "      <th>1</th>\n",
       "      <td>5 months</td>\n",
       "      <td>5.0</td>\n",
       "      <td>month</td>\n",
       "      <td>150.0</td>\n",
       "    </tr>\n",
       "    <tr>\n",
       "      <th>2</th>\n",
       "      <td>7 months</td>\n",
       "      <td>7.0</td>\n",
       "      <td>month</td>\n",
       "      <td>210.0</td>\n",
       "    </tr>\n",
       "    <tr>\n",
       "      <th>3</th>\n",
       "      <td>3 years</td>\n",
       "      <td>3.0</td>\n",
       "      <td>year</td>\n",
       "      <td>1095.0</td>\n",
       "    </tr>\n",
       "    <tr>\n",
       "      <th>4</th>\n",
       "      <td>4 weeks</td>\n",
       "      <td>4.0</td>\n",
       "      <td>week</td>\n",
       "      <td>28.0</td>\n",
       "    </tr>\n",
       "    <tr>\n",
       "      <th>5</th>\n",
       "      <td>2 months</td>\n",
       "      <td>2.0</td>\n",
       "      <td>month</td>\n",
       "      <td>60.0</td>\n",
       "    </tr>\n",
       "    <tr>\n",
       "      <th>6</th>\n",
       "      <td>1 month</td>\n",
       "      <td>1.0</td>\n",
       "      <td>month</td>\n",
       "      <td>30.0</td>\n",
       "    </tr>\n",
       "    <tr>\n",
       "      <th>7</th>\n",
       "      <td>2 months</td>\n",
       "      <td>2.0</td>\n",
       "      <td>month</td>\n",
       "      <td>60.0</td>\n",
       "    </tr>\n",
       "    <tr>\n",
       "      <th>8</th>\n",
       "      <td>1 year</td>\n",
       "      <td>1.0</td>\n",
       "      <td>year</td>\n",
       "      <td>365.0</td>\n",
       "    </tr>\n",
       "    <tr>\n",
       "      <th>9</th>\n",
       "      <td>5 months</td>\n",
       "      <td>5.0</td>\n",
       "      <td>month</td>\n",
       "      <td>150.0</td>\n",
       "    </tr>\n",
       "    <tr>\n",
       "      <th>10</th>\n",
       "      <td>1 month</td>\n",
       "      <td>1.0</td>\n",
       "      <td>month</td>\n",
       "      <td>30.0</td>\n",
       "    </tr>\n",
       "    <tr>\n",
       "      <th>11</th>\n",
       "      <td>1 month</td>\n",
       "      <td>1.0</td>\n",
       "      <td>month</td>\n",
       "      <td>30.0</td>\n",
       "    </tr>\n",
       "    <tr>\n",
       "      <th>12</th>\n",
       "      <td>2 months</td>\n",
       "      <td>2.0</td>\n",
       "      <td>month</td>\n",
       "      <td>60.0</td>\n",
       "    </tr>\n",
       "    <tr>\n",
       "      <th>13</th>\n",
       "      <td>2 years</td>\n",
       "      <td>2.0</td>\n",
       "      <td>year</td>\n",
       "      <td>730.0</td>\n",
       "    </tr>\n",
       "    <tr>\n",
       "      <th>14</th>\n",
       "      <td>1 year</td>\n",
       "      <td>1.0</td>\n",
       "      <td>year</td>\n",
       "      <td>365.0</td>\n",
       "    </tr>\n",
       "    <tr>\n",
       "      <th>15</th>\n",
       "      <td>2 years</td>\n",
       "      <td>2.0</td>\n",
       "      <td>year</td>\n",
       "      <td>730.0</td>\n",
       "    </tr>\n",
       "    <tr>\n",
       "      <th>16</th>\n",
       "      <td>2 years</td>\n",
       "      <td>2.0</td>\n",
       "      <td>year</td>\n",
       "      <td>730.0</td>\n",
       "    </tr>\n",
       "    <tr>\n",
       "      <th>17</th>\n",
       "      <td>3 months</td>\n",
       "      <td>3.0</td>\n",
       "      <td>month</td>\n",
       "      <td>90.0</td>\n",
       "    </tr>\n",
       "    <tr>\n",
       "      <th>18</th>\n",
       "      <td>1 month</td>\n",
       "      <td>1.0</td>\n",
       "      <td>month</td>\n",
       "      <td>30.0</td>\n",
       "    </tr>\n",
       "    <tr>\n",
       "      <th>19</th>\n",
       "      <td>2 years</td>\n",
       "      <td>2.0</td>\n",
       "      <td>year</td>\n",
       "      <td>730.0</td>\n",
       "    </tr>\n",
       "    <tr>\n",
       "      <th>20</th>\n",
       "      <td>1 year</td>\n",
       "      <td>1.0</td>\n",
       "      <td>year</td>\n",
       "      <td>365.0</td>\n",
       "    </tr>\n",
       "    <tr>\n",
       "      <th>21</th>\n",
       "      <td>3 weeks</td>\n",
       "      <td>3.0</td>\n",
       "      <td>week</td>\n",
       "      <td>21.0</td>\n",
       "    </tr>\n",
       "    <tr>\n",
       "      <th>22</th>\n",
       "      <td>3 years</td>\n",
       "      <td>3.0</td>\n",
       "      <td>year</td>\n",
       "      <td>1095.0</td>\n",
       "    </tr>\n",
       "    <tr>\n",
       "      <th>23</th>\n",
       "      <td>1 weeks</td>\n",
       "      <td>1.0</td>\n",
       "      <td>week</td>\n",
       "      <td>7.0</td>\n",
       "    </tr>\n",
       "    <tr>\n",
       "      <th>24</th>\n",
       "      <td>3 years</td>\n",
       "      <td>3.0</td>\n",
       "      <td>year</td>\n",
       "      <td>1095.0</td>\n",
       "    </tr>\n",
       "    <tr>\n",
       "      <th>25</th>\n",
       "      <td>3 months</td>\n",
       "      <td>3.0</td>\n",
       "      <td>month</td>\n",
       "      <td>90.0</td>\n",
       "    </tr>\n",
       "    <tr>\n",
       "      <th>26</th>\n",
       "      <td>9 months</td>\n",
       "      <td>9.0</td>\n",
       "      <td>month</td>\n",
       "      <td>270.0</td>\n",
       "    </tr>\n",
       "    <tr>\n",
       "      <th>27</th>\n",
       "      <td>4 weeks</td>\n",
       "      <td>4.0</td>\n",
       "      <td>week</td>\n",
       "      <td>28.0</td>\n",
       "    </tr>\n",
       "    <tr>\n",
       "      <th>28</th>\n",
       "      <td>2 years</td>\n",
       "      <td>2.0</td>\n",
       "      <td>year</td>\n",
       "      <td>730.0</td>\n",
       "    </tr>\n",
       "    <tr>\n",
       "      <th>29</th>\n",
       "      <td>1 year</td>\n",
       "      <td>1.0</td>\n",
       "      <td>year</td>\n",
       "      <td>365.0</td>\n",
       "    </tr>\n",
       "    <tr>\n",
       "      <th>30</th>\n",
       "      <td>3 weeks</td>\n",
       "      <td>3.0</td>\n",
       "      <td>week</td>\n",
       "      <td>21.0</td>\n",
       "    </tr>\n",
       "    <tr>\n",
       "      <th>31</th>\n",
       "      <td>9 months</td>\n",
       "      <td>9.0</td>\n",
       "      <td>month</td>\n",
       "      <td>270.0</td>\n",
       "    </tr>\n",
       "    <tr>\n",
       "      <th>32</th>\n",
       "      <td>1 year</td>\n",
       "      <td>1.0</td>\n",
       "      <td>year</td>\n",
       "      <td>365.0</td>\n",
       "    </tr>\n",
       "    <tr>\n",
       "      <th>33</th>\n",
       "      <td>7 years</td>\n",
       "      <td>7.0</td>\n",
       "      <td>year</td>\n",
       "      <td>2555.0</td>\n",
       "    </tr>\n",
       "    <tr>\n",
       "      <th>34</th>\n",
       "      <td>10 months</td>\n",
       "      <td>10.0</td>\n",
       "      <td>month</td>\n",
       "      <td>300.0</td>\n",
       "    </tr>\n",
       "    <tr>\n",
       "      <th>35</th>\n",
       "      <td>1 month</td>\n",
       "      <td>1.0</td>\n",
       "      <td>month</td>\n",
       "      <td>30.0</td>\n",
       "    </tr>\n",
       "    <tr>\n",
       "      <th>36</th>\n",
       "      <td>3 weeks</td>\n",
       "      <td>3.0</td>\n",
       "      <td>week</td>\n",
       "      <td>21.0</td>\n",
       "    </tr>\n",
       "    <tr>\n",
       "      <th>37</th>\n",
       "      <td>2 years</td>\n",
       "      <td>2.0</td>\n",
       "      <td>year</td>\n",
       "      <td>730.0</td>\n",
       "    </tr>\n",
       "    <tr>\n",
       "      <th>38</th>\n",
       "      <td>3 years</td>\n",
       "      <td>3.0</td>\n",
       "      <td>year</td>\n",
       "      <td>1095.0</td>\n",
       "    </tr>\n",
       "    <tr>\n",
       "      <th>39</th>\n",
       "      <td>5 years</td>\n",
       "      <td>5.0</td>\n",
       "      <td>year</td>\n",
       "      <td>1825.0</td>\n",
       "    </tr>\n",
       "    <tr>\n",
       "      <th>40</th>\n",
       "      <td>1 year</td>\n",
       "      <td>1.0</td>\n",
       "      <td>year</td>\n",
       "      <td>365.0</td>\n",
       "    </tr>\n",
       "    <tr>\n",
       "      <th>41</th>\n",
       "      <td>9 years</td>\n",
       "      <td>9.0</td>\n",
       "      <td>year</td>\n",
       "      <td>3285.0</td>\n",
       "    </tr>\n",
       "    <tr>\n",
       "      <th>42</th>\n",
       "      <td>1 week</td>\n",
       "      <td>1.0</td>\n",
       "      <td>week</td>\n",
       "      <td>7.0</td>\n",
       "    </tr>\n",
       "    <tr>\n",
       "      <th>43</th>\n",
       "      <td>3 years</td>\n",
       "      <td>3.0</td>\n",
       "      <td>year</td>\n",
       "      <td>1095.0</td>\n",
       "    </tr>\n",
       "    <tr>\n",
       "      <th>44</th>\n",
       "      <td>7 months</td>\n",
       "      <td>7.0</td>\n",
       "      <td>month</td>\n",
       "      <td>210.0</td>\n",
       "    </tr>\n",
       "    <tr>\n",
       "      <th>45</th>\n",
       "      <td>1 year</td>\n",
       "      <td>1.0</td>\n",
       "      <td>year</td>\n",
       "      <td>365.0</td>\n",
       "    </tr>\n",
       "    <tr>\n",
       "      <th>46</th>\n",
       "      <td>0 years</td>\n",
       "      <td>0.0</td>\n",
       "      <td>year</td>\n",
       "      <td>0.0</td>\n",
       "    </tr>\n",
       "    <tr>\n",
       "      <th>47</th>\n",
       "      <td>3 weeks</td>\n",
       "      <td>3.0</td>\n",
       "      <td>week</td>\n",
       "      <td>21.0</td>\n",
       "    </tr>\n",
       "    <tr>\n",
       "      <th>48</th>\n",
       "      <td>9 years</td>\n",
       "      <td>9.0</td>\n",
       "      <td>year</td>\n",
       "      <td>3285.0</td>\n",
       "    </tr>\n",
       "    <tr>\n",
       "      <th>49</th>\n",
       "      <td>4 years</td>\n",
       "      <td>4.0</td>\n",
       "      <td>year</td>\n",
       "      <td>1460.0</td>\n",
       "    </tr>\n",
       "    <tr>\n",
       "      <th>50</th>\n",
       "      <td>1 year</td>\n",
       "      <td>1.0</td>\n",
       "      <td>year</td>\n",
       "      <td>365.0</td>\n",
       "    </tr>\n",
       "  </tbody>\n",
       "</table>\n",
       "</div>"
      ],
      "text/plain": [
       "   Age upon Intake  NumAge_intake AgeUnits_intake  AgeDays_intake\n",
       "1         5 months            5.0           month           150.0\n",
       "2         7 months            7.0           month           210.0\n",
       "3          3 years            3.0            year          1095.0\n",
       "4          4 weeks            4.0            week            28.0\n",
       "5         2 months            2.0           month            60.0\n",
       "6          1 month            1.0           month            30.0\n",
       "7         2 months            2.0           month            60.0\n",
       "8           1 year            1.0            year           365.0\n",
       "9         5 months            5.0           month           150.0\n",
       "10         1 month            1.0           month            30.0\n",
       "11         1 month            1.0           month            30.0\n",
       "12        2 months            2.0           month            60.0\n",
       "13         2 years            2.0            year           730.0\n",
       "14          1 year            1.0            year           365.0\n",
       "15         2 years            2.0            year           730.0\n",
       "16         2 years            2.0            year           730.0\n",
       "17        3 months            3.0           month            90.0\n",
       "18         1 month            1.0           month            30.0\n",
       "19         2 years            2.0            year           730.0\n",
       "20          1 year            1.0            year           365.0\n",
       "21         3 weeks            3.0            week            21.0\n",
       "22         3 years            3.0            year          1095.0\n",
       "23         1 weeks            1.0            week             7.0\n",
       "24         3 years            3.0            year          1095.0\n",
       "25        3 months            3.0           month            90.0\n",
       "26        9 months            9.0           month           270.0\n",
       "27         4 weeks            4.0            week            28.0\n",
       "28         2 years            2.0            year           730.0\n",
       "29          1 year            1.0            year           365.0\n",
       "30         3 weeks            3.0            week            21.0\n",
       "31        9 months            9.0           month           270.0\n",
       "32          1 year            1.0            year           365.0\n",
       "33         7 years            7.0            year          2555.0\n",
       "34       10 months           10.0           month           300.0\n",
       "35         1 month            1.0           month            30.0\n",
       "36         3 weeks            3.0            week            21.0\n",
       "37         2 years            2.0            year           730.0\n",
       "38         3 years            3.0            year          1095.0\n",
       "39         5 years            5.0            year          1825.0\n",
       "40          1 year            1.0            year           365.0\n",
       "41         9 years            9.0            year          3285.0\n",
       "42          1 week            1.0            week             7.0\n",
       "43         3 years            3.0            year          1095.0\n",
       "44        7 months            7.0           month           210.0\n",
       "45          1 year            1.0            year           365.0\n",
       "46         0 years            0.0            year             0.0\n",
       "47         3 weeks            3.0            week            21.0\n",
       "48         9 years            9.0            year          3285.0\n",
       "49         4 years            4.0            year          1460.0\n",
       "50          1 year            1.0            year           365.0"
      ]
     },
     "execution_count": 46,
     "metadata": {},
     "output_type": "execute_result"
    }
   ],
   "source": [
    "austin_data.loc[1:50,['Age upon Intake','NumAge_intake','AgeUnits_intake','AgeDays_intake']]"
   ]
  },
  {
   "cell_type": "code",
   "execution_count": 31,
   "metadata": {},
   "outputs": [
    {
     "data": {
      "text/plain": [
       "57593"
      ]
     },
     "execution_count": 31,
     "metadata": {},
     "output_type": "execute_result"
    },
    {
     "data": {
      "text/plain": [
       "57593"
      ]
     },
     "execution_count": 31,
     "metadata": {},
     "output_type": "execute_result"
    },
    {
     "name": "stdout",
     "output_type": "stream",
     "text": [
      "Average age: 742.24 days\n",
      "Average time to outcome: 16.86 days\n"
     ]
    }
   ],
   "source": [
    "#Plot age at intake against Days from Intake to Outcome\n",
    "\n",
    "x=austin_data['AgeDays_intake']\n",
    "y=austin_data['Days from Intake to Outcome']\n",
    "\n",
    "len(x)\n",
    "len(y)\n",
    "\n",
    "print(f\"Average age: {round(np.mean(x),2)} days\")\n",
    "print(f\"Average time to outcome: {round(np.mean(y),2)} days\")"
   ]
  },
  {
   "cell_type": "code",
   "execution_count": 40,
   "metadata": {},
   "outputs": [],
   "source": [
    "#remove outliers\n",
    "\n",
    "x_max=np.mean(x)+(3*np.std(x))\n",
    "x_min=np.mean(x)-(3*np.std(x))\n",
    "y_max=np.mean(y)+(3*np.std(y))\n",
    "y_min=np.mean(y)-(3*np.std(y))\n",
    "\n",
    "austin_data_outliers_removed=austin_data[(austin_data['AgeDays_intake'] < x_max) \n",
    "                                         & (austin_data['AgeDays_intake'] > x_min)\n",
    "                                         & (austin_data['Days from Intake to Outcome'] < y_max)                                        \n",
    "                                         & (austin_data['Days from Intake to Outcome'] > y_min)]"
   ]
  },
  {
   "cell_type": "code",
   "execution_count": 41,
   "metadata": {},
   "outputs": [
    {
     "data": {
      "text/plain": [
       "57593"
      ]
     },
     "execution_count": 41,
     "metadata": {},
     "output_type": "execute_result"
    },
    {
     "data": {
      "text/plain": [
       "55055"
      ]
     },
     "execution_count": 41,
     "metadata": {},
     "output_type": "execute_result"
    }
   ],
   "source": [
    "len(austin_data)\n",
    "len(austin_data_outliers_removed)"
   ]
  },
  {
   "cell_type": "markdown",
   "metadata": {},
   "source": [
    "# All Animals"
   ]
  },
  {
   "cell_type": "code",
   "execution_count": 84,
   "metadata": {},
   "outputs": [
    {
     "name": "stdout",
     "output_type": "stream",
     "text": [
      "\n",
      "\n",
      "ALL ANIMALS:\n",
      "Coefficient: -0.0014329168427347173\n",
      "R-squared: -0.057230701424258755\n",
      "P-value: 0.0\n",
      "\n",
      "The correlation is significant, although the effect size is very small\n"
     ]
    }
   ],
   "source": [
    "#Redefine data for analysis using subset of data without outliers\n",
    "x=austin_data_outliers_removed['AgeDays_intake']\n",
    "y=austin_data_outliers_removed['Days from Intake to Outcome']\n",
    "\n",
    "#Regression\n",
    "coefficient,intercept,r_squared,p_value,std_err=stats.linregress(x,y)    \n",
    "\n",
    "print(\"\\n\\nALL ANIMALS:\")\n",
    "print(f\"Coefficient: {coefficient}\")\n",
    "print(f\"R-squared: {r_squared}\")\n",
    "print(f\"P-value: {round(p_value,3)}\")\n",
    "print(\"\\nThe correlation is significant, although the effect size is very small\")"
   ]
  },
  {
   "cell_type": "code",
   "execution_count": 85,
   "metadata": {},
   "outputs": [],
   "source": [
    "%%capture\n",
    "pyplot.scatter(x,y)\n",
    "pyplot.plot([1,100])\n",
    "pylab.xlabel(\"\\nAge at intake (days)\")\n",
    "pylab.ylabel(\"Time from Intake to Outcome (days)\\n\")\n",
    "pylab.title(\"Age vs Time to Outcome (All Animals)\\n\")\n",
    "z = np.polyfit(x, y, 1)\n",
    "p = np.poly1d(z)\n",
    "pyplot.plot(x,p(x),\"r--\")"
   ]
  },
  {
   "cell_type": "code",
   "execution_count": 86,
   "metadata": {},
   "outputs": [
    {
     "data": {
      "image/png": "[encoded data removed]",
      "text/plain": [
       "<matplotlib.figure.Figure at 0x111175ac8>"
      ]
     },
     "metadata": {},
     "output_type": "display_data"
    }
   ],
   "source": [
    "#Save and Draw Plots\n",
    "#Age vs. Time to Outcome for Euthanized animals\n",
    "pyplot.savefig('../figures/age_vs_time_to_outcome_ALL.png')\n",
    "\n",
    "pyplot.show()"
   ]
  },
  {
   "cell_type": "markdown",
   "metadata": {},
   "source": [
    "# Adopted vs Euthanized Animals"
   ]
  },
  {
   "cell_type": "code",
   "execution_count": 87,
   "metadata": {},
   "outputs": [
    {
     "data": {
      "text/plain": [
       "Adoption           23264\n",
       "Transfer           20077\n",
       "Return to Owner     8741\n",
       "Euthanasia          2355\n",
       "Died                 486\n",
       "Rto-Adopt             76\n",
       "Missing               34\n",
       "Disposal              21\n",
       "Name: Outcome Type, dtype: int64"
      ]
     },
     "execution_count": 87,
     "metadata": {},
     "output_type": "execute_result"
    }
   ],
   "source": [
    "#Plot separately for outcome types\n",
    "\n",
    "austin_data_outliers_removed['Outcome Type'].value_counts()\n",
    "\n",
    "adoption=austin_data_outliers_removed[austin_data_outliers_removed['Outcome Type']=='Adoption']\n",
    "euthanasia=austin_data_outliers_removed[austin_data_outliers_removed['Outcome Type']=='Euthanasia']"
   ]
  },
  {
   "cell_type": "code",
   "execution_count": 88,
   "metadata": {},
   "outputs": [
    {
     "name": "stdout",
     "output_type": "stream",
     "text": [
      "\n",
      "\n",
      "ADOPTED ANIMALS:\n",
      "Coefficient: -0.0007430668781439313\n",
      "R-squared: -0.020098228288934525\n",
      "P-value: 0.002\n",
      "\n",
      "The correlation is significant, but the effect size is very small\n"
     ]
    }
   ],
   "source": [
    "#Age vs. Time to Outcome for Adopted animals\n",
    "\n",
    "#Redefine data for analysis using subset of data without outliers\n",
    "x=adoption['AgeDays_intake']\n",
    "y=adoption['Days from Intake to Outcome']\n",
    "\n",
    "#Regression\n",
    "coefficient,intercept,r_squared,p_value,std_err=stats.linregress(x,y)    \n",
    "\n",
    "print(\"\\n\\nADOPTED ANIMALS:\")\n",
    "print(f\"Coefficient: {coefficient}\")\n",
    "print(f\"R-squared: {r_squared}\")\n",
    "print(f\"P-value: {round(p_value,3)}\")\n",
    "print(\"\\nThe correlation is significant, but the effect size is very small\")"
   ]
  },
  {
   "cell_type": "code",
   "execution_count": 89,
   "metadata": {},
   "outputs": [],
   "source": [
    "%%capture \n",
    "pyplot.scatter(x,y)\n",
    "pyplot.plot([1,100])\n",
    "pylab.xlabel(\"\\nAge at intake (days)\")\n",
    "pylab.ylabel(\"Time from Intake to Outcome (days)\\n\")\n",
    "pylab.title(\"Age vs Time to Outcome (Adopted Animals Only)\\n\")\n",
    "z = np.polyfit(x, y, 1)\n",
    "p = np.poly1d(z)\n",
    "pyplot.plot(x,p(x),\"r--\")"
   ]
  },
  {
   "cell_type": "code",
   "execution_count": 90,
   "metadata": {},
   "outputs": [
    {
     "data": {
      "image/png": "[encoded data removed]",
      "text/plain": [
       "<matplotlib.figure.Figure at 0x1103b9be0>"
      ]
     },
     "metadata": {},
     "output_type": "display_data"
    }
   ],
   "source": [
    "#Save and Draw Plots\n",
    "#Age vs. Time to Outcome for Euthanized animals\n",
    "pyplot.savefig('../figures/age_vs_time_to_outcome_Adoption.png')\n",
    "\n",
    "pyplot.show()"
   ]
  },
  {
   "cell_type": "code",
   "execution_count": 91,
   "metadata": {},
   "outputs": [
    {
     "name": "stdout",
     "output_type": "stream",
     "text": [
      "\n",
      "\n",
      "EUTHANIZED ANIMALS:\n",
      "Coefficient: -0.00011838458126282147\n",
      "R-squared: -0.00902929422301661\n",
      "P-value: 0.661\n",
      "\n",
      "The correlation is not significant\n"
     ]
    }
   ],
   "source": [
    "#Age vs. Time to Outcome for Euthanized animals\n",
    "\n",
    "#Redefine data for analysis using subset of data without outliers\n",
    "x=euthanasia['AgeDays_intake']\n",
    "y=euthanasia['Days from Intake to Outcome']\n",
    "\n",
    "#Regression\n",
    "coefficient,intercept,r_squared,p_value,std_err=stats.linregress(x,y)    \n",
    "\n",
    "print(\"\\n\\nEUTHANIZED ANIMALS:\")\n",
    "print(f\"Coefficient: {coefficient}\")\n",
    "print(f\"R-squared: {r_squared}\")\n",
    "print(f\"P-value: {round(p_value,3)}\")\n",
    "print(\"\\nThe correlation is not significant\")"
   ]
  },
  {
   "cell_type": "code",
   "execution_count": 100,
   "metadata": {},
   "outputs": [],
   "source": [
    "%%capture\n",
    "pyplot.scatter(x,y)\n",
    "pyplot.plot([1,100])\n",
    "pylab.xlabel(\"\\nAge at intake (days)\")\n",
    "pylab.ylabel(\"Time from Intake to Outcome (days)\\n\")\n",
    "pylab.title(\"Age vs Time to Outcome (Euthanized Animals Only)\\n\")\n",
    "z = np.polyfit(x, y, 1)\n",
    "p = np.poly1d(z)\n",
    "pyplot.plot(x,p(x),\"r--\")"
   ]
  },
  {
   "cell_type": "code",
   "execution_count": 101,
   "metadata": {},
   "outputs": [
    {
     "name": "stdout",
     "output_type": "stream",
     "text": [
      "\n",
      "\n",
      "EUTHANIZED ANIMALS:\n",
      "Coefficient: -0.00011838458126282147\n",
      "R-squared: -0.00902929422301661\n",
      "P-value: 0.661\n",
      "\n",
      "The correlation is significant, although the effect size is very small\n"
     ]
    }
   ],
   "source": [
    "print(\"\\n\\nEUTHANIZED ANIMALS:\")\n",
    "print(f\"Coefficient: {coefficient}\")\n",
    "print(f\"R-squared: {r_squared}\")\n",
    "print(f\"P-value: {round(p_value,3)}\")\n",
    "print(\"\\nThe correlation is significant, although the effect size is very small\")"
   ]
  },
  {
   "cell_type": "code",
   "execution_count": 102,
   "metadata": {},
   "outputs": [
    {
     "data": {
      "image/png": "[encoded data removed]",
      "text/plain": [
       "<matplotlib.figure.Figure at 0x1108f6a20>"
      ]
     },
     "metadata": {},
     "output_type": "display_data"
    }
   ],
   "source": [
    "#Save and Draw Plots\n",
    "#Age vs. Time to Outcome for Euthanized animals\n",
    "pyplot.savefig('../figures/age_vs_time_to_outcome_Euthanasia.png')\n",
    "\n",
    "pyplot.show()"
   ]
  },
  {
   "cell_type": "markdown",
   "metadata": {},
   "source": [
    "# Cats vs Dogs (Adopted animals only)"
   ]
  },
  {
   "cell_type": "code",
   "execution_count": 129,
   "metadata": {},
   "outputs": [
    {
     "data": {
      "text/plain": [
       "Dog    13255\n",
       "Cat    10009\n",
       "Name: Animal Type_intake, dtype: int64"
      ]
     },
     "execution_count": 129,
     "metadata": {},
     "output_type": "execute_result"
    }
   ],
   "source": [
    "#Plot separately for Cats and Dogs (separate colors)\n",
    "\n",
    "adoption['Animal Type_intake'].value_counts()\n",
    "\n",
    "dogs=adoption[adoption['Animal Type_intake']=='Dog']\n",
    "cats=adoption[adoption['Animal Type_intake']=='Cat']\n"
   ]
  },
  {
   "cell_type": "code",
   "execution_count": 142,
   "metadata": {},
   "outputs": [
    {
     "name": "stdout",
     "output_type": "stream",
     "text": [
      "\n",
      "\n",
      "CATS:\n",
      "----------------\n",
      "Average age (days): 283.81\n",
      "Median age (days): 30.0\n",
      "Average time to outcome (days): 31.76\n",
      "Median time to outcome (days): 24.43\n",
      "\n",
      "Regression model:\n",
      "Coefficient: -0.002\n",
      "R-squared: -0.039\n",
      "P-value: 0.0\n",
      "\n",
      "The correlation is significant, but the effect size is small\n",
      "\n",
      "For CATS, younger animals are generally adopted less quickly than older animals\n"
     ]
    }
   ],
   "source": [
    "#CATS\n",
    "\n",
    "#Redefine data for analysis using subset of data without outliers\n",
    "x=cats['AgeDays_intake']\n",
    "y=cats['Days from Intake to Outcome']\n",
    "#Regression\n",
    "coefficient,intercept,r_squared,p_value,std_err=stats.linregress(x,y)    \n",
    "\n",
    "print(\"\\n\\nCATS:\\n----------------\")\n",
    "print(f\"Average age (days): {round(np.mean(x),2)}\")\n",
    "print(f\"Median age (days): {round(np.median(x),2)}\")\n",
    "print(f\"Average time to outcome (days): {round(np.mean(y),2)}\")\n",
    "print(f\"Median time to outcome (days): {round(np.median(y),2)}\")\n",
    "print(\"\\nRegression model:\")\n",
    "print(f\"Coefficient: {round(coefficient,3)}\")\n",
    "print(f\"R-squared: {round(r_squared,3)}\")\n",
    "print(f\"P-value: {round(p_value,3)}\")\n",
    "print(\"\\nThe correlation is significant, but the effect size is small\")\n",
    "print(\"\\nFor CATS, younger animals are generally adopted less quickly than older animals\")"
   ]
  },
  {
   "cell_type": "code",
   "execution_count": 143,
   "metadata": {},
   "outputs": [],
   "source": [
    "%%capture\n",
    "pyplot.scatter(x,y)\n",
    "pyplot.plot([1,100])\n",
    "pylab.xlabel(\"\\nAge at intake (days)\")\n",
    "pylab.ylabel(\"Time from Intake to Outcome (days)\\n\")\n",
    "pylab.title(\"Age vs Time to Outcome (Cats Only)\\n\")\n",
    "z = np.polyfit(x, y, 1)\n",
    "p = np.poly1d(z)\n",
    "pyplot.plot(x,p(x),\"r--\")"
   ]
  },
  {
   "cell_type": "code",
   "execution_count": 144,
   "metadata": {},
   "outputs": [
    {
     "data": {
      "image/png": "[encoded data removed]",
      "text/plain": [
       "<matplotlib.figure.Figure at 0x12459dd30>"
      ]
     },
     "metadata": {},
     "output_type": "display_data"
    }
   ],
   "source": [
    "#Save and Draw Plots\n",
    "#Age vs. Time to Outcome for Euthanized animals\n",
    "pyplot.savefig('../figures/age_vs_time_to_outcome_Cats.png')\n",
    "\n",
    "pyplot.show()"
   ]
  },
  {
   "cell_type": "code",
   "execution_count": 145,
   "metadata": {},
   "outputs": [
    {
     "name": "stdout",
     "output_type": "stream",
     "text": [
      "\n",
      "\n",
      "DOGS:\n",
      "----------------\n",
      "Average age (days): 601.17\n",
      "Median age (days): 365.0\n",
      "Average time to outcome (days): 16.35\n",
      "Median time to outcome (days): 6.23\n",
      "\n",
      "Regression model:\n",
      "Coefficient: 0.004\n",
      "R-squared: 0.124\n",
      "P-value: 0.0\n",
      "\n",
      "The correlation is significant, but the effect size is small\n",
      "\n",
      "For DOGS, younger animals are generally adopted more quickly than older animals\n"
     ]
    }
   ],
   "source": [
    "#CATS\n",
    "\n",
    "#Redefine data for analysis using subset of data without outliers\n",
    "x=dogs['AgeDays_intake']\n",
    "y=dogs['Days from Intake to Outcome']\n",
    "#Regression\n",
    "coefficient,intercept,r_squared,p_value,std_err=stats.linregress(x,y)    \n",
    "\n",
    "print(\"\\n\\nDOGS:\\n----------------\")\n",
    "print(f\"Average age (days): {round(np.mean(x),2)}\")\n",
    "print(f\"Median age (days): {round(np.median(x),2)}\")\n",
    "print(f\"Average time to outcome (days): {round(np.mean(y),2)}\")\n",
    "print(f\"Median time to outcome (days): {round(np.median(y),2)}\")\n",
    "print(\"\\nRegression model:\")\n",
    "print(f\"Coefficient: {round(coefficient,3)}\")\n",
    "print(f\"R-squared: {round(r_squared,3)}\")\n",
    "print(f\"P-value: {round(p_value,3)}\")\n",
    "print(\"\\nThe correlation is significant, but the effect size is small\")\n",
    "print(\"\\nFor DOGS, younger animals are generally adopted more quickly than older animals\")"
   ]
  },
  {
   "cell_type": "code",
   "execution_count": 146,
   "metadata": {},
   "outputs": [],
   "source": [
    "%%capture\n",
    "pyplot.scatter(x,y)\n",
    "pyplot.plot([1,100])\n",
    "pylab.xlabel(\"\\nAge at intake (days)\")\n",
    "pylab.ylabel(\"Time from Intake to Outcome (days)\\n\")\n",
    "pylab.title(\"Age vs Time to Outcome (Dogs Only)\\n\")\n",
    "z = np.polyfit(x, y, 1)\n",
    "p = np.poly1d(z)\n",
    "pyplot.plot(x,p(x),\"r--\")"
   ]
  },
  {
   "cell_type": "code",
   "execution_count": 147,
   "metadata": {},
   "outputs": [
    {
     "data": {
      "image/png": "[encoded data removed]",
      "text/plain": [
       "<matplotlib.figure.Figure at 0x124d34d68>"
      ]
     },
     "metadata": {},
     "output_type": "display_data"
    }
   ],
   "source": [
    "#Save and Draw Plots\n",
    "#Age vs. Time to Outcome for Euthanized animals\n",
    "pyplot.savefig('../figures/age_vs_time_to_outcome_Dogs.png')\n",
    "\n",
    "pyplot.show()"
   ]
  }
 ],
 "metadata": {
  "kernelspec": {
   "display_name": "Python 3",
   "language": "python",
   "name": "python3"
  },
  "language_info": {
   "codemirror_mode": {
    "name": "ipython",
    "version": 3
   },
   "file_extension": ".py",
   "mimetype": "text/x-python",
   "name": "python",
   "nbconvert_exporter": "python",
   "pygments_lexer": "ipython3",
   "version": "3.6.3"
  }
 },
 "nbformat": 4,
 "nbformat_minor": 2
}
