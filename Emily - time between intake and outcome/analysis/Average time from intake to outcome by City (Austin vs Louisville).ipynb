{
 "cells": [
  {
   "cell_type": "code",
   "execution_count": 1,
   "metadata": {},
   "outputs": [],
   "source": [
    "#Dependencies\n",
    "import pandas as pd\n",
    "import numpy as np\n",
    "import datetime\n",
    "from matplotlib import pyplot, pylab\n",
    "import scipy.stats as stats\n",
    "import math\n"
   ]
  },
  {
   "cell_type": "code",
   "execution_count": 25,
   "metadata": {},
   "outputs": [
    {
     "data": {
      "text/html": [
       "<div>\n",
       "<style scoped>\n",
       "    .dataframe tbody tr th:only-of-type {\n",
       "        vertical-align: middle;\n",
       "    }\n",
       "\n",
       "    .dataframe tbody tr th {\n",
       "        vertical-align: top;\n",
       "    }\n",
       "\n",
       "    .dataframe thead th {\n",
       "        text-align: right;\n",
       "    }\n",
       "</style>\n",
       "<table border=\"1\" class=\"dataframe\">\n",
       "  <thead>\n",
       "    <tr style=\"text-align: right;\">\n",
       "      <th></th>\n",
       "      <th>Days between Intake and Outcome</th>\n",
       "      <th>City</th>\n",
       "    </tr>\n",
       "  </thead>\n",
       "  <tbody>\n",
       "    <tr>\n",
       "      <th>0</th>\n",
       "      <td>5.205556</td>\n",
       "      <td>Louisville</td>\n",
       "    </tr>\n",
       "    <tr>\n",
       "      <th>1</th>\n",
       "      <td>9.409722</td>\n",
       "      <td>Louisville</td>\n",
       "    </tr>\n",
       "    <tr>\n",
       "      <th>2</th>\n",
       "      <td>0.815278</td>\n",
       "      <td>Louisville</td>\n",
       "    </tr>\n",
       "    <tr>\n",
       "      <th>3</th>\n",
       "      <td>10.876389</td>\n",
       "      <td>Louisville</td>\n",
       "    </tr>\n",
       "    <tr>\n",
       "      <th>4</th>\n",
       "      <td>10.786111</td>\n",
       "      <td>Louisville</td>\n",
       "    </tr>\n",
       "  </tbody>\n",
       "</table>\n",
       "</div>"
      ],
      "text/plain": [
       "   Days between Intake and Outcome        City\n",
       "0                         5.205556  Louisville\n",
       "1                         9.409722  Louisville\n",
       "2                         0.815278  Louisville\n",
       "3                        10.876389  Louisville\n",
       "4                        10.786111  Louisville"
      ]
     },
     "execution_count": 25,
     "metadata": {},
     "output_type": "execute_result"
    }
   ],
   "source": [
    "#Read in the data\n",
    "austin_data = pd.read_csv(\"../../raw data/Austin_merged_data_with_time_deltas.csv\")\n",
    "louisville_data = pd.read_csv(\"../../raw data/Louisville_with_time_deltas_dogs_cats_only.csv\")\n",
    "\n"
   ]
  },
  {
   "cell_type": "code",
   "execution_count": 29,
   "metadata": {},
   "outputs": [
    {
     "data": {
      "text/html": [
       "<div>\n",
       "<style scoped>\n",
       "    .dataframe tbody tr th:only-of-type {\n",
       "        vertical-align: middle;\n",
       "    }\n",
       "\n",
       "    .dataframe tbody tr th {\n",
       "        vertical-align: top;\n",
       "    }\n",
       "\n",
       "    .dataframe thead th {\n",
       "        text-align: right;\n",
       "    }\n",
       "</style>\n",
       "<table border=\"1\" class=\"dataframe\">\n",
       "  <thead>\n",
       "    <tr style=\"text-align: right;\">\n",
       "      <th></th>\n",
       "      <th>Days from Intake to Outcome</th>\n",
       "      <th>City</th>\n",
       "    </tr>\n",
       "  </thead>\n",
       "  <tbody>\n",
       "    <tr>\n",
       "      <th>0</th>\n",
       "      <td>126.398611</td>\n",
       "      <td>Austin</td>\n",
       "    </tr>\n",
       "    <tr>\n",
       "      <th>1</th>\n",
       "      <td>4.138889</td>\n",
       "      <td>Austin</td>\n",
       "    </tr>\n",
       "    <tr>\n",
       "      <th>2</th>\n",
       "      <td>0.867361</td>\n",
       "      <td>Austin</td>\n",
       "    </tr>\n",
       "    <tr>\n",
       "      <th>3</th>\n",
       "      <td>4.711111</td>\n",
       "      <td>Austin</td>\n",
       "    </tr>\n",
       "    <tr>\n",
       "      <th>4</th>\n",
       "      <td>115.961111</td>\n",
       "      <td>Austin</td>\n",
       "    </tr>\n",
       "  </tbody>\n",
       "</table>\n",
       "</div>"
      ],
      "text/plain": [
       "   Days from Intake to Outcome    City\n",
       "0                   126.398611  Austin\n",
       "1                     4.138889  Austin\n",
       "2                     0.867361  Austin\n",
       "3                     4.711111  Austin\n",
       "4                   115.961111  Austin"
      ]
     },
     "execution_count": 29,
     "metadata": {},
     "output_type": "execute_result"
    },
    {
     "data": {
      "text/html": [
       "<div>\n",
       "<style scoped>\n",
       "    .dataframe tbody tr th:only-of-type {\n",
       "        vertical-align: middle;\n",
       "    }\n",
       "\n",
       "    .dataframe tbody tr th {\n",
       "        vertical-align: top;\n",
       "    }\n",
       "\n",
       "    .dataframe thead th {\n",
       "        text-align: right;\n",
       "    }\n",
       "</style>\n",
       "<table border=\"1\" class=\"dataframe\">\n",
       "  <thead>\n",
       "    <tr style=\"text-align: right;\">\n",
       "      <th></th>\n",
       "      <th>Days between Intake and Outcome</th>\n",
       "      <th>City</th>\n",
       "    </tr>\n",
       "  </thead>\n",
       "  <tbody>\n",
       "    <tr>\n",
       "      <th>0</th>\n",
       "      <td>5.205556</td>\n",
       "      <td>Louisville</td>\n",
       "    </tr>\n",
       "    <tr>\n",
       "      <th>1</th>\n",
       "      <td>9.409722</td>\n",
       "      <td>Louisville</td>\n",
       "    </tr>\n",
       "    <tr>\n",
       "      <th>2</th>\n",
       "      <td>0.815278</td>\n",
       "      <td>Louisville</td>\n",
       "    </tr>\n",
       "    <tr>\n",
       "      <th>3</th>\n",
       "      <td>10.876389</td>\n",
       "      <td>Louisville</td>\n",
       "    </tr>\n",
       "    <tr>\n",
       "      <th>4</th>\n",
       "      <td>10.786111</td>\n",
       "      <td>Louisville</td>\n",
       "    </tr>\n",
       "  </tbody>\n",
       "</table>\n",
       "</div>"
      ],
      "text/plain": [
       "   Days between Intake and Outcome        City\n",
       "0                         5.205556  Louisville\n",
       "1                         9.409722  Louisville\n",
       "2                         0.815278  Louisville\n",
       "3                        10.876389  Louisville\n",
       "4                        10.786111  Louisville"
      ]
     },
     "execution_count": 29,
     "metadata": {},
     "output_type": "execute_result"
    }
   ],
   "source": [
    "austin_data['City']='Austin'\n",
    "louisville_data['City']='Louisville'\n",
    "\n",
    "austin_data=austin_data.loc[:,['Days from Intake to Outcome','City']]\n",
    "louisville_data=louisville_data.loc[:,['Days between Intake and Outcome','City']]\n",
    "\n",
    "austin_data.head()\n",
    "louisville_data.head()"
   ]
  },
  {
   "cell_type": "code",
   "execution_count": 30,
   "metadata": {},
   "outputs": [],
   "source": [
    "#create lists for boxplot showing intake times for cats vs dogs\n",
    "\n",
    "austin=[]\n",
    "louisville=[]\n",
    "\n",
    "#fill the Louisville list\n",
    "for row in range(len(louisville_data)):\n",
    "    if louisville_data.loc[row,'Days between Intake and Outcome']>0:\n",
    "        louisville.append(louisville_data.loc[row,'Days between Intake and Outcome'])\n",
    "    else:\n",
    "        continue\n",
    "\n",
    "#fill the Austin list\n",
    "for row in range(len(austin_data)):\n",
    "    if austin_data.loc[row,'Days from Intake to Outcome']>0:\n",
    "        austin.append(austin_data.loc[row,'Days from Intake to Outcome'])\n",
    "    else:\n",
    "        continue"
   ]
  },
  {
   "cell_type": "code",
   "execution_count": 56,
   "metadata": {},
   "outputs": [],
   "source": [
    "%%capture\n",
    "\n",
    "#set up the figure\n",
    "data=[austin,louisville]\n",
    "labels=['Austin','Louisville']\n",
    "pyplot.boxplot(data, labels=labels, showfliers=False)\n",
    "pylab.title('Days from Intake to Outcome by City (Austin vs Louisville)\\n\\n')\n",
    "pylab.xlabel(\"\\nCity\")\n",
    "pylab.ylabel(\"Days from Intake to Outcome\\n\")"
   ]
  },
  {
   "cell_type": "code",
   "execution_count": 57,
   "metadata": {},
   "outputs": [
    {
     "name": "stdout",
     "output_type": "stream",
     "text": [
      "Means:\n",
      "Austin: 17.78\n",
      "Louisville: 13.524\n",
      "\n",
      "Standard Deviations:\n",
      "Austin: 38.187\n",
      "Louisville: 35.283\n",
      "\n",
      "Medians:\n",
      "Austin: 5.395\n",
      "Louisville: 6.019\n"
     ]
    },
    {
     "data": {
      "image/png": "[encoded data removed]",
      "text/plain": [
       "<matplotlib.figure.Figure at 0x11aa614e0>"
      ]
     },
     "metadata": {},
     "output_type": "display_data"
    }
   ],
   "source": [
    "#save box and whiskers plot to PNG file\n",
    "pyplot.savefig('../figures/time_to_outcome_by_city.png')\n",
    "\n",
    "print(f\"Means:\\nAustin: {round(np.mean(austin),3)}\\nLouisville: {round(np.mean(louisville),3)}\\n\")\n",
    "print(f\"Standard Deviations:\\nAustin: {round(np.std(austin),3)}\\nLouisville: {round(np.std(louisville),3)}\\n\")\n",
    "print(f\"Medians:\\nAustin: {round(np.median(austin),3)}\\nLouisville: {round(np.median(louisville),3)}\")\n",
    "\n",
    "#show box and whiskers plot\n",
    "pyplot.show()"
   ]
  },
  {
   "cell_type": "code",
   "execution_count": 46,
   "metadata": {},
   "outputs": [
    {
     "name": "stdout",
     "output_type": "stream",
     "text": [
      "Levene test result: p = 0.0\n",
      "Assume unequal variances\n",
      "\n",
      "\n",
      "T-test results:\n",
      "t = 22.615\n",
      "P = 0.0\n",
      "\n",
      "The difference is significant.\n"
     ]
    }
   ],
   "source": [
    "#%%capture\n",
    "#Is this difference significant? (Probably not, but let's check because we can)\n",
    "\n",
    "#check for equality of variances (Levene's test)\n",
    "#and then run t-test based on result\n",
    "\n",
    "levene=stats.levene(austin,louisville)\n",
    "\n",
    "print(f\"Levene test result: p = {round(levene.pvalue,5)}\")\n",
    "if levene.pvalue < .05:\n",
    "    print(\"Assume unequal variances\\n\\n\")\n",
    "    result=stats.ttest_ind(austin, louisville, equal_var=False)\n",
    "else:\n",
    "    print(\"Assume equal variances\\n\\n\")\n",
    "    result=stats.ttest_ind(austin, louisville, equal_var=True)    \n",
    "\n",
    "print(\"T-test results:\")\n",
    "print(f\"t = {round(result.statistic,3)}\\nP = {round(result.pvalue,3)}\")\n",
    "if result.pvalue < .05:\n",
    "    print(f\"\\nThe difference is significant.\")\n",
    "else:\n",
    "    print(f\"\\nThe difference is not significant.\")\n"
   ]
  },
  {
   "cell_type": "code",
   "execution_count": 53,
   "metadata": {},
   "outputs": [
    {
     "name": "stdout",
     "output_type": "stream",
     "text": [
      "Austin has a lower median time between intake and outcome compared to Louisville (5.4 vs 6.0).\n",
      "\n",
      "However, Austin's mean time is higher (17.8 vs 13.5).\n",
      "\n",
      "This difference was statistically significant (t=22.6, p<.01).\n"
     ]
    }
   ],
   "source": [
    "#STATS SUMMARY\n",
    "\n",
    "print(\"Austin has a lower median time between intake and outcome compared to Louisville (5.4 vs 6.0).\")\n",
    "print(\"\\nHowever, Austin's mean time is higher (17.8 vs 13.5).\\n\\nThis difference was statistically significant (t=22.6, p<.01).\")"
   ]
  }
 ],
 "metadata": {
  "kernelspec": {
   "display_name": "Python 3",
   "language": "python",
   "name": "python3"
  },
  "language_info": {
   "codemirror_mode": {
    "name": "ipython",
    "version": 3
   },
   "file_extension": ".py",
   "mimetype": "text/x-python",
   "name": "python",
   "nbconvert_exporter": "python",
   "pygments_lexer": "ipython3",
   "version": "3.6.3"
  }
 },
 "nbformat": 4,
 "nbformat_minor": 2
}
