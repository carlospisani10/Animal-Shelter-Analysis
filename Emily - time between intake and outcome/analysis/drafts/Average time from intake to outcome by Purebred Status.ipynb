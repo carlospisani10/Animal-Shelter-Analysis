{
 "cells": [
  {
   "cell_type": "code",
   "execution_count": 1,
   "metadata": {},
   "outputs": [],
   "source": [
    "#Dependencies\n",
    "import pandas as pd\n",
    "import numpy as np\n",
    "import datetime\n",
    "from matplotlib import pyplot, pylab\n",
    "import scipy.stats as stats\n",
    "import math\n"
   ]
  },
  {
   "cell_type": "code",
   "execution_count": 44,
   "metadata": {},
   "outputs": [],
   "source": [
    "#Read in the data\n",
    "df = pd.read_csv(\"../../raw data/Austin_merged_data_with_time_deltas.csv\")"
   ]
  },
  {
   "cell_type": "code",
   "execution_count": 45,
   "metadata": {},
   "outputs": [],
   "source": [
    "#create lists for boxplot showing intake times for cats vs dogs\n",
    "\n",
    "purebred=[]\n",
    "mixed_breed=[]\n",
    "\n",
    "#fill the lists\n",
    "for row in range(len(df)):    \n",
    "    if (df.loc[row,'Days from Intake to Outcome']>0) & (df.loc[row,'Purebred_intake']==1):\n",
    "        purebred.append(df.loc[row,'Days from Intake to Outcome'])\n",
    "    elif (df.loc[row,'Days from Intake to Outcome']>0) & (df.loc[row,'Purebred_intake']==0):\n",
    "        mixed_breed.append(df.loc[row,'Days from Intake to Outcome'])                               \n",
    "    else:\n",
    "        continue"
   ]
  },
  {
   "cell_type": "code",
   "execution_count": 46,
   "metadata": {},
   "outputs": [],
   "source": [
    "%%capture\n",
    "\n",
    "#set up the figure\n",
    "data=[purebred,mixed_breed]\n",
    "labels=['Purebred','Mixed Breed']\n",
    "pyplot.boxplot(data, labels=labels, showfliers=False)\n",
    "pylab.title('Days from Intake to Outcome by Purebred Status')\n",
    "pylab.xlabel(\"Purebred Status\")\n",
    "pylab.ylabel(\"Days from Intake to Outcome\")"
   ]
  },
  {
   "cell_type": "code",
   "execution_count": 47,
   "metadata": {},
   "outputs": [
    {
     "data": {
      "text/plain": [
       "0    54774\n",
       "1     2819\n",
       "Name: Purebred_intake, dtype: int64"
      ]
     },
     "execution_count": 47,
     "metadata": {},
     "output_type": "execute_result"
    },
    {
     "name": "stdout",
     "output_type": "stream",
     "text": [
      "Mean values:\n",
      "Purebreed: 14.794\n",
      "Mixed Breed: 17.933\n",
      "\n",
      "Standard Deviations:\n",
      "Purebreed: 34.501\n",
      "Mixed Breed: 38.36\n",
      "\n",
      "Medians:\n",
      "Purebreed: 4.917\n",
      "Mixed Breed: 5.447\n"
     ]
    },
    {
     "data": {
      "image/png": "[encoded data removed]",
      "text/plain": [
       "<matplotlib.figure.Figure at 0x11d5ed470>"
      ]
     },
     "metadata": {},
     "output_type": "display_data"
    }
   ],
   "source": [
    "#save box and whiskers plot to PNG file\n",
    "pyplot.savefig('../figures/time_to_outcome_by_purebred_status.png')\n",
    "\n",
    "df['Purebred_intake'].value_counts()\n",
    "print(f\"Mean values:\\nPurebreed: {round(np.mean(purebred),3)}\\nMixed Breed: {round(np.mean(mixed_breed),3)}\\n\")\n",
    "print(f\"Standard Deviations:\\nPurebreed: {round(np.std(purebred),3)}\\nMixed Breed: {round(np.std(mixed_breed),3)}\\n\")\n",
    "print(f\"Medians:\\nPurebreed: {round(np.median(purebred),3)}\\nMixed Breed: {round(np.median(mixed_breed),3)}\")\n",
    "\n",
    "#show box and whiskers plot\n",
    "pyplot.show()\n"
   ]
  },
  {
   "cell_type": "code",
   "execution_count": 48,
   "metadata": {},
   "outputs": [
    {
     "data": {
      "text/plain": [
       "LeveneResult(statistic=16.135470861745432, pvalue=5.9047982536639335e-05)"
      ]
     },
     "execution_count": 48,
     "metadata": {},
     "output_type": "execute_result"
    }
   ],
   "source": [
    "#check for equality of variances (Levene's test)\n",
    "stats.levene(purebred,mixed_breed)\n",
    "\n",
    "#p = 0.41, do not reject the null hypothesis that variances are equal. (Assume equal variances)\n",
    "\n",
    "# Run 2-Sample T-Test\n",
    "result=stats.ttest_ind(purebred,mixed_breed, equal_var=False)"
   ]
  },
  {
   "cell_type": "code",
   "execution_count": 49,
   "metadata": {},
   "outputs": [
    {
     "name": "stdout",
     "output_type": "stream",
     "text": [
      "t = -4.557\n",
      "P = 0.0\n",
      "The difference is significant.\n"
     ]
    }
   ],
   "source": [
    "print(f\"t = {round(result.statistic,3)}\\nP = {round(result.pvalue,3)}\\nThe difference is significant.\")"
   ]
  }
 ],
 "metadata": {
  "kernelspec": {
   "display_name": "Python 3",
   "language": "python",
   "name": "python3"
  },
  "language_info": {
   "codemirror_mode": {
    "name": "ipython",
    "version": 3
   },
   "file_extension": ".py",
   "mimetype": "text/x-python",
   "name": "python",
   "nbconvert_exporter": "python",
   "pygments_lexer": "ipython3",
   "version": "3.6.3"
  }
 },
 "nbformat": 4,
 "nbformat_minor": 2
}
