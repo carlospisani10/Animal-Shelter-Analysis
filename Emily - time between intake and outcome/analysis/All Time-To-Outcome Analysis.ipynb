{
 "cells": [
  {
   "cell_type": "code",
   "execution_count": 2,
   "metadata": {},
   "outputs": [],
   "source": [
    "#Dependencies\n",
    "import pandas as pd\n",
    "import numpy as np\n",
    "import datetime\n",
    "from matplotlib import pyplot, pylab\n",
    "import scipy.stats as stats\n",
    "import math"
   ]
  },
  {
   "cell_type": "code",
   "execution_count": 5,
   "metadata": {},
   "outputs": [],
   "source": [
    "#Read in the datasets\n",
    "austin_df = pd.read_csv(\"../../raw data/Austin_merged_data_with_time_deltas.csv\")\n",
    "louisville_df = pd.read_csv(\"../../raw data/Louisville_with_time_deltas_dogs_cats_only.csv\")\n",
    "\n",
    "austin_df['City']='Austin'\n",
    "louisville_df['City']='Louisville'"
   ]
  },
  {
   "cell_type": "markdown",
   "metadata": {},
   "source": [
    "# Average Time-To-Outcome by Animal Type"
   ]
  },
  {
   "cell_type": "code",
   "execution_count": 6,
   "metadata": {},
   "outputs": [
    {
     "data": {
      "text/plain": [
       "Dog    108384\n",
       "Cat     94108\n",
       "Name: Animal Type, dtype: int64"
      ]
     },
     "execution_count": 6,
     "metadata": {},
     "output_type": "execute_result"
    }
   ],
   "source": [
    "austin_data=austin_df.loc[:,['Days from Intake to Outcome','Animal Type_intake']]\n",
    "louisville_data=louisville_df.loc[:,['Days between Intake and Outcome','AnimalType']]\n",
    "\n",
    "austin_data=austin_data.rename(columns={\"Animal Type_intake\":\"Animal Type\"})\n",
    "louisville_data=louisville_data.rename(columns={\"AnimalType\":\"Animal Type\",\"Days between Intake and Outcome\":\"Days from Intake to Outcome\"})\n",
    "austin_data['City']='Austin'\n",
    "louisville_data['City']='Louisville'\n",
    "df=pd.concat([austin_data,louisville_data]).reset_index()\n",
    "\n",
    "#Get the outcome types to be named the same things across AUS and Louisville data\n",
    "\n",
    "df=df.replace(to_replace='DOG',value='Dog')\n",
    "df=df.replace(to_replace='CAT',value='Cat')\n",
    "\n",
    "#include only data for Dogs and Cats\n",
    "group_by_animal_type=df.groupby(df['Animal Type'])\n",
    "\n",
    "#count up total dogs and cats\n",
    "df['Animal Type'].value_counts()\n",
    "\n",
    "#create lists for boxplot showing intake times for cats vs dogs\n",
    "\n",
    "cats=[]\n",
    "dogs=[]\n",
    "\n",
    "for row in range(len(df)):\n",
    "    if (df.loc[row,'Animal Type']==\"Cat\") & (df.loc[row,'Days from Intake to Outcome']>0):\n",
    "        cats.append(df.loc[row,'Days from Intake to Outcome'])\n",
    "    elif (df.loc[row,'Animal Type']==\"Dog\") & (df.loc[row,'Days from Intake to Outcome']>0):\n",
    "        dogs.append(df.loc[row,'Days from Intake to Outcome'])\n",
    "    else:\n",
    "        continue"
   ]
  },
  {
   "cell_type": "code",
   "execution_count": 11,
   "metadata": {},
   "outputs": [],
   "source": [
    "%%capture\n",
    "\n",
    "#set up the figure\n",
    "data=[cats,dogs]\n",
    "labels=['Cats','Dogs']\n",
    "pyplot.boxplot(data, labels=labels, showfliers=False)\n",
    "pylab.title('Days from Intake to Outcome by Animal Type (Cats vs Dogs)')\n",
    "pylab.xlabel(\"Animal Type\")\n",
    "pylab.ylabel(\"Days from Intake to Outcome\")"
   ]
  },
  {
   "cell_type": "code",
   "execution_count": 12,
   "metadata": {},
   "outputs": [
    {
     "name": "stdout",
     "output_type": "stream",
     "text": [
      "Mean values:\n",
      "Cats: 15.462\n",
      "Dogs: 14.044\n",
      "\n",
      "Standard Deviations:\n",
      "Cats: 34.421\n",
      "Dogs: 37.595\n",
      "\n",
      "Medians:\n",
      "Cats: 5.857\n",
      "Dogs: 5.983\n"
     ]
    },
    {
     "data": {
      "image/png": "[encoded data removed]",
      "text/plain": [
       "<matplotlib.figure.Figure at 0x11071b320>"
      ]
     },
     "metadata": {},
     "output_type": "display_data"
    }
   ],
   "source": [
    "#save box and whiskers plot to PNG file\n",
    "#pyplot.savefig('../figures/time_to_outcome_by_animal_type.png')\n",
    "\n",
    "print(f\"Mean values:\\nCats: {round(np.mean(cats),3)}\\nDogs: {round(np.mean(dogs),3)}\\n\")\n",
    "print(f\"Standard Deviations:\\nCats: {round(np.std(cats),3)}\\nDogs: {round(np.std(dogs),3)}\\n\")\n",
    "print(f\"Medians:\\nCats: {round(np.median(cats),3)}\\nDogs: {round(np.median(dogs),3)}\")\n",
    "\n",
    "#show box and whiskers plot\n",
    "pyplot.show()"
   ]
  },
  {
   "cell_type": "markdown",
   "metadata": {},
   "source": [
    "# Average Time-To-Outcome by City"
   ]
  },
  {
   "cell_type": "code",
   "execution_count": 8,
   "metadata": {},
   "outputs": [],
   "source": [
    "#create lists for boxplot showing intake times for cats vs dogs\n",
    "\n",
    "austin=[]\n",
    "louisville=[]\n",
    "\n",
    "#fill the Louisville list\n",
    "for row in range(len(louisville_df)):\n",
    "    if louisville_df.loc[row,'Days between Intake and Outcome']>0:\n",
    "        louisville.append(louisville_df.loc[row,'Days between Intake and Outcome'])\n",
    "    else:\n",
    "        continue\n",
    "\n",
    "#fill the Austin list\n",
    "for row in range(len(austin_df)):\n",
    "    if austin_data.loc[row,'Days from Intake to Outcome']>0:\n",
    "        austin.append(austin_df.loc[row,'Days from Intake to Outcome'])\n",
    "    else:\n",
    "        continue"
   ]
  },
  {
   "cell_type": "code",
   "execution_count": 13,
   "metadata": {},
   "outputs": [],
   "source": [
    "%%capture\n",
    "\n",
    "#set up the figure\n",
    "data=[austin,louisville]\n",
    "labels=['Austin','Louisville']\n",
    "pyplot.boxplot(data, labels=labels, showfliers=False)\n",
    "pylab.title('Days from Intake to Outcome by City (Austin vs Louisville)')\n",
    "pylab.xlabel(\"City\")\n",
    "pylab.ylabel(\"Days from Intake to Outcome\")"
   ]
  },
  {
   "cell_type": "code",
   "execution_count": 14,
   "metadata": {},
   "outputs": [
    {
     "name": "stdout",
     "output_type": "stream",
     "text": [
      "Means:\n",
      "Austin: 17.78\n",
      "Louisville: 13.524\n",
      "\n",
      "Standard Deviations:\n",
      "Austin: 38.187\n",
      "Louisville: 35.283\n",
      "\n",
      "Medians:\n",
      "Austin: 5.395\n",
      "Louisville: 6.019\n"
     ]
    },
    {
     "data": {
      "image/png": "[encoded data removed]",
      "text/plain": [
       "<matplotlib.figure.Figure at 0x10ecc29e8>"
      ]
     },
     "metadata": {},
     "output_type": "display_data"
    }
   ],
   "source": [
    "#save box and whiskers plot to PNG file\n",
    "#pyplot.savefig('../figures/time_to_outcome_by_city.png')\n",
    "\n",
    "print(f\"Means:\\nAustin: {round(np.mean(austin),3)}\\nLouisville: {round(np.mean(louisville),3)}\\n\")\n",
    "print(f\"Standard Deviations:\\nAustin: {round(np.std(austin),3)}\\nLouisville: {round(np.std(louisville),3)}\\n\")\n",
    "print(f\"Medians:\\nAustin: {round(np.median(austin),3)}\\nLouisville: {round(np.median(louisville),3)}\")\n",
    "\n",
    "#show box and whiskers plot\n",
    "pyplot.show()"
   ]
  },
  {
   "cell_type": "code",
   "execution_count": 17,
   "metadata": {},
   "outputs": [
    {
     "name": "stdout",
     "output_type": "stream",
     "text": [
      "Levene test result: p = 0.0\n",
      "Assume unequal variances\n",
      "\n",
      "\n",
      "T-test results:\n",
      "t = 22.615\n",
      "P = 0.0\n",
      "\n",
      "The difference is significant.\n",
      "Austin has a lower median time between intake and outcome compared to Louisville (5.4 vs 6.0).\n",
      "\n",
      "However, Austin's mean time is higher (17.8 vs 13.5).\n",
      "\n",
      "This difference was statistically significant (t=22.6, p<.01).\n"
     ]
    }
   ],
   "source": [
    "#Is this difference significant? (Probably not, but let's check because we can)\n",
    "\n",
    "#check for equality of variances (Levene's test)\n",
    "#and then run t-test based on result\n",
    "\n",
    "levene=stats.levene(austin,louisville)\n",
    "\n",
    "print(f\"Levene test result: p = {round(levene.pvalue,5)}\")\n",
    "if levene.pvalue < .05:\n",
    "    print(\"Assume unequal variances\\n\\n\")\n",
    "    result=stats.ttest_ind(austin, louisville, equal_var=False)\n",
    "else:\n",
    "    print(\"Assume equal variances\\n\\n\")\n",
    "    result=stats.ttest_ind(austin, louisville, equal_var=True)    \n",
    "\n",
    "print(\"T-test results:\")\n",
    "print(f\"t = {round(result.statistic,4)}\\nP = {round(result.pvalue,4)}\")\n",
    "if result.pvalue < .05:\n",
    "    print(f\"\\nThe difference is significant.\")\n",
    "else:\n",
    "    print(f\"\\nThe difference is not significant.\")\n",
    "\n",
    "#STATS SUMMARY\n",
    "\n",
    "print(\"Austin has a lower median time between intake and outcome compared to Louisville (5.4 vs 6.0).\")\n",
    "print(\"\\nHowever, Austin's mean time is higher (17.8 vs 13.5).\\n\\nThis difference was statistically significant (t=22.6, p<.01).\")"
   ]
  },
  {
   "cell_type": "markdown",
   "metadata": {},
   "source": [
    "# Average Time-To-Outcome by Outcome Type"
   ]
  },
  {
   "cell_type": "code",
   "execution_count": 21,
   "metadata": {},
   "outputs": [
    {
     "data": {
      "text/plain": [
       "Euthanasia    70932\n",
       "Adoption      49020\n",
       "Transfer      37777\n",
       "Died           2953\n",
       "Name: OutcomeType, dtype: int64"
      ]
     },
     "execution_count": 21,
     "metadata": {},
     "output_type": "execute_result"
    }
   ],
   "source": [
    "#Restrict our analysis to adoption, transfer, euthanasia, and death\n",
    "#Adoption\n",
    "\n",
    "austin_data=austin_df[austin_df['Outcome Type'].isin(['Adoption','Transfer','Euthanasia','Died'])]\n",
    "louisville_data=louisville_df[louisville_df['OutcomeType'].isin(['ADOPTION','EUTH','TRANSFER','DIED'])]\n",
    "\n",
    "austin_data=austin_data.rename(columns={\"Outcome Type\":\"OutcomeType\",\"Days from Intake to Outcome\":\"Days between Intake and Outcome\"})\n",
    "\n",
    "df=pd.concat([austin_data,louisville_data]).reset_index()\n",
    "\n",
    "#Get the outcome types to be named the same things across AUS and Louisville data\n",
    "\n",
    "df=df.replace(to_replace='ADOPTION',value='Adoption')\n",
    "df=df.replace(to_replace='EUTH',value='Euthanasia')\n",
    "df=df.replace(to_replace='TRANSFER',value='Transfer')\n",
    "df=df.replace(to_replace='DIED',value='Died')\n",
    "\n",
    "df['OutcomeType'].value_counts()\n",
    "\n",
    "#create lists for boxplot showing intake times for cats vs dogs\n",
    "\n",
    "adoption=[]\n",
    "euthanasia=[]\n",
    "transfer=[]\n",
    "died=[]\n",
    "\n",
    "#fill the lists\n",
    "for row in range(len(df)):    \n",
    "    if (df.loc[row,'Days between Intake and Outcome']>0) & (df.loc[row,'OutcomeType']=='Adoption'):\n",
    "        adoption.append(df.loc[row,'Days between Intake and Outcome'])\n",
    "    elif (df.loc[row,'Days between Intake and Outcome']>0) & (df.loc[row,'OutcomeType']=='Euthanasia'):\n",
    "        euthanasia.append(df.loc[row,'Days between Intake and Outcome'])        \n",
    "    elif (df.loc[row,'Days between Intake and Outcome']>0) & (df.loc[row,'OutcomeType']=='Transfer'):\n",
    "        transfer.append(df.loc[row,'Days between Intake and Outcome'])                \n",
    "    elif (df.loc[row,'Days between Intake and Outcome']>0) & (df.loc[row,'OutcomeType']=='Died'):\n",
    "        died.append(df.loc[row,'Days between Intake and Outcome'])                        \n",
    "    else:\n",
    "        continue"
   ]
  },
  {
   "cell_type": "code",
   "execution_count": 22,
   "metadata": {},
   "outputs": [],
   "source": [
    "%%capture\n",
    "\n",
    "#set up the figure\n",
    "data=[adoption, euthanasia, transfer, died]\n",
    "labels=['Adopted','Euthanized','Transferred','Died']\n",
    "pyplot.boxplot(data, labels=labels, showfliers=False)\n",
    "pylab.title('Days from Intake to Outcome by Outcome Type')\n",
    "pylab.xlabel(\"Outcome Type\")\n",
    "pylab.ylabel(\"Days from Intake to Outcome\")"
   ]
  },
  {
   "cell_type": "code",
   "execution_count": 23,
   "metadata": {},
   "outputs": [
    {
     "name": "stdout",
     "output_type": "stream",
     "text": [
      "Mean values:\n",
      "Adopted: 31.134\n",
      "Euthanized: 8.403\n",
      "Transferred: 11.792\n",
      "Died: 17.88\n",
      "\n",
      "Standard Deviations:\n",
      "Adopted: 55.158\n",
      "Euthanized: 17.42\n",
      "Transferred: 24.686\n",
      "Died: 64.101\n",
      "\n",
      "Medians:\n",
      "Adopted: 14.18\n",
      "Euthanized: 5.815\n",
      "Transferred: 5.106\n",
      "Died: 6.956\n"
     ]
    },
    {
     "data": {
      "image/png": "[encoded data removed]",
      "text/plain": [
       "<matplotlib.figure.Figure at 0x10ecb2588>"
      ]
     },
     "metadata": {},
     "output_type": "display_data"
    }
   ],
   "source": [
    "#save box and whiskers plot to PNG file\n",
    "#pyplot.savefig('../figures/time_to_outcome_by_outcome_type.png')\n",
    "\n",
    "print(f\"Mean values:\\nAdopted: {round(np.mean(adoption),3)}\\nEuthanized: {round(np.mean(euthanasia),3)}\\nTransferred: {round(np.mean(transfer),3)}\\nDied: {round(np.mean(died),3)}\")\n",
    "print(f\"\\nStandard Deviations:\\nAdopted: {round(np.std(adoption),3)}\\nEuthanized: {round(np.std(euthanasia),3)}\\nTransferred: {round(np.std(transfer),3)}\\nDied: {round(np.std(died),3)}\")\n",
    "print(f\"\\nMedians:\\nAdopted: {round(np.median(adoption),3)}\\nEuthanized: {round(np.median(euthanasia),3)}\\nTransferred: {round(np.median(transfer),3)}\\nDied: {round(np.median(died),3)}\")\n",
    "\n",
    "#show box and whiskers plot\n",
    "pyplot.show()\n"
   ]
  },
  {
   "cell_type": "code",
   "execution_count": 24,
   "metadata": {},
   "outputs": [
    {
     "data": {
      "text/plain": [
       "F_onewayResult(statistic=4086.9711082211779, pvalue=0.0)"
      ]
     },
     "execution_count": 24,
     "metadata": {},
     "output_type": "execute_result"
    }
   ],
   "source": [
    "#ANOVA:\n",
    "stats.f_oneway(adoption, euthanasia, transfer, died)"
   ]
  },
  {
   "cell_type": "markdown",
   "metadata": {},
   "source": [
    "# Average Time-To-Outcome by Age at Intake"
   ]
  },
  {
   "cell_type": "code",
   "execution_count": 26,
   "metadata": {},
   "outputs": [
    {
     "data": {
      "text/plain": [
       "57593"
      ]
     },
     "execution_count": 26,
     "metadata": {},
     "output_type": "execute_result"
    },
    {
     "data": {
      "text/plain": [
       "57593"
      ]
     },
     "execution_count": 26,
     "metadata": {},
     "output_type": "execute_result"
    },
    {
     "name": "stdout",
     "output_type": "stream",
     "text": [
      "Average age: 742.24 days\n",
      "Average time to outcome: 16.86 days\n"
     ]
    }
   ],
   "source": [
    "#Plot age at intake against Days from Intake to Outcome\n",
    "\n",
    "x=austin_df['AgeDays_intake']\n",
    "y=austin_df['Days from Intake to Outcome']\n",
    "\n",
    "len(x)\n",
    "len(y)\n",
    "\n",
    "print(f\"Average age: {round(np.mean(x),2)} days\")\n",
    "print(f\"Average time to outcome: {round(np.mean(y),2)} days\")"
   ]
  },
  {
   "cell_type": "code",
   "execution_count": 31,
   "metadata": {},
   "outputs": [],
   "source": [
    "#remove outliers\n",
    "\n",
    "x_max=np.mean(x)+(3*np.std(x))\n",
    "x_min=np.mean(x)-(3*np.std(x))\n",
    "y_max=np.mean(y)+(3*np.std(y))\n",
    "y_min=np.mean(y)-(3*np.std(y))\n",
    "\n",
    "austin_data_outliers_removed=austin_df[(austin_df['AgeDays_intake'] < x_max) \n",
    "                                         & (austin_df['AgeDays_intake'] > x_min)\n",
    "                                         & (austin_df['Days from Intake to Outcome'] < y_max)                                        \n",
    "                                         & (austin_df['Days from Intake to Outcome'] > y_min)]"
   ]
  },
  {
   "cell_type": "markdown",
   "metadata": {},
   "source": [
    "# All Animals"
   ]
  },
  {
   "cell_type": "code",
   "execution_count": 32,
   "metadata": {},
   "outputs": [
    {
     "name": "stdout",
     "output_type": "stream",
     "text": [
      "\n",
      "\n",
      "ALL ANIMALS:\n",
      "Coefficient: -0.0014329168427347173\n",
      "R-squared: -0.057230701424258755\n",
      "P-value: 0.0\n",
      "\n",
      "The correlation is significant, although the effect size is very small\n"
     ]
    }
   ],
   "source": [
    "#Redefine data for analysis using subset of data without outliers\n",
    "x=austin_data_outliers_removed['AgeDays_intake']\n",
    "y=austin_data_outliers_removed['Days from Intake to Outcome']\n",
    "\n",
    "#Regression\n",
    "coefficient,intercept,r_squared,p_value,std_err=stats.linregress(x,y)    \n",
    "\n",
    "print(\"\\n\\nALL ANIMALS:\")\n",
    "print(f\"Coefficient: {coefficient}\")\n",
    "print(f\"R-squared: {r_squared}\")\n",
    "print(f\"P-value: {round(p_value,3)}\")\n",
    "print(\"\\nThe correlation is significant, although the effect size is very small\")"
   ]
  },
  {
   "cell_type": "code",
   "execution_count": 33,
   "metadata": {},
   "outputs": [],
   "source": [
    "%%capture\n",
    "pyplot.scatter(x,y)\n",
    "pyplot.plot([1,100])\n",
    "pylab.xlabel(\"\\nAge at intake (days)\")\n",
    "pylab.ylabel(\"Time from Intake to Outcome (days)\\n\")\n",
    "pylab.title(\"Age vs Time to Outcome (All Animals)\\n\")\n",
    "z = np.polyfit(x, y, 1)\n",
    "p = np.poly1d(z)\n",
    "pyplot.plot(x,p(x),\"r--\")"
   ]
  },
  {
   "cell_type": "code",
   "execution_count": 34,
   "metadata": {},
   "outputs": [
    {
     "data": {
      "image/png": "[encoded data removed]",
      "text/plain": [
       "<matplotlib.figure.Figure at 0x110285a58>"
      ]
     },
     "metadata": {},
     "output_type": "display_data"
    }
   ],
   "source": [
    "#Save and Draw Plots\n",
    "#Age vs. Time to Outcome for Euthanized animals\n",
    "pyplot.savefig('../figures/age_vs_time_to_outcome_ALL.png')\n",
    "\n",
    "pyplot.show()"
   ]
  },
  {
   "cell_type": "markdown",
   "metadata": {},
   "source": [
    "# Adopted vs Euthanized Animals"
   ]
  },
  {
   "cell_type": "code",
   "execution_count": 35,
   "metadata": {},
   "outputs": [
    {
     "data": {
      "text/plain": [
       "Adoption           23264\n",
       "Transfer           20077\n",
       "Return to Owner     8741\n",
       "Euthanasia          2355\n",
       "Died                 486\n",
       "Rto-Adopt             76\n",
       "Missing               34\n",
       "Disposal              21\n",
       "Name: Outcome Type, dtype: int64"
      ]
     },
     "execution_count": 35,
     "metadata": {},
     "output_type": "execute_result"
    }
   ],
   "source": [
    "#Plot separately for outcome types\n",
    "\n",
    "austin_data_outliers_removed['Outcome Type'].value_counts()\n",
    "\n",
    "adoption=austin_data_outliers_removed[austin_data_outliers_removed['Outcome Type']=='Adoption']\n",
    "euthanasia=austin_data_outliers_removed[austin_data_outliers_removed['Outcome Type']=='Euthanasia']"
   ]
  },
  {
   "cell_type": "code",
   "execution_count": 36,
   "metadata": {},
   "outputs": [
    {
     "name": "stdout",
     "output_type": "stream",
     "text": [
      "\n",
      "\n",
      "ADOPTED ANIMALS:\n",
      "Coefficient: -0.0007430668781439313\n",
      "R-squared: -0.020098228288934525\n",
      "P-value: 0.002\n",
      "\n",
      "The correlation is significant, but the effect size is very small\n"
     ]
    }
   ],
   "source": [
    "#Age vs. Time to Outcome for Adopted animals\n",
    "\n",
    "#Redefine data for analysis using subset of data without outliers\n",
    "x=adoption['AgeDays_intake']\n",
    "y=adoption['Days from Intake to Outcome']\n",
    "\n",
    "#Regression\n",
    "coefficient,intercept,r_squared,p_value,std_err=stats.linregress(x,y)    \n",
    "\n",
    "print(\"\\n\\nADOPTED ANIMALS:\")\n",
    "print(f\"Coefficient: {coefficient}\")\n",
    "print(f\"R-squared: {r_squared}\")\n",
    "print(f\"P-value: {round(p_value,3)}\")\n",
    "print(\"\\nThe correlation is significant, but the effect size is very small\")"
   ]
  },
  {
   "cell_type": "code",
   "execution_count": 37,
   "metadata": {},
   "outputs": [],
   "source": [
    "%%capture \n",
    "pyplot.scatter(x,y)\n",
    "pyplot.plot([1,100])\n",
    "pylab.xlabel(\"\\nAge at intake (days)\")\n",
    "pylab.ylabel(\"Time from Intake to Outcome (days)\\n\")\n",
    "pylab.title(\"Age vs Time to Outcome (Adopted Animals Only)\\n\")\n",
    "z = np.polyfit(x, y, 1)\n",
    "p = np.poly1d(z)\n",
    "pyplot.plot(x,p(x),\"r--\")"
   ]
  },
  {
   "cell_type": "code",
   "execution_count": 38,
   "metadata": {},
   "outputs": [
    {
     "data": {
      "image/png": "[encoded data removed]",
      "text/plain": [
       "<matplotlib.figure.Figure at 0x10f1f6ba8>"
      ]
     },
     "metadata": {},
     "output_type": "display_data"
    }
   ],
   "source": [
    "#Save and Draw Plots\n",
    "#Age vs. Time to Outcome for Euthanized animals\n",
    "pyplot.savefig('../figures/age_vs_time_to_outcome_Adoption.png')\n",
    "\n",
    "pyplot.show()"
   ]
  },
  {
   "cell_type": "code",
   "execution_count": 39,
   "metadata": {},
   "outputs": [
    {
     "name": "stdout",
     "output_type": "stream",
     "text": [
      "\n",
      "\n",
      "EUTHANIZED ANIMALS:\n",
      "Coefficient: -0.00011838458126282147\n",
      "R-squared: -0.00902929422301661\n",
      "P-value: 0.661\n",
      "\n",
      "The correlation is not significant\n"
     ]
    }
   ],
   "source": [
    "#Age vs. Time to Outcome for Euthanized animals\n",
    "\n",
    "#Redefine data for analysis using subset of data without outliers\n",
    "x=euthanasia['AgeDays_intake']\n",
    "y=euthanasia['Days from Intake to Outcome']\n",
    "\n",
    "#Regression\n",
    "coefficient,intercept,r_squared,p_value,std_err=stats.linregress(x,y)    \n",
    "\n",
    "print(\"\\n\\nEUTHANIZED ANIMALS:\")\n",
    "print(f\"Coefficient: {coefficient}\")\n",
    "print(f\"R-squared: {r_squared}\")\n",
    "print(f\"P-value: {round(p_value,3)}\")\n",
    "print(\"\\nThe correlation is not significant\")"
   ]
  },
  {
   "cell_type": "code",
   "execution_count": 40,
   "metadata": {},
   "outputs": [],
   "source": [
    "%%capture\n",
    "pyplot.scatter(x,y)\n",
    "pyplot.plot([1,100])\n",
    "pylab.xlabel(\"\\nAge at intake (days)\")\n",
    "pylab.ylabel(\"Time from Intake to Outcome (days)\\n\")\n",
    "pylab.title(\"Age vs Time to Outcome (Euthanized Animals Only)\\n\")\n",
    "z = np.polyfit(x, y, 1)\n",
    "p = np.poly1d(z)\n",
    "pyplot.plot(x,p(x),\"r--\")"
   ]
  },
  {
   "cell_type": "code",
   "execution_count": 41,
   "metadata": {},
   "outputs": [
    {
     "name": "stdout",
     "output_type": "stream",
     "text": [
      "\n",
      "\n",
      "EUTHANIZED ANIMALS:\n",
      "Coefficient: -0.00011838458126282147\n",
      "R-squared: -0.00902929422301661\n",
      "P-value: 0.661\n",
      "\n",
      "The correlation is significant, although the effect size is very small\n"
     ]
    }
   ],
   "source": [
    "print(\"\\n\\nEUTHANIZED ANIMALS:\")\n",
    "print(f\"Coefficient: {coefficient}\")\n",
    "print(f\"R-squared: {r_squared}\")\n",
    "print(f\"P-value: {round(p_value,3)}\")\n",
    "print(\"\\nThe correlation is significant, although the effect size is very small\")"
   ]
  },
  {
   "cell_type": "code",
   "execution_count": 42,
   "metadata": {},
   "outputs": [
    {
     "data": {
      "image/png": "[encoded data removed]",
      "text/plain": [
       "<matplotlib.figure.Figure at 0x11029d8d0>"
      ]
     },
     "metadata": {},
     "output_type": "display_data"
    }
   ],
   "source": [
    "#Save and Draw Plots\n",
    "#Age vs. Time to Outcome for Euthanized animals\n",
    "pyplot.savefig('../figures/age_vs_time_to_outcome_Euthanasia.png')\n",
    "\n",
    "pyplot.show()"
   ]
  },
  {
   "cell_type": "markdown",
   "metadata": {},
   "source": [
    "# Cats vs Dogs (Adopted animals only)"
   ]
  },
  {
   "cell_type": "code",
   "execution_count": 43,
   "metadata": {},
   "outputs": [
    {
     "data": {
      "text/plain": [
       "Dog    13255\n",
       "Cat    10009\n",
       "Name: Animal Type_intake, dtype: int64"
      ]
     },
     "execution_count": 43,
     "metadata": {},
     "output_type": "execute_result"
    }
   ],
   "source": [
    "#Plot separately for Cats and Dogs (separate colors)\n",
    "\n",
    "adoption['Animal Type_intake'].value_counts()\n",
    "\n",
    "dogs=adoption[adoption['Animal Type_intake']=='Dog']\n",
    "cats=adoption[adoption['Animal Type_intake']=='Cat']\n"
   ]
  },
  {
   "cell_type": "code",
   "execution_count": 44,
   "metadata": {},
   "outputs": [
    {
     "name": "stdout",
     "output_type": "stream",
     "text": [
      "\n",
      "\n",
      "CATS:\n",
      "----------------\n",
      "Average age (days): 283.81\n",
      "Median age (days): 30.0\n",
      "Average time to outcome (days): 31.76\n",
      "Median time to outcome (days): 24.43\n",
      "\n",
      "Regression model:\n",
      "Coefficient: -0.002\n",
      "R-squared: -0.039\n",
      "P-value: 0.0\n",
      "\n",
      "The correlation is significant, but the effect size is small\n",
      "\n",
      "For CATS, younger animals are generally adopted less quickly than older animals\n"
     ]
    }
   ],
   "source": [
    "#CATS\n",
    "\n",
    "#Redefine data for analysis using subset of data without outliers\n",
    "x=cats['AgeDays_intake']\n",
    "y=cats['Days from Intake to Outcome']\n",
    "#Regression\n",
    "coefficient,intercept,r_squared,p_value,std_err=stats.linregress(x,y)    \n",
    "\n",
    "print(\"\\n\\nCATS:\\n----------------\")\n",
    "print(f\"Average age (days): {round(np.mean(x),2)}\")\n",
    "print(f\"Median age (days): {round(np.median(x),2)}\")\n",
    "print(f\"Average time to outcome (days): {round(np.mean(y),2)}\")\n",
    "print(f\"Median time to outcome (days): {round(np.median(y),2)}\")\n",
    "print(\"\\nRegression model:\")\n",
    "print(f\"Coefficient: {round(coefficient,3)}\")\n",
    "print(f\"R-squared: {round(r_squared,3)}\")\n",
    "print(f\"P-value: {round(p_value,3)}\")\n",
    "print(\"\\nThe correlation is significant, but the effect size is small\")\n",
    "print(\"\\nFor CATS, younger animals are generally adopted less quickly than older animals\")"
   ]
  },
  {
   "cell_type": "code",
   "execution_count": 45,
   "metadata": {},
   "outputs": [],
   "source": [
    "%%capture\n",
    "pyplot.scatter(x,y)\n",
    "pyplot.plot([1,100])\n",
    "pylab.xlabel(\"Age at intake (days)\")\n",
    "pylab.ylabel(\"Time from Intake to Outcome (days)\")\n",
    "pylab.title(\"Age vs Time to Outcome (Cats Only)\")\n",
    "z = np.polyfit(x, y, 1)\n",
    "p = np.poly1d(z)\n",
    "pyplot.plot(x,p(x),\"r--\")"
   ]
  },
  {
   "cell_type": "code",
   "execution_count": 46,
   "metadata": {},
   "outputs": [
    {
     "data": {
      "image/png": "[encoded data removed]",
      "text/plain": [
       "<matplotlib.figure.Figure at 0x111284e48>"
      ]
     },
     "metadata": {},
     "output_type": "display_data"
    }
   ],
   "source": [
    "#Save and Draw Plots\n",
    "#Age vs. Time to Outcome for Euthanized animals\n",
    "pyplot.savefig('../figures/age_vs_time_to_outcome_Cats.png')\n",
    "\n",
    "pyplot.show()"
   ]
  },
  {
   "cell_type": "code",
   "execution_count": 47,
   "metadata": {},
   "outputs": [
    {
     "name": "stdout",
     "output_type": "stream",
     "text": [
      "\n",
      "\n",
      "DOGS:\n",
      "----------------\n",
      "Average age (days): 601.17\n",
      "Median age (days): 365.0\n",
      "Average time to outcome (days): 16.35\n",
      "Median time to outcome (days): 6.23\n",
      "\n",
      "Regression model:\n",
      "Coefficient: 0.004\n",
      "R-squared: 0.124\n",
      "P-value: 0.0\n",
      "\n",
      "The correlation is significant, but the effect size is small\n",
      "\n",
      "For DOGS, younger animals are generally adopted more quickly than older animals\n"
     ]
    }
   ],
   "source": [
    "#CATS\n",
    "\n",
    "#Redefine data for analysis using subset of data without outliers\n",
    "x=dogs['AgeDays_intake']\n",
    "y=dogs['Days from Intake to Outcome']\n",
    "#Regression\n",
    "coefficient,intercept,r_squared,p_value,std_err=stats.linregress(x,y)    \n",
    "\n",
    "print(\"\\n\\nDOGS:\\n----------------\")\n",
    "print(f\"Average age (days): {round(np.mean(x),2)}\")\n",
    "print(f\"Median age (days): {round(np.median(x),2)}\")\n",
    "print(f\"Average time to outcome (days): {round(np.mean(y),2)}\")\n",
    "print(f\"Median time to outcome (days): {round(np.median(y),2)}\")\n",
    "print(\"\\nRegression model:\")\n",
    "print(f\"Coefficient: {round(coefficient,3)}\")\n",
    "print(f\"R-squared: {round(r_squared,3)}\")\n",
    "print(f\"P-value: {round(p_value,3)}\")\n",
    "print(\"\\nThe correlation is significant, but the effect size is small\")\n",
    "print(\"\\nFor DOGS, younger animals are generally adopted more quickly than older animals\")"
   ]
  },
  {
   "cell_type": "code",
   "execution_count": 48,
   "metadata": {},
   "outputs": [],
   "source": [
    "%%capture\n",
    "pyplot.scatter(x,y)\n",
    "pyplot.plot([1,100])\n",
    "pylab.xlabel(\"Age at intake (days)\")\n",
    "pylab.ylabel(\"Time from Intake to Outcome (days)\")\n",
    "pylab.title(\"Age vs Time to Outcome (Dogs Only)\")\n",
    "z = np.polyfit(x, y, 1)\n",
    "p = np.poly1d(z)\n",
    "pyplot.plot(x,p(x),\"r--\")"
   ]
  },
  {
   "cell_type": "code",
   "execution_count": 49,
   "metadata": {},
   "outputs": [
    {
     "data": {
      "image/png": "[encoded data removed]",
      "text/plain": [
       "<matplotlib.figure.Figure at 0x1108f1748>"
      ]
     },
     "metadata": {},
     "output_type": "display_data"
    }
   ],
   "source": [
    "#Save and Draw Plots\n",
    "#Age vs. Time to Outcome for Euthanized animals\n",
    "pyplot.savefig('../figures/age_vs_time_to_outcome_Dogs.png')\n",
    "\n",
    "pyplot.show()"
   ]
  }
 ],
 "metadata": {
  "kernelspec": {
   "display_name": "Python 3",
   "language": "python",
   "name": "python3"
  },
  "language_info": {
   "codemirror_mode": {
    "name": "ipython",
    "version": 3
   },
   "file_extension": ".py",
   "mimetype": "text/x-python",
   "name": "python",
   "nbconvert_exporter": "python",
   "pygments_lexer": "ipython3",
   "version": "3.6.3"
  }
 },
 "nbformat": 4,
 "nbformat_minor": 2
}
