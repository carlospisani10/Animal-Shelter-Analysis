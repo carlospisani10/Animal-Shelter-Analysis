{
 "cells": [
  {
   "cell_type": "code",
   "execution_count": 16,
   "metadata": {},
   "outputs": [],
   "source": [
    "import pandas as pd\n",
    "import numpy as np\n",
    "import datetime\n",
    "import matplotlib.pyplot as plt"
   ]
  },
  {
   "cell_type": "code",
   "execution_count": 7,
   "metadata": {},
   "outputs": [],
   "source": [
    "louisville_data = pd.read_csv(\"../raw data/Louisville_with_time_deltas_dogs_cats_only.csv\")"
   ]
  },
  {
   "cell_type": "code",
   "execution_count": 8,
   "metadata": {},
   "outputs": [
    {
     "data": {
      "text/html": [
       "<div>\n",
       "<style scoped>\n",
       "    .dataframe tbody tr th:only-of-type {\n",
       "        vertical-align: middle;\n",
       "    }\n",
       "\n",
       "    .dataframe tbody tr th {\n",
       "        vertical-align: top;\n",
       "    }\n",
       "\n",
       "    .dataframe thead th {\n",
       "        text-align: right;\n",
       "    }\n",
       "</style>\n",
       "<table border=\"1\" class=\"dataframe\">\n",
       "  <thead>\n",
       "    <tr style=\"text-align: right;\">\n",
       "      <th></th>\n",
       "      <th>Unnamed: 0</th>\n",
       "      <th>AnimalID</th>\n",
       "      <th>AnimalType</th>\n",
       "      <th>IntakeDate</th>\n",
       "      <th>IntakeType</th>\n",
       "      <th>IntakeSubtype</th>\n",
       "      <th>PrimaryColor</th>\n",
       "      <th>PrimaryBreed</th>\n",
       "      <th>SecondaryBreed</th>\n",
       "      <th>Gender</th>\n",
       "      <th>...</th>\n",
       "      <th>IntakeAsilomarStatus</th>\n",
       "      <th>ReproductiveStatusAtIntake</th>\n",
       "      <th>OutcomeDate</th>\n",
       "      <th>OutcomeType</th>\n",
       "      <th>OutcomeSubtype</th>\n",
       "      <th>OutcomeReason</th>\n",
       "      <th>OutcomeInternalStatus</th>\n",
       "      <th>OutcomeAsilomarStatus</th>\n",
       "      <th>ReproductiveStatusAtOutcome</th>\n",
       "      <th>Days between Intake and Outcome</th>\n",
       "    </tr>\n",
       "  </thead>\n",
       "  <tbody>\n",
       "    <tr>\n",
       "      <th>0</th>\n",
       "      <td>0</td>\n",
       "      <td>A366370</td>\n",
       "      <td>CAT</td>\n",
       "      <td>2008-11-07 10:50:00</td>\n",
       "      <td>STRAY</td>\n",
       "      <td>OTC</td>\n",
       "      <td>WHITE</td>\n",
       "      <td>DOMESTIC SHORTHAIR</td>\n",
       "      <td>NaN</td>\n",
       "      <td>NEUTERED MALE</td>\n",
       "      <td>...</td>\n",
       "      <td>HEALTHY</td>\n",
       "      <td>ALTERED</td>\n",
       "      <td>2008-11-12 15:46:00</td>\n",
       "      <td>EUTH</td>\n",
       "      <td>FERAL</td>\n",
       "      <td>NaN</td>\n",
       "      <td>NaN</td>\n",
       "      <td>UNHEALTHY/UNTREATABLE</td>\n",
       "      <td>ALTERED</td>\n",
       "      <td>5.205556</td>\n",
       "    </tr>\n",
       "    <tr>\n",
       "      <th>1</th>\n",
       "      <td>1</td>\n",
       "      <td>A366531</td>\n",
       "      <td>CAT</td>\n",
       "      <td>2008-11-10 10:20:00</td>\n",
       "      <td>STRAY</td>\n",
       "      <td>OTC</td>\n",
       "      <td>BLACK</td>\n",
       "      <td>DOMESTIC SHORTHAIR</td>\n",
       "      <td>DOMESTIC SHORTHAIR</td>\n",
       "      <td>UNKNOWN</td>\n",
       "      <td>...</td>\n",
       "      <td>HEALTHY</td>\n",
       "      <td>UNKNOWN</td>\n",
       "      <td>2008-11-19 20:10:00</td>\n",
       "      <td>EUTH</td>\n",
       "      <td>CONTAG DIS</td>\n",
       "      <td>NaN</td>\n",
       "      <td>SICK</td>\n",
       "      <td>HEALTHY</td>\n",
       "      <td>UNKNOWN</td>\n",
       "      <td>9.409722</td>\n",
       "    </tr>\n",
       "    <tr>\n",
       "      <th>2</th>\n",
       "      <td>4</td>\n",
       "      <td>A281756</td>\n",
       "      <td>DOG</td>\n",
       "      <td>2006-09-11 18:10:00</td>\n",
       "      <td>OWNER SUR</td>\n",
       "      <td>OTC</td>\n",
       "      <td>WHITE</td>\n",
       "      <td>PIT BULL TERRIER</td>\n",
       "      <td>NaN</td>\n",
       "      <td>MALE</td>\n",
       "      <td>...</td>\n",
       "      <td>HEALTHY</td>\n",
       "      <td>FERTILE</td>\n",
       "      <td>2006-09-12 13:44:00</td>\n",
       "      <td>EUTH</td>\n",
       "      <td>TIME/SPACE</td>\n",
       "      <td>NaN</td>\n",
       "      <td>NaN</td>\n",
       "      <td>HEALTHY</td>\n",
       "      <td>FERTILE</td>\n",
       "      <td>0.815278</td>\n",
       "    </tr>\n",
       "    <tr>\n",
       "      <th>3</th>\n",
       "      <td>6</td>\n",
       "      <td>A278854</td>\n",
       "      <td>CAT</td>\n",
       "      <td>2006-08-17 14:28:00</td>\n",
       "      <td>STRAY</td>\n",
       "      <td>OTC</td>\n",
       "      <td>BROWN TIGER</td>\n",
       "      <td>DOMESTIC SHORTHAIR</td>\n",
       "      <td>NaN</td>\n",
       "      <td>FEMALE</td>\n",
       "      <td>...</td>\n",
       "      <td>HEALTHY</td>\n",
       "      <td>FERTILE</td>\n",
       "      <td>2006-08-28 11:30:00</td>\n",
       "      <td>EUTH</td>\n",
       "      <td>MEDICAL</td>\n",
       "      <td>NaN</td>\n",
       "      <td>NaN</td>\n",
       "      <td>HEALTHY</td>\n",
       "      <td>FERTILE</td>\n",
       "      <td>10.876389</td>\n",
       "    </tr>\n",
       "    <tr>\n",
       "      <th>4</th>\n",
       "      <td>7</td>\n",
       "      <td>A278862</td>\n",
       "      <td>CAT</td>\n",
       "      <td>2006-08-17 14:28:00</td>\n",
       "      <td>STRAY</td>\n",
       "      <td>OTC</td>\n",
       "      <td>GRAY</td>\n",
       "      <td>DOMESTIC SHORTHAIR</td>\n",
       "      <td>NaN</td>\n",
       "      <td>MALE</td>\n",
       "      <td>...</td>\n",
       "      <td>HEALTHY</td>\n",
       "      <td>FERTILE</td>\n",
       "      <td>2006-08-28 09:20:00</td>\n",
       "      <td>DIED</td>\n",
       "      <td>IN KENNEL</td>\n",
       "      <td>NaN</td>\n",
       "      <td>NaN</td>\n",
       "      <td>HEALTHY</td>\n",
       "      <td>FERTILE</td>\n",
       "      <td>10.786111</td>\n",
       "    </tr>\n",
       "  </tbody>\n",
       "</table>\n",
       "<p>5 rows × 24 columns</p>\n",
       "</div>"
      ],
      "text/plain": [
       "   Unnamed: 0 AnimalID AnimalType           IntakeDate IntakeType  \\\n",
       "0           0  A366370        CAT  2008-11-07 10:50:00      STRAY   \n",
       "1           1  A366531        CAT  2008-11-10 10:20:00      STRAY   \n",
       "2           4  A281756        DOG  2006-09-11 18:10:00  OWNER SUR   \n",
       "3           6  A278854        CAT  2006-08-17 14:28:00      STRAY   \n",
       "4           7  A278862        CAT  2006-08-17 14:28:00      STRAY   \n",
       "\n",
       "  IntakeSubtype PrimaryColor        PrimaryBreed      SecondaryBreed  \\\n",
       "0           OTC        WHITE  DOMESTIC SHORTHAIR                 NaN   \n",
       "1           OTC        BLACK  DOMESTIC SHORTHAIR  DOMESTIC SHORTHAIR   \n",
       "2           OTC        WHITE    PIT BULL TERRIER                 NaN   \n",
       "3           OTC  BROWN TIGER  DOMESTIC SHORTHAIR                 NaN   \n",
       "4           OTC         GRAY  DOMESTIC SHORTHAIR                 NaN   \n",
       "\n",
       "          Gender               ...                IntakeAsilomarStatus  \\\n",
       "0  NEUTERED MALE               ...                             HEALTHY   \n",
       "1        UNKNOWN               ...                             HEALTHY   \n",
       "2           MALE               ...                             HEALTHY   \n",
       "3         FEMALE               ...                             HEALTHY   \n",
       "4           MALE               ...                             HEALTHY   \n",
       "\n",
       "  ReproductiveStatusAtIntake          OutcomeDate OutcomeType OutcomeSubtype  \\\n",
       "0                    ALTERED  2008-11-12 15:46:00        EUTH          FERAL   \n",
       "1                    UNKNOWN  2008-11-19 20:10:00        EUTH     CONTAG DIS   \n",
       "2                    FERTILE  2006-09-12 13:44:00        EUTH     TIME/SPACE   \n",
       "3                    FERTILE  2006-08-28 11:30:00        EUTH        MEDICAL   \n",
       "4                    FERTILE  2006-08-28 09:20:00        DIED      IN KENNEL   \n",
       "\n",
       "  OutcomeReason OutcomeInternalStatus  OutcomeAsilomarStatus  \\\n",
       "0           NaN                   NaN  UNHEALTHY/UNTREATABLE   \n",
       "1           NaN                  SICK                HEALTHY   \n",
       "2           NaN                   NaN                HEALTHY   \n",
       "3           NaN                   NaN                HEALTHY   \n",
       "4           NaN                   NaN                HEALTHY   \n",
       "\n",
       "  ReproductiveStatusAtOutcome  Days between Intake and Outcome  \n",
       "0                     ALTERED                         5.205556  \n",
       "1                     UNKNOWN                         9.409722  \n",
       "2                     FERTILE                         0.815278  \n",
       "3                     FERTILE                        10.876389  \n",
       "4                     FERTILE                        10.786111  \n",
       "\n",
       "[5 rows x 24 columns]"
      ]
     },
     "execution_count": 8,
     "metadata": {},
     "output_type": "execute_result"
    }
   ],
   "source": [
    "louisville_data.head()"
   ]
  },
  {
   "cell_type": "code",
   "execution_count": 12,
   "metadata": {},
   "outputs": [
    {
     "data": {
      "text/plain": [
       "AnimalType\n",
       "CAT    68212\n",
       "DOG    76687\n",
       "Name: AnimalID, dtype: int64"
      ]
     },
     "execution_count": 12,
     "metadata": {},
     "output_type": "execute_result"
    }
   ],
   "source": [
    "#include only data for Dogs and Cats\n",
    "group_by_animal_type=louisville_data.groupby(louisville_data['AnimalType'])\n",
    "\n",
    "#count up total dogs and cats\n",
    "group_by_animal_type['AnimalID'].count()"
   ]
  },
  {
   "cell_type": "code",
   "execution_count": 29,
   "metadata": {},
   "outputs": [
    {
     "data": {
      "text/plain": [
       "AnimalType\n",
       "CAT    12.852754\n",
       "DOG    12.812994\n",
       "Name: Days between Intake and Outcome, dtype: float64"
      ]
     },
     "execution_count": 29,
     "metadata": {},
     "output_type": "execute_result"
    },
    {
     "data": {
      "text/plain": [
       "AnimalType\n",
       "CAT    88.104535\n",
       "DOG    94.097808\n",
       "Name: Days between Intake and Outcome, dtype: float64"
      ]
     },
     "execution_count": 29,
     "metadata": {},
     "output_type": "execute_result"
    },
    {
     "data": {
      "text/plain": [
       "<Container object of 2 artists>"
      ]
     },
     "execution_count": 29,
     "metadata": {},
     "output_type": "execute_result"
    },
    {
     "data": {
      "text/plain": [
       "(0, 14.852754429795464)"
      ]
     },
     "execution_count": 29,
     "metadata": {},
     "output_type": "execute_result"
    },
    {
     "data": {
      "image/png": "[encoded data removed]",
      "text/plain": [
       "<matplotlib.figure.Figure at 0x10c86b940>"
      ]
     },
     "metadata": {},
     "output_type": "display_data"
    }
   ],
   "source": [
    "#Average days between Intake and Outcome by animal type\n",
    "means=group_by_animal_type['Days between Intake and Outcome'].mean()\n",
    "stds=group_by_animal_type['Days between Intake and Outcome'].std()\n",
    "\n",
    "means[0:2]\n",
    "stds\n",
    "\n",
    "animals = [\"Cats\",\"Dogs\"]\n",
    "y_values = means[0:2]\n",
    "std_values = stds[0:2]\n",
    "\n",
    "plt.bar(animals, y_values, color='b')\n",
    "plt.ylim(0,y_values.max()+2)\n",
    "plt.show()\n",
    "#Time from intake to outcome is practically identical. Dogs have a bit more variance"
   ]
  },
  {
   "cell_type": "code",
   "execution_count": 18,
   "metadata": {},
   "outputs": [
    {
     "data": {
      "text/plain": [
       "<pandas.core.groupby.SeriesGroupBy object at 0x10bd89cf8>"
      ]
     },
     "execution_count": 18,
     "metadata": {},
     "output_type": "execute_result"
    }
   ],
   "source": [
    "group_by_animal_type['Days between Intake and Outcome']"
   ]
  },
  {
   "cell_type": "code",
   "execution_count": 34,
   "metadata": {},
   "outputs": [
    {
     "data": {
      "text/plain": [
       "{'boxes': [<matplotlib.lines.Line2D at 0x10cf68668>],\n",
       " 'caps': [<matplotlib.lines.Line2D at 0x10cf68518>,\n",
       "  <matplotlib.lines.Line2D at 0x10cf774a8>],\n",
       " 'fliers': [<matplotlib.lines.Line2D at 0x10cf77cf8>],\n",
       " 'means': [],\n",
       " 'medians': [<matplotlib.lines.Line2D at 0x10cf778d0>],\n",
       " 'whiskers': [<matplotlib.lines.Line2D at 0x10cf685c0>,\n",
       "  <matplotlib.lines.Line2D at 0x10cf68080>]}"
      ]
     },
     "execution_count": 34,
     "metadata": {},
     "output_type": "execute_result"
    }
   ],
   "source": [
    "plt.boxplot(y_values)"
   ]
  },
  {
   "cell_type": "code",
   "execution_count": 35,
   "metadata": {},
   "outputs": [
    {
     "data": {
      "image/png": "[encoded data removed]",
      "text/plain": [
       "<matplotlib.figure.Figure at 0x10d0dc2e8>"
      ]
     },
     "metadata": {},
     "output_type": "display_data"
    }
   ],
   "source": [
    "plt.show()"
   ]
  },
  {
   "cell_type": "code",
   "execution_count": 38,
   "metadata": {},
   "outputs": [
    {
     "name": "stderr",
     "output_type": "stream",
     "text": [
      "/Library/Frameworks/Python.framework/Versions/3.6/lib/python3.6/site-packages/numpy/lib/function_base.py:4274: RuntimeWarning: Invalid value encountered in percentile\n",
      "  interpolation=interpolation)\n",
      "/Library/Frameworks/Python.framework/Versions/3.6/lib/python3.6/site-packages/matplotlib/cbook/__init__.py:1857: RuntimeWarning: invalid value encountered in less_equal\n",
      "  wiskhi = np.compress(x <= hival, x)\n",
      "/Library/Frameworks/Python.framework/Versions/3.6/lib/python3.6/site-packages/matplotlib/cbook/__init__.py:1864: RuntimeWarning: invalid value encountered in greater_equal\n",
      "  wisklo = np.compress(x >= loval, x)\n",
      "/Library/Frameworks/Python.framework/Versions/3.6/lib/python3.6/site-packages/matplotlib/cbook/__init__.py:1872: RuntimeWarning: invalid value encountered in less\n",
      "  np.compress(x < stats['whislo'], x),\n",
      "/Library/Frameworks/Python.framework/Versions/3.6/lib/python3.6/site-packages/matplotlib/cbook/__init__.py:1873: RuntimeWarning: invalid value encountered in greater\n",
      "  np.compress(x > stats['whishi'], x)\n"
     ]
    },
    {
     "data": {
      "text/plain": [
       "{'boxes': [<matplotlib.lines.Line2D at 0x10ca2be80>],\n",
       " 'caps': [<matplotlib.lines.Line2D at 0x10ca37470>,\n",
       "  <matplotlib.lines.Line2D at 0x10ca37e80>],\n",
       " 'fliers': [<matplotlib.lines.Line2D at 0x10ca20160>],\n",
       " 'means': [],\n",
       " 'medians': [<matplotlib.lines.Line2D at 0x10ca20c18>],\n",
       " 'whiskers': [<matplotlib.lines.Line2D at 0x10ca2b400>,\n",
       "  <matplotlib.lines.Line2D at 0x10ca2b5c0>]}"
      ]
     },
     "execution_count": 38,
     "metadata": {},
     "output_type": "execute_result"
    }
   ],
   "source": [
    "data=louisville_data['Days between Intake and Outcome']\n",
    "\n",
    "plt.boxplot(data)"
   ]
  },
  {
   "cell_type": "code",
   "execution_count": 39,
   "metadata": {},
   "outputs": [
    {
     "data": {
      "image/png": "[encoded data removed]",
      "text/plain": [
       "<matplotlib.figure.Figure at 0x10cf8b630>"
      ]
     },
     "metadata": {},
     "output_type": "display_data"
    }
   ],
   "source": [
    "plt.show()"
   ]
  },
  {
   "cell_type": "code",
   "execution_count": null,
   "metadata": {},
   "outputs": [],
   "source": []
  }
 ],
 "metadata": {
  "kernelspec": {
   "display_name": "Python 3",
   "language": "python",
   "name": "python3"
  },
  "language_info": {
   "codemirror_mode": {
    "name": "ipython",
    "version": 3
   },
   "file_extension": ".py",
   "mimetype": "text/x-python",
   "name": "python",
   "nbconvert_exporter": "python",
   "pygments_lexer": "ipython3",
   "version": "3.6.3"
  }
 },
 "nbformat": 4,
 "nbformat_minor": 2
}
