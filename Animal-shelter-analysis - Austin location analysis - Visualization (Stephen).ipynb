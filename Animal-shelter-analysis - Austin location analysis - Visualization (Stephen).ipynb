{
 "cells": [
  {
   "cell_type": "markdown",
   "metadata": {},
   "source": [
    "# Animal Shelter Intake Analysis in Austin, TX by Location\n",
    "## Visualizations\n",
    "\n",
    "#### Stephen Schadt, Group 2 Team"
   ]
  },
  {
   "cell_type": "code",
   "execution_count": null,
   "metadata": {
    "collapsed": true
   },
   "outputs": [],
   "source": [
    "# Dependencies\n",
    "import numpy as np\n",
    "import pandas as pd\n",
    "import matplotlib.pyplot as plt\n",
    "import requests\n",
    "import gmaps\n",
    "import gmaps.datasets"
   ]
  },
  {
   "cell_type": "markdown",
   "metadata": {},
   "source": [
    "### Google Maps Heat Map Visualizations \n",
    "#### Intakes - All"
   ]
  },
  {
   "cell_type": "code",
   "execution_count": null,
   "metadata": {},
   "outputs": [],
   "source": [
    "# Set Google API key value\n",
    "from config import gkey\n",
    "gmaps.configure(api_key=gkey)"
   ]
  },
  {
   "cell_type": "code",
   "execution_count": null,
   "metadata": {
    "collapsed": true
   },
   "outputs": [],
   "source": [
    "# Read in All animals address counts CSV \n",
    "df_summary_all = pd.read_csv('raw data/animal_shelter_analysis_address_counts_ALL.csv', encoding='latin-1')"
   ]
  },
  {
   "cell_type": "code",
   "execution_count": null,
   "metadata": {
    "scrolled": true
   },
   "outputs": [],
   "source": [
    "#\n",
    "# *** Overview Map ***\n",
    "#\n",
    "# Initialize our map figure\n",
    "fig1 = gmaps.figure(center=(30.3, -97.74), zoom_level=10)\n",
    "\n",
    "# Apply our heatmap of ALL animals to the figure and output it\n",
    "heatmap_layer = gmaps.heatmap_layer(df_summary_all[[\"Latitude\", \"Longitude\"]], weights=df_summary_all[\"Count\"])\n",
    "\n",
    "# Apply heatmap_layer to figure\n",
    "fig1.add_layer(heatmap_layer)\n",
    "\n",
    "# Tweak heatmap intensity radius coloring\n",
    "heatmap_layer.max_intensity = 19\n",
    "heatmap_layer.point_radius = 5\n",
    "\n",
    "# Output figure\n",
    "fig1"
   ]
  },
  {
   "cell_type": "code",
   "execution_count": null,
   "metadata": {},
   "outputs": [],
   "source": [
    "# *** Zoomed Map ***\n",
    "#\n",
    "# Initialize our map figure\n",
    "fig2 = gmaps.figure(center=(30.3, -97.74), zoom_level=11)\n",
    "\n",
    "# Apply heatmap_layer to figure\n",
    "fig2.add_layer(heatmap_layer)\n",
    "\n",
    "# Tweak heatmap intensity radius coloring\n",
    "heatmap_layer.max_intensity = 12\n",
    "heatmap_layer.point_radius = 6\n",
    "\n",
    "# Output figure\n",
    "fig2"
   ]
  },
  {
   "cell_type": "markdown",
   "metadata": {},
   "source": [
    "#### Intakes - Animals from homes"
   ]
  },
  {
   "cell_type": "code",
   "execution_count": null,
   "metadata": {},
   "outputs": [],
   "source": [
    "# Read in animals-in-homes address counts CSV \n",
    "df_summary_homes = pd.read_csv('raw data/animal_shelter_analysis_address_counts_HOMES.csv', encoding='latin-1')"
   ]
  },
  {
   "cell_type": "code",
   "execution_count": null,
   "metadata": {
    "scrolled": false
   },
   "outputs": [],
   "source": [
    "# *** Overview Map ***\n",
    "#\n",
    "# Initialize our map figure\n",
    "fig1 = gmaps.figure(center=(30.3, -97.74), zoom_level=10)\n",
    "\n",
    "# Apply our heatmap of ALL animals to the figure and output it\n",
    "heatmap_layer_homes = gmaps.heatmap_layer(df_summary_homes[[\"Latitude\", \"Longitude\"]], weights=df_summary_homes[\"Count\"])\n",
    "\n",
    "# Apply heatmap_layer to figure\n",
    "fig1.add_layer(heatmap_layer_homes)\n",
    "\n",
    "# Tweak heatmap intensity radius coloring\n",
    "heatmap_layer_homes.max_intensity = 19\n",
    "heatmap_layer_homes.point_radius = 5\n",
    "\n",
    "# Output figure\n",
    "fig1"
   ]
  },
  {
   "cell_type": "code",
   "execution_count": null,
   "metadata": {},
   "outputs": [],
   "source": [
    "# *** Zoomed Map ***\n",
    "#\n",
    "# Initialize our map figure\n",
    "fig2 = gmaps.figure(center=(30.3, -97.74), zoom_level=11)\n",
    "\n",
    "# Apply heatmap_layer to figure\n",
    "fig2.add_layer(heatmap_layer_homes)\n",
    "\n",
    "# Tweak heatmap intensity radius coloring\n",
    "heatmap_layer_homes.max_intensity = 12\n",
    "heatmap_layer_homes.point_radius = 6\n",
    "\n",
    "# Output figure\n",
    "fig2"
   ]
  },
  {
   "cell_type": "markdown",
   "metadata": {},
   "source": [
    "#### Intakes - Dogs"
   ]
  },
  {
   "cell_type": "code",
   "execution_count": null,
   "metadata": {
    "collapsed": true
   },
   "outputs": [],
   "source": [
    "# Read in Dogs address counts CSV \n",
    "df_summary_dogs = pd.read_csv('raw data/animal_shelter_analysis_address_counts_DOGS.csv', encoding='latin-1')"
   ]
  },
  {
   "cell_type": "code",
   "execution_count": null,
   "metadata": {},
   "outputs": [],
   "source": [
    "# *** Overview Map ***\n",
    "#\n",
    "# Initialize our map figure\n",
    "fig1 = gmaps.figure(center=(30.3, -97.74), zoom_level=10)\n",
    "\n",
    "# Apply our heatmap of ALL animals to the figure and output it\n",
    "heatmap_layer_dogs = gmaps.heatmap_layer(df_summary_dogs[[\"Latitude\", \"Longitude\"]], weights=df_summary_dogs[\"Count\"])\n",
    "\n",
    "# Apply heatmap_layer to figure\n",
    "fig1.add_layer(heatmap_layer_dogs)\n",
    "\n",
    "# Tweak heatmap intensity radius coloring\n",
    "heatmap_layer_dogs.max_intensity = 19\n",
    "heatmap_layer_dogs.point_radius = 5\n",
    "\n",
    "# Output figure\n",
    "fig1"
   ]
  },
  {
   "cell_type": "code",
   "execution_count": null,
   "metadata": {},
   "outputs": [],
   "source": [
    "# *** Zoomed Map ***\n",
    "#\n",
    "# Initialize our map figure\n",
    "fig2 = gmaps.figure(center=(30.3, -97.74), zoom_level=11)\n",
    "\n",
    "# Apply heatmap_layer to figure\n",
    "fig2.add_layer(heatmap_layer_dogs)\n",
    "\n",
    "# Tweak heatmap intensity radius coloring\n",
    "heatmap_layer_dogs.max_intensity = 12\n",
    "heatmap_layer_dogs.point_radius = 6\n",
    "\n",
    "# Output figure\n",
    "fig2"
   ]
  },
  {
   "cell_type": "markdown",
   "metadata": {},
   "source": [
    "#### Intakes - Cats"
   ]
  },
  {
   "cell_type": "code",
   "execution_count": null,
   "metadata": {
    "collapsed": true
   },
   "outputs": [],
   "source": [
    "# Read in animals-in-homes address counts CSV \n",
    "df_summary_cats = pd.read_csv('raw data/animal_shelter_analysis_address_counts_CATS.csv', encoding='latin-1')"
   ]
  },
  {
   "cell_type": "code",
   "execution_count": null,
   "metadata": {},
   "outputs": [],
   "source": [
    "# *** Overview Map ***\n",
    "#\n",
    "# Initialize our map figure\n",
    "fig1 = gmaps.figure(center=(30.3, -97.74), zoom_level=10)\n",
    "\n",
    "# Apply our heatmap of ALL animals to the figure and output it\n",
    "heatmap_layer_cats = gmaps.heatmap_layer(df_summary_cats[[\"Latitude\", \"Longitude\"]], weights=df_summary_cats[\"Count\"])\n",
    "\n",
    "# Apply heatmap_layer to figure\n",
    "fig1.add_layer(heatmap_layer_cats)\n",
    "\n",
    "# Tweak heatmap intensity radius coloring\n",
    "heatmap_layer_cats.max_intensity = 19\n",
    "heatmap_layer_cats.point_radius = 5\n",
    "\n",
    "# Output figure\n",
    "fig1"
   ]
  },
  {
   "cell_type": "code",
   "execution_count": null,
   "metadata": {},
   "outputs": [],
   "source": [
    "# *** Zoomed Map ***\n",
    "#\n",
    "# Initialize our map figure\n",
    "fig2 = gmaps.figure(center=(30.3, -97.74), zoom_level=11)\n",
    "\n",
    "# Apply heatmap_layer to figure\n",
    "fig2.add_layer(heatmap_layer_cats)\n",
    "\n",
    "# Tweak heatmap intensity radius coloring\n",
    "heatmap_layer_cats.max_intensity = 12\n",
    "heatmap_layer_cats.point_radius = 6\n",
    "\n",
    "# Output figure\n",
    "fig2"
   ]
  },
  {
   "cell_type": "markdown",
   "metadata": {},
   "source": [
    " #### Intakes - Strays"
   ]
  },
  {
   "cell_type": "code",
   "execution_count": null,
   "metadata": {
    "collapsed": true
   },
   "outputs": [],
   "source": [
    "# Read in animals-in-homes address counts CSV \n",
    "df_summary_strays = pd.read_csv('raw data/animal_shelter_analysis_address_counts_STRAYS.csv', encoding='latin-1')"
   ]
  },
  {
   "cell_type": "code",
   "execution_count": null,
   "metadata": {},
   "outputs": [],
   "source": [
    "# *** Overview Map ***\n",
    "#\n",
    "# Initialize our map figure\n",
    "fig1 = gmaps.figure(center=(30.3, -97.74), zoom_level=10)\n",
    "\n",
    "# Apply our heatmap of ALL animals to the figure and output it\n",
    "heatmap_layer_strays = gmaps.heatmap_layer(df_summary_strays[[\"Latitude\", \"Longitude\"]], weights=df_summary_strays[\"Count\"])\n",
    "\n",
    "# Apply heatmap_layer to figure\n",
    "fig1.add_layer(heatmap_layer_strays)\n",
    "\n",
    "# Tweak heatmap intensity radius coloring\n",
    "heatmap_layer_strays.max_intensity = 19\n",
    "heatmap_layer_strays.point_radius = 5\n",
    "\n",
    "# Output figure\n",
    "fig1"
   ]
  },
  {
   "cell_type": "code",
   "execution_count": null,
   "metadata": {},
   "outputs": [],
   "source": [
    "# *** Zoomed Map ***\n",
    "#\n",
    "# Initialize our map figure\n",
    "fig2 = gmaps.figure(center=(30.3, -97.74), zoom_level=11)\n",
    "\n",
    "# Apply heatmap_layer to figure\n",
    "fig2.add_layer(heatmap_layer_strays)\n",
    "\n",
    "# Tweak heatmap intensity radius coloring\n",
    "heatmap_layer_strays.max_intensity = 12\n",
    "heatmap_layer_strays.point_radius = 6\n",
    "\n",
    "# Output figure\n",
    "fig2"
   ]
  },
  {
   "cell_type": "markdown",
   "metadata": {},
   "source": [
    "### Google Maps Point Plot: Intake addresses of dogs vs. cats (from homes)"
   ]
  },
  {
   "cell_type": "code",
   "execution_count": null,
   "metadata": {
    "collapsed": true
   },
   "outputs": [],
   "source": [
    "# Dogs from homes\n",
    "df_animals_summary_dogsfromhomes = df_summary_dogs.loc[(df_summary_dogs[\"Pet at Home\"] == True),]\n",
    "\n",
    "# Cats from homes\n",
    "df_animals_summary_catsfromhomes = df_summary_cats.loc[(df_summary_cats[\"Pet at Home\"] == True),]"
   ]
  },
  {
   "cell_type": "code",
   "execution_count": null,
   "metadata": {
    "collapsed": true
   },
   "outputs": [],
   "source": [
    "# Create dataframes for lat/long values for dogs & cats, and break into list of tuples\n",
    "df_latlong_dogs = df_animals_summary_dogsfromhomes[[\"Latitude\", \"Longitude\"]]\n",
    "df_latlong_cats = df_animals_summary_catsfromhomes[[\"Latitude\", \"Longitude\"]]\n",
    "dogs_latlong_tuples = [tuple(x) for x in df_latlong_dogs.values]\n",
    "cats_latlong_tuples = [tuple(x) for x in df_latlong_cats.values]"
   ]
  },
  {
   "cell_type": "code",
   "execution_count": null,
   "metadata": {
    "scrolled": false
   },
   "outputs": [],
   "source": [
    "# Plot points representing just dogs and cats (colored separately)\n",
    "dogs_layer = gmaps.symbol_layer(dogs_latlong_tuples, fill_color=\"#0000FF\", stroke_color=\"#0000FF\", scale=2)\n",
    "cats_layer = gmaps.symbol_layer(cats_latlong_tuples, fill_color=\"#FF1493\", stroke_color=\"#FF1493\", scale=2)\n",
    "\n",
    "# Initialize map figure\n",
    "fig = gmaps.figure(center=(30.27, -97.74), zoom_level=11)\n",
    "\n",
    "# Add layers for dogs, then cats (dogs blue, cats magenta)\n",
    "fig.add_layer(dogs_layer)\n",
    "fig.add_layer(cats_layer)\n",
    "fig"
   ]
  },
  {
   "cell_type": "markdown",
   "metadata": {},
   "source": [
    "### Scatter plot: Veterinarian count vs. Pet intake address count"
   ]
  },
  {
   "cell_type": "code",
   "execution_count": null,
   "metadata": {
    "collapsed": true
   },
   "outputs": [],
   "source": [
    "# Read All Animals summary dataframe with Vet\n",
    "df_animals_summary_all = pd.read_csv('raw data/animal_shelter_analysis_with_VetAndRadius_data.csv', encoding='latin-1')"
   ]
  },
  {
   "cell_type": "code",
   "execution_count": null,
   "metadata": {},
   "outputs": [],
   "source": [
    "# Build a scatter plot for each data type\n",
    "plt.scatter(df_animals_summary_all[\"Vet Count\"], \n",
    "            df_animals_summary_all[\"Intakes within Radius\"],\n",
    "            edgecolor=\"black\", linewidths=1, marker=\"o\", \n",
    "            alpha=0.8, label=\"\")\n",
    "\n",
    "# Incorporate the other graph properties\n",
    "plt.title(\"Intakes vs. Vet Count by Lat/Long\")\n",
    "plt.ylabel(\"Intake Count\")\n",
    "plt.xlabel(\"Vet Count\")\n",
    "plt.grid(True)\n",
    "plt.xlim([-2.5, max(df_animals_summary_all[\"Vet Count\"]) + 3])\n",
    "plt.ylim([-2.5, max(df_animals_summary_all[\"Intakes within Radius\"] + 3)])\n",
    "\n",
    "# Save the figure\n",
    "plt.savefig(\"intakes_vs_get_count_by_latlng.png\")\n",
    "\n",
    "# Show plot\n",
    "plt.show()"
   ]
  }
 ],
 "metadata": {
  "kernelspec": {
   "display_name": "Python 3",
   "language": "python",
   "name": "python3"
  },
  "language_info": {
   "codemirror_mode": {
    "name": "ipython",
    "version": 3
   },
   "file_extension": ".py",
   "mimetype": "text/x-python",
   "name": "python",
   "nbconvert_exporter": "python",
   "pygments_lexer": "ipython3",
   "version": "3.6.1"
  }
 },
 "nbformat": 4,
 "nbformat_minor": 2
}
