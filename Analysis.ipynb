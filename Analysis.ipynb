{
 "cells": [
  {
   "cell_type": "markdown",
   "metadata": {},
   "source": [
    "# Project: Be a hero & save a pet today\n",
    "## Team Name: In the Dawg Houz\n",
    "### Team:  Emily Cogsgill, Marya Crigler,  Carlos Pisani, Stephen Schadt"
   ]
  },
  {
   "cell_type": "markdown",
   "metadata": {
    "collapsed": true
   },
   "source": [
    "## Dependencies"
   ]
  },
  {
   "cell_type": "code",
   "execution_count": 1,
   "metadata": {
    "collapsed": true
   },
   "outputs": [],
   "source": [
    "# Dependencies\n",
    "import pandas as pd\n",
    "import numpy as np\n",
    "import datetime\n",
    "import matplotlib.pyplot as plt\n",
    "import scipy.stats as stats\n",
    "import math\n",
    "import requests\n",
    "import gmaps\n",
    "import gmaps.datasets\n",
    "\n",
    "from matplotlib import pyplot, pylab"
   ]
  },
  {
   "cell_type": "markdown",
   "metadata": {
    "collapsed": true
   },
   "source": [
    "## Local Data analysis"
   ]
  },
  {
   "cell_type": "code",
   "execution_count": 2,
   "metadata": {
    "collapsed": true
   },
   "outputs": [],
   "source": [
    "# Set filepaths\n",
    "csv_filepath1 = \"raw data/MergedData.csv\""
   ]
  },
  {
   "cell_type": "code",
   "execution_count": 3,
   "metadata": {},
   "outputs": [
    {
     "data": {
      "text/html": [
       "<div>\n",
       "<style>\n",
       "    .dataframe thead tr:only-child th {\n",
       "        text-align: right;\n",
       "    }\n",
       "\n",
       "    .dataframe thead th {\n",
       "        text-align: left;\n",
       "    }\n",
       "\n",
       "    .dataframe tbody tr th {\n",
       "        vertical-align: top;\n",
       "    }\n",
       "</style>\n",
       "<table border=\"1\" class=\"dataframe\">\n",
       "  <thead>\n",
       "    <tr style=\"text-align: right;\">\n",
       "      <th></th>\n",
       "      <th>Animal ID</th>\n",
       "      <th>Name_intake</th>\n",
       "      <th>DateTime_intake</th>\n",
       "      <th>Found Location</th>\n",
       "      <th>Intake Type</th>\n",
       "      <th>Intake Condition</th>\n",
       "      <th>Animal Type_intake</th>\n",
       "      <th>Sex upon Intake</th>\n",
       "      <th>Age upon Intake</th>\n",
       "      <th>Breed_intake</th>\n",
       "      <th>...</th>\n",
       "      <th>Sex_outcome</th>\n",
       "      <th>Female_outcome</th>\n",
       "      <th>Male_outcome</th>\n",
       "      <th>SpayNeuter_outcome</th>\n",
       "      <th>Purebred_outcome</th>\n",
       "      <th>NumAge_outcome</th>\n",
       "      <th>AgeUnits_outcome</th>\n",
       "      <th>AgeDays_outcome</th>\n",
       "      <th>Intake Outcome Days</th>\n",
       "      <th>IODays</th>\n",
       "    </tr>\n",
       "  </thead>\n",
       "  <tbody>\n",
       "    <tr>\n",
       "      <th>0</th>\n",
       "      <td>A748291</td>\n",
       "      <td>*Madison</td>\n",
       "      <td>2017-05-01 14:26:00</td>\n",
       "      <td>S Pleasant Valley Rd And E Riverside Dr in Aus...</td>\n",
       "      <td>Stray</td>\n",
       "      <td>Normal</td>\n",
       "      <td>Dog</td>\n",
       "      <td>Intact Female</td>\n",
       "      <td>10 months</td>\n",
       "      <td>Pit Bull Mix</td>\n",
       "      <td>...</td>\n",
       "      <td>Female</td>\n",
       "      <td>1.0</td>\n",
       "      <td>0.0</td>\n",
       "      <td>Yes</td>\n",
       "      <td>0</td>\n",
       "      <td>1.0</td>\n",
       "      <td>year</td>\n",
       "      <td>365.0</td>\n",
       "      <td>125 days 09:34:00.000000000</td>\n",
       "      <td>125.0</td>\n",
       "    </tr>\n",
       "    <tr>\n",
       "      <th>1</th>\n",
       "      <td>A750529</td>\n",
       "      <td>NaN</td>\n",
       "      <td>2017-05-28 13:22:00</td>\n",
       "      <td>8312 North Ih 35 in Austin (TX)</td>\n",
       "      <td>Stray</td>\n",
       "      <td>Normal</td>\n",
       "      <td>Dog</td>\n",
       "      <td>Intact Female</td>\n",
       "      <td>5 months</td>\n",
       "      <td>Miniature Schnauzer Mix</td>\n",
       "      <td>...</td>\n",
       "      <td>Female</td>\n",
       "      <td>1.0</td>\n",
       "      <td>0.0</td>\n",
       "      <td>Yes</td>\n",
       "      <td>0</td>\n",
       "      <td>5.0</td>\n",
       "      <td>month</td>\n",
       "      <td>150.0</td>\n",
       "      <td>4 days 03:20:00.000000000</td>\n",
       "      <td>4.0</td>\n",
       "    </tr>\n",
       "    <tr>\n",
       "      <th>2</th>\n",
       "      <td>A730601</td>\n",
       "      <td>NaN</td>\n",
       "      <td>2016-07-07 12:11:00</td>\n",
       "      <td>1109 Shady Ln in Austin (TX)</td>\n",
       "      <td>Stray</td>\n",
       "      <td>Normal</td>\n",
       "      <td>Cat</td>\n",
       "      <td>Intact Male</td>\n",
       "      <td>7 months</td>\n",
       "      <td>Domestic Shorthair Mix</td>\n",
       "      <td>...</td>\n",
       "      <td>Male</td>\n",
       "      <td>0.0</td>\n",
       "      <td>1.0</td>\n",
       "      <td>Yes</td>\n",
       "      <td>0</td>\n",
       "      <td>7.0</td>\n",
       "      <td>month</td>\n",
       "      <td>210.0</td>\n",
       "      <td>0 days 20:49:00.000000000</td>\n",
       "      <td>0.0</td>\n",
       "    </tr>\n",
       "    <tr>\n",
       "      <th>3</th>\n",
       "      <td>A748238</td>\n",
       "      <td>NaN</td>\n",
       "      <td>2017-05-01 10:53:00</td>\n",
       "      <td>Airport Blvd And Oak Springs Dr in Austin (TX)</td>\n",
       "      <td>Stray</td>\n",
       "      <td>Normal</td>\n",
       "      <td>Dog</td>\n",
       "      <td>Intact Male</td>\n",
       "      <td>3 years</td>\n",
       "      <td>Bichon Frise Mix</td>\n",
       "      <td>...</td>\n",
       "      <td>Male</td>\n",
       "      <td>0.0</td>\n",
       "      <td>1.0</td>\n",
       "      <td>Yes</td>\n",
       "      <td>0</td>\n",
       "      <td>3.0</td>\n",
       "      <td>year</td>\n",
       "      <td>1095.0</td>\n",
       "      <td>5 days 05:04:00.000000000</td>\n",
       "      <td>5.0</td>\n",
       "    </tr>\n",
       "    <tr>\n",
       "      <th>4</th>\n",
       "      <td>A683644</td>\n",
       "      <td>*Zoey</td>\n",
       "      <td>2014-07-13 11:02:00</td>\n",
       "      <td>Austin (TX)</td>\n",
       "      <td>Owner Surrender</td>\n",
       "      <td>Nursing</td>\n",
       "      <td>Dog</td>\n",
       "      <td>Intact Female</td>\n",
       "      <td>4 weeks</td>\n",
       "      <td>Border Collie Mix</td>\n",
       "      <td>...</td>\n",
       "      <td>Female</td>\n",
       "      <td>1.0</td>\n",
       "      <td>0.0</td>\n",
       "      <td>Yes</td>\n",
       "      <td>0</td>\n",
       "      <td>4.0</td>\n",
       "      <td>month</td>\n",
       "      <td>120.0</td>\n",
       "      <td>115 days 23:04:00.000000000</td>\n",
       "      <td>115.0</td>\n",
       "    </tr>\n",
       "  </tbody>\n",
       "</table>\n",
       "<p>5 rows × 43 columns</p>\n",
       "</div>"
      ],
      "text/plain": [
       "  Animal ID Name_intake      DateTime_intake  \\\n",
       "0   A748291    *Madison  2017-05-01 14:26:00   \n",
       "1   A750529         NaN  2017-05-28 13:22:00   \n",
       "2   A730601         NaN  2016-07-07 12:11:00   \n",
       "3   A748238         NaN  2017-05-01 10:53:00   \n",
       "4   A683644       *Zoey  2014-07-13 11:02:00   \n",
       "\n",
       "                                      Found Location      Intake Type  \\\n",
       "0  S Pleasant Valley Rd And E Riverside Dr in Aus...            Stray   \n",
       "1                    8312 North Ih 35 in Austin (TX)            Stray   \n",
       "2                       1109 Shady Ln in Austin (TX)            Stray   \n",
       "3     Airport Blvd And Oak Springs Dr in Austin (TX)            Stray   \n",
       "4                                        Austin (TX)  Owner Surrender   \n",
       "\n",
       "  Intake Condition Animal Type_intake Sex upon Intake Age upon Intake  \\\n",
       "0           Normal                Dog   Intact Female       10 months   \n",
       "1           Normal                Dog   Intact Female        5 months   \n",
       "2           Normal                Cat     Intact Male        7 months   \n",
       "3           Normal                Dog     Intact Male         3 years   \n",
       "4          Nursing                Dog   Intact Female         4 weeks   \n",
       "\n",
       "              Breed_intake  ...   Sex_outcome  Female_outcome  Male_outcome  \\\n",
       "0             Pit Bull Mix  ...        Female             1.0           0.0   \n",
       "1  Miniature Schnauzer Mix  ...        Female             1.0           0.0   \n",
       "2   Domestic Shorthair Mix  ...          Male             0.0           1.0   \n",
       "3         Bichon Frise Mix  ...          Male             0.0           1.0   \n",
       "4        Border Collie Mix  ...        Female             1.0           0.0   \n",
       "\n",
       "  SpayNeuter_outcome  Purebred_outcome  NumAge_outcome AgeUnits_outcome  \\\n",
       "0                Yes                 0             1.0             year   \n",
       "1                Yes                 0             5.0            month   \n",
       "2                Yes                 0             7.0            month   \n",
       "3                Yes                 0             3.0             year   \n",
       "4                Yes                 0             4.0            month   \n",
       "\n",
       "   AgeDays_outcome          Intake Outcome Days IODays  \n",
       "0            365.0  125 days 09:34:00.000000000  125.0  \n",
       "1            150.0    4 days 03:20:00.000000000    4.0  \n",
       "2            210.0    0 days 20:49:00.000000000    0.0  \n",
       "3           1095.0    5 days 05:04:00.000000000    5.0  \n",
       "4            120.0  115 days 23:04:00.000000000  115.0  \n",
       "\n",
       "[5 rows x 43 columns]"
      ]
     },
     "execution_count": 3,
     "metadata": {},
     "output_type": "execute_result"
    }
   ],
   "source": [
    "# Read the csv files into new dataframe\n",
    "df = pd.read_csv(csv_filepath1, encoding=\"iso-8859-1\", low_memory=False)\n",
    "df.head()"
   ]
  },
  {
   "cell_type": "code",
   "execution_count": 4,
   "metadata": {},
   "outputs": [
    {
     "name": "stdout",
     "output_type": "stream",
     "text": [
      "Index(['Animal ID', 'Name_intake', 'DateTime_intake', 'Found Location',\n",
      "       'Intake Type', 'Intake Condition', 'Animal Type_intake',\n",
      "       'Sex upon Intake', 'Age upon Intake', 'Breed_intake', 'Color_intake',\n",
      "       'Month_intake', 'Year_intake', 'Sex_intake', 'Female_intake',\n",
      "       'Male_intake', 'SpayNeuter_intake', 'Purebred_intake', 'NumAge_intake',\n",
      "       'AgeUnits_intake', 'AgeDays_intake', 'Name_outcome', 'DateTime_outcome',\n",
      "       'Date of Birth', 'Outcome Type', 'Outcome Subtype',\n",
      "       'Animal Type_outcome', 'Sex upon Outcome', 'Age upon Outcome',\n",
      "       'Breed_outcome', 'Color_outcome', 'Month_outcome', 'Year_outcome',\n",
      "       'Sex_outcome', 'Female_outcome', 'Male_outcome', 'SpayNeuter_outcome',\n",
      "       'Purebred_outcome', 'NumAge_outcome', 'AgeUnits_outcome',\n",
      "       'AgeDays_outcome', 'Intake Outcome Days', 'IODays'],\n",
      "      dtype='object')\n"
     ]
    }
   ],
   "source": [
    "print(df.columns)"
   ]
  },
  {
   "cell_type": "code",
   "execution_count": 5,
   "metadata": {},
   "outputs": [
    {
     "data": {
      "text/html": [
       "<div>\n",
       "<style>\n",
       "    .dataframe thead tr:only-child th {\n",
       "        text-align: right;\n",
       "    }\n",
       "\n",
       "    .dataframe thead th {\n",
       "        text-align: left;\n",
       "    }\n",
       "\n",
       "    .dataframe tbody tr th {\n",
       "        vertical-align: top;\n",
       "    }\n",
       "</style>\n",
       "<table border=\"1\" class=\"dataframe\">\n",
       "  <thead>\n",
       "    <tr style=\"text-align: right;\">\n",
       "      <th></th>\n",
       "      <th>Month_intake</th>\n",
       "      <th>Year_intake</th>\n",
       "      <th>Female_intake</th>\n",
       "      <th>Male_intake</th>\n",
       "      <th>Purebred_intake</th>\n",
       "      <th>NumAge_intake</th>\n",
       "      <th>AgeDays_intake</th>\n",
       "      <th>Month_outcome</th>\n",
       "      <th>Year_outcome</th>\n",
       "      <th>Female_outcome</th>\n",
       "      <th>Male_outcome</th>\n",
       "      <th>Purebred_outcome</th>\n",
       "      <th>NumAge_outcome</th>\n",
       "      <th>AgeDays_outcome</th>\n",
       "      <th>IODays</th>\n",
       "    </tr>\n",
       "  </thead>\n",
       "  <tbody>\n",
       "    <tr>\n",
       "      <th>count</th>\n",
       "      <td>57593.000000</td>\n",
       "      <td>57593.000000</td>\n",
       "      <td>57592.000000</td>\n",
       "      <td>57592.000000</td>\n",
       "      <td>57593.000000</td>\n",
       "      <td>57593.000000</td>\n",
       "      <td>57593.000000</td>\n",
       "      <td>57593.000000</td>\n",
       "      <td>57593.000000</td>\n",
       "      <td>57591.000000</td>\n",
       "      <td>57591.000000</td>\n",
       "      <td>57593.000000</td>\n",
       "      <td>57588.000000</td>\n",
       "      <td>57593.000000</td>\n",
       "      <td>57369.000000</td>\n",
       "    </tr>\n",
       "    <tr>\n",
       "      <th>mean</th>\n",
       "      <td>6.708697</td>\n",
       "      <td>2015.260709</td>\n",
       "      <td>0.462425</td>\n",
       "      <td>0.490294</td>\n",
       "      <td>0.048947</td>\n",
       "      <td>3.457382</td>\n",
       "      <td>742.241818</td>\n",
       "      <td>6.850589</td>\n",
       "      <td>2015.294480</td>\n",
       "      <td>0.462416</td>\n",
       "      <td>0.490302</td>\n",
       "      <td>0.048947</td>\n",
       "      <td>3.557599</td>\n",
       "      <td>756.069627</td>\n",
       "      <td>16.597588</td>\n",
       "    </tr>\n",
       "    <tr>\n",
       "      <th>std</th>\n",
       "      <td>3.210898</td>\n",
       "      <td>1.210101</td>\n",
       "      <td>0.498590</td>\n",
       "      <td>0.499910</td>\n",
       "      <td>0.215759</td>\n",
       "      <td>2.936187</td>\n",
       "      <td>1087.364762</td>\n",
       "      <td>3.262525</td>\n",
       "      <td>1.207164</td>\n",
       "      <td>0.498590</td>\n",
       "      <td>0.499910</td>\n",
       "      <td>0.215759</td>\n",
       "      <td>2.929233</td>\n",
       "      <td>1089.431333</td>\n",
       "      <td>37.431327</td>\n",
       "    </tr>\n",
       "    <tr>\n",
       "      <th>min</th>\n",
       "      <td>1.000000</td>\n",
       "      <td>2013.000000</td>\n",
       "      <td>0.000000</td>\n",
       "      <td>0.000000</td>\n",
       "      <td>0.000000</td>\n",
       "      <td>0.000000</td>\n",
       "      <td>0.000000</td>\n",
       "      <td>1.000000</td>\n",
       "      <td>2013.000000</td>\n",
       "      <td>0.000000</td>\n",
       "      <td>0.000000</td>\n",
       "      <td>0.000000</td>\n",
       "      <td>0.000000</td>\n",
       "      <td>0.000000</td>\n",
       "      <td>0.000000</td>\n",
       "    </tr>\n",
       "    <tr>\n",
       "      <th>25%</th>\n",
       "      <td>4.000000</td>\n",
       "      <td>2014.000000</td>\n",
       "      <td>0.000000</td>\n",
       "      <td>0.000000</td>\n",
       "      <td>0.000000</td>\n",
       "      <td>1.000000</td>\n",
       "      <td>30.000000</td>\n",
       "      <td>4.000000</td>\n",
       "      <td>2014.000000</td>\n",
       "      <td>0.000000</td>\n",
       "      <td>0.000000</td>\n",
       "      <td>0.000000</td>\n",
       "      <td>2.000000</td>\n",
       "      <td>60.000000</td>\n",
       "      <td>1.000000</td>\n",
       "    </tr>\n",
       "    <tr>\n",
       "      <th>50%</th>\n",
       "      <td>7.000000</td>\n",
       "      <td>2015.000000</td>\n",
       "      <td>0.000000</td>\n",
       "      <td>0.000000</td>\n",
       "      <td>0.000000</td>\n",
       "      <td>2.000000</td>\n",
       "      <td>365.000000</td>\n",
       "      <td>7.000000</td>\n",
       "      <td>2015.000000</td>\n",
       "      <td>0.000000</td>\n",
       "      <td>0.000000</td>\n",
       "      <td>0.000000</td>\n",
       "      <td>2.000000</td>\n",
       "      <td>365.000000</td>\n",
       "      <td>5.000000</td>\n",
       "    </tr>\n",
       "    <tr>\n",
       "      <th>75%</th>\n",
       "      <td>9.000000</td>\n",
       "      <td>2016.000000</td>\n",
       "      <td>1.000000</td>\n",
       "      <td>1.000000</td>\n",
       "      <td>0.000000</td>\n",
       "      <td>4.000000</td>\n",
       "      <td>730.000000</td>\n",
       "      <td>10.000000</td>\n",
       "      <td>2016.000000</td>\n",
       "      <td>1.000000</td>\n",
       "      <td>1.000000</td>\n",
       "      <td>0.000000</td>\n",
       "      <td>5.000000</td>\n",
       "      <td>730.000000</td>\n",
       "      <td>14.000000</td>\n",
       "    </tr>\n",
       "    <tr>\n",
       "      <th>max</th>\n",
       "      <td>12.000000</td>\n",
       "      <td>2017.000000</td>\n",
       "      <td>1.000000</td>\n",
       "      <td>1.000000</td>\n",
       "      <td>1.000000</td>\n",
       "      <td>22.000000</td>\n",
       "      <td>8030.000000</td>\n",
       "      <td>12.000000</td>\n",
       "      <td>2017.000000</td>\n",
       "      <td>1.000000</td>\n",
       "      <td>1.000000</td>\n",
       "      <td>1.000000</td>\n",
       "      <td>22.000000</td>\n",
       "      <td>8030.000000</td>\n",
       "      <td>1101.000000</td>\n",
       "    </tr>\n",
       "  </tbody>\n",
       "</table>\n",
       "</div>"
      ],
      "text/plain": [
       "       Month_intake   Year_intake  Female_intake   Male_intake  \\\n",
       "count  57593.000000  57593.000000   57592.000000  57592.000000   \n",
       "mean       6.708697   2015.260709       0.462425      0.490294   \n",
       "std        3.210898      1.210101       0.498590      0.499910   \n",
       "min        1.000000   2013.000000       0.000000      0.000000   \n",
       "25%        4.000000   2014.000000       0.000000      0.000000   \n",
       "50%        7.000000   2015.000000       0.000000      0.000000   \n",
       "75%        9.000000   2016.000000       1.000000      1.000000   \n",
       "max       12.000000   2017.000000       1.000000      1.000000   \n",
       "\n",
       "       Purebred_intake  NumAge_intake  AgeDays_intake  Month_outcome  \\\n",
       "count     57593.000000   57593.000000    57593.000000   57593.000000   \n",
       "mean          0.048947       3.457382      742.241818       6.850589   \n",
       "std           0.215759       2.936187     1087.364762       3.262525   \n",
       "min           0.000000       0.000000        0.000000       1.000000   \n",
       "25%           0.000000       1.000000       30.000000       4.000000   \n",
       "50%           0.000000       2.000000      365.000000       7.000000   \n",
       "75%           0.000000       4.000000      730.000000      10.000000   \n",
       "max           1.000000      22.000000     8030.000000      12.000000   \n",
       "\n",
       "       Year_outcome  Female_outcome  Male_outcome  Purebred_outcome  \\\n",
       "count  57593.000000    57591.000000  57591.000000      57593.000000   \n",
       "mean    2015.294480        0.462416      0.490302          0.048947   \n",
       "std        1.207164        0.498590      0.499910          0.215759   \n",
       "min     2013.000000        0.000000      0.000000          0.000000   \n",
       "25%     2014.000000        0.000000      0.000000          0.000000   \n",
       "50%     2015.000000        0.000000      0.000000          0.000000   \n",
       "75%     2016.000000        1.000000      1.000000          0.000000   \n",
       "max     2017.000000        1.000000      1.000000          1.000000   \n",
       "\n",
       "       NumAge_outcome  AgeDays_outcome        IODays  \n",
       "count    57588.000000     57593.000000  57369.000000  \n",
       "mean         3.557599       756.069627     16.597588  \n",
       "std          2.929233      1089.431333     37.431327  \n",
       "min          0.000000         0.000000      0.000000  \n",
       "25%          2.000000        60.000000      1.000000  \n",
       "50%          2.000000       365.000000      5.000000  \n",
       "75%          5.000000       730.000000     14.000000  \n",
       "max         22.000000      8030.000000   1101.000000  "
      ]
     },
     "execution_count": 5,
     "metadata": {},
     "output_type": "execute_result"
    }
   ],
   "source": [
    "# Get metrics on the raw outcomes file\n",
    "df.describe()"
   ]
  },
  {
   "cell_type": "markdown",
   "metadata": {},
   "source": [
    "### General file statistics"
   ]
  },
  {
   "cell_type": "code",
   "execution_count": 6,
   "metadata": {
    "scrolled": true
   },
   "outputs": [
    {
     "name": "stdout",
     "output_type": "stream",
     "text": [
      "Number of records in Merged file: 57593\n",
      "Number of Animal Type: Animal Type_intake\n",
      "Cat    25896\n",
      "Dog    31697\n",
      "dtype: int64\n",
      "Number of Animals by Type and Sex: Animal Type_intake  Sex_intake \n",
      "Cat                 Female         11909\n",
      "                    Male           11474\n",
      "                    Unknown Sex     2513\n",
      "Dog                 Female         14723\n",
      "                    Male           16763\n",
      "                    Unknown Sex      210\n",
      "dtype: int64\n",
      "Number of Animals by Type and Intake Reason: Animal Type_intake  Intake Type       \n",
      "Cat                 Euthanasia Request       50\n",
      "                    Owner Surrender        4313\n",
      "                    Public Assist           558\n",
      "                    Stray                 20975\n",
      "Dog                 Euthanasia Request      169\n",
      "                    Owner Surrender        4913\n",
      "                    Public Assist          2736\n",
      "                    Stray                 23879\n",
      "dtype: int64\n",
      "Number of Animal Intakes by Year Year_intake\n",
      "2013     3406\n",
      "2014    14723\n",
      "2015    14590\n",
      "2016    13198\n",
      "2017    11676\n",
      "dtype: int64\n",
      "Number of Animals by Type and Outcome: Animal Type_intake  Outcome Type   \n",
      "Cat                 Adoption           10508\n",
      "                    Died                 376\n",
      "                    Disposal              12\n",
      "                    Euthanasia          1390\n",
      "                    Missing               26\n",
      "                    Return to Owner     1121\n",
      "                    Rto-Adopt             17\n",
      "                    Transfer           12446\n",
      "Dog                 Adoption           13830\n",
      "                    Died                 128\n",
      "                    Disposal              10\n",
      "                    Euthanasia          1262\n",
      "                    Missing               11\n",
      "                    Return to Owner     8375\n",
      "                    Rto-Adopt             63\n",
      "                    Transfer            8016\n",
      "dtype: int64\n"
     ]
    }
   ],
   "source": [
    "#Metrics cont'd\n",
    "data_recs = len(df)\n",
    "data_AnimalTypes = df.groupby([\"Animal Type_intake\"]).size()\n",
    "data_Sex = df.groupby([\"Animal Type_intake\", \"Sex_intake\"]).size()\n",
    "data_Intake = df.groupby([\"Animal Type_intake\", \"Intake Type\"]).size()\n",
    "data_Yearly = df.groupby([\"Year_intake\"]).size()\n",
    "data_Yearly_Intake = df.groupby([\"Animal Type_intake\", \"Intake Type\", \"Year_intake\"]).size()\n",
    "data_Monthly_Intake = df.groupby([\"Animal Type_intake\", \"Intake Type\", \"Month_intake\"]).size()\n",
    "data_Outcome = df.groupby([\"Animal Type_intake\", \"Outcome Type\"]).size()\n",
    "\n",
    "print(f\"Number of records in Merged file: {data_recs}\")\n",
    "print(f\"Number of Animal Type: {data_AnimalTypes}\")\n",
    "print(f\"Number of Animals by Type and Sex: {data_Sex}\")\n",
    "print(f\"Number of Animals by Type and Intake Reason: {data_Intake}\")\n",
    "print(f\"Number of Animal Intakes by Year {data_Yearly}\")\n",
    "print(f\"Number of Animals by Type and Outcome: {data_Outcome}\")"
   ]
  },
  {
   "cell_type": "code",
   "execution_count": 7,
   "metadata": {},
   "outputs": [
    {
     "name": "stdout",
     "output_type": "stream",
     "text": [
      "Number of Animal Intakes by Year Year_intake\n",
      "2014    14723\n",
      "2015    14590\n",
      "2016    13198\n",
      "2017    11676\n",
      "dtype: int64\n"
     ]
    }
   ],
   "source": [
    "#Filter out partial year data for 2013\n",
    "df = df[df[\"Year_intake\"]>2013]\n",
    "\n",
    "#Verify data set yearly sample size\n",
    "data_Yearly = df.groupby([\"Year_intake\"]).size()\n",
    "print(f\"Number of Animal Intakes by Year {data_Yearly}\")"
   ]
  },
  {
   "cell_type": "code",
   "execution_count": 8,
   "metadata": {
    "collapsed": true
   },
   "outputs": [],
   "source": [
    "dogs_df = df[df[\"Animal Type_intake\"]==\"Dog\"]\n",
    "cats_df = df[df[\"Animal Type_intake\"]==\"Cat\"]"
   ]
  },
  {
   "cell_type": "markdown",
   "metadata": {},
   "source": [
    "## Number Intakes per Year"
   ]
  },
  {
   "cell_type": "code",
   "execution_count": 9,
   "metadata": {
    "scrolled": true
   },
   "outputs": [
    {
     "data": {
      "image/png": "[encoded data removed]",
      "text/plain": [
       "<matplotlib.figure.Figure at 0x193a2beb0f0>"
      ]
     },
     "metadata": {},
     "output_type": "display_data"
    }
   ],
   "source": [
    "#Chart total intakes per year\n",
    "\n",
    "dogsYrGrp = dogs_df.groupby([\"Year_intake\"], as_index=False)\n",
    "dogsYrCnt = dogsYrGrp[\"Animal ID\"].count()\n",
    "dogsYears = dogsYrCnt[\"Year_intake\"]\n",
    "dogCnt = dogsYrCnt[\"Animal ID\"]\n",
    "\n",
    "catYrGrp = cats_df.groupby([\"Year_intake\"], as_index=False)\n",
    "catYrCnt = catYrGrp[\"Animal ID\"].count()\n",
    "catCnt = catYrCnt[\"Animal ID\"]\n",
    "\n",
    "x_axis = np.arange(0, len(dogsYears), 1)\n",
    "w = 0.3\n",
    "plt.figure(figsize=(6,4))\n",
    "\n",
    "plt.bar(x_axis-0.3, dogCnt,width=w,color='cornflowerblue',align='center', label=\"Dogs\")\n",
    "plt.bar(x_axis, catCnt,width=w,color='gold',align='center', label=\"Cats\")\n",
    "plt.autoscale(tight=True)\n",
    "\n",
    "# Create the ticks for our bar chart's x axis\n",
    "tick_locations = [value-0.25 for value in x_axis]\n",
    "plt.xticks(tick_locations, dogsYears)\n",
    "\n",
    "# Set the limits of the x axis\n",
    "plt.xlim(-.75, len(x_axis))\n",
    "\n",
    "# Set the limits of the y axis\n",
    "plt.ylim(0, 8500)\n",
    "\n",
    "# Give the chart a title, x label, and y label\n",
    "plt.title(f\"Number of intakes per year\")\n",
    "plt.xlabel(\"Years\")\n",
    "plt.ylabel(\"Num intakes\")\n",
    "\n",
    "plt.legend(bbox_to_anchor=(1, 1), loc='upper right', ncol=1)\n",
    "\n",
    "plt.tight_layout()\n",
    "plt.savefig(\"figures/Intakes_Year.png\")\n",
    "plt.show()"
   ]
  },
  {
   "cell_type": "markdown",
   "metadata": {},
   "source": [
    "## Number of Intakes per Year by Intake Type"
   ]
  },
  {
   "cell_type": "code",
   "execution_count": 10,
   "metadata": {},
   "outputs": [
    {
     "data": {
      "image/png": "[encoded data removed]",
      "text/plain": [
       "<matplotlib.figure.Figure at 0x193a3e25518>"
      ]
     },
     "metadata": {},
     "output_type": "display_data"
    }
   ],
   "source": [
    "#Chart total intakes by type per year\n",
    "\n",
    "Years = df[\"Year_intake\"].unique()\n",
    "intakeTypes = df[\"Intake Type\"].unique()\n",
    "dogColors = [\"lightsteelblue\",\"cornflowerblue\",\"royalblue\",\"mediumblue\",\"darkblue\",\"slateblue\",\"blueviolet\"]\n",
    "catColors = [\"khaki\",\"gold\",\"goldenrod\",\"darkgoldenrod\",\"darkkhaki\",\"olive\",\"darkolive\"]\n",
    "colorCnt = 0\n",
    "\n",
    "plt.figure(figsize=(6,4))\n",
    "\n",
    "for iType in intakeTypes:\n",
    "    idogs_df = dogs_df[dogs_df[\"Intake Type\"]==iType]\n",
    "    dogsYrGrp = idogs_df.groupby([\"Year_intake\"], as_index=False)\n",
    "    dogsYrCnt = dogsYrGrp[\"Animal ID\"].count()\n",
    "    dogCnt = dogsYrCnt[\"Animal ID\"]\n",
    "    \n",
    "    icats_df = cats_df[cats_df[\"Intake Type\"]==iType]\n",
    "    catsYrGrp = icats_df.groupby([\"Year_intake\"], as_index=False)\n",
    "    catsYrCnt = catsYrGrp[\"Animal ID\"].count()\n",
    "    catCnt = catsYrCnt[\"Animal ID\"]\n",
    "    \n",
    "    x_axis = np.arange(0, len(Years), 1)\n",
    "   \n",
    "    plt.bar(x_axis-0.3, dogCnt,width=w,color=dogColors[colorCnt],align='center', label=\"Dog - \"+iType)\n",
    "    plt.bar(x_axis, catCnt,width=w,color=catColors[colorCnt],align='center', label=\"Cat - \"+iType)\n",
    "    colorCnt += 1\n",
    "\n",
    "lgd=plt.legend(bbox_to_anchor=(1.525, 1), loc='upper right', ncol=1, title=\"Intake Types\") \n",
    "\n",
    "plt.autoscale(tight=True)\n",
    "\n",
    "# Create the ticks for our bar chart's x axis\n",
    "tick_locations = [value-0.25 for value in x_axis]\n",
    "plt.xticks(tick_locations, dogsYears)\n",
    "\n",
    "# Set the limits of the x axis\n",
    "plt.xlim(-.75, len(x_axis))\n",
    "\n",
    "# Set the limits of the y axis\n",
    "plt.ylim(0, 6500)\n",
    "\n",
    "# Give the chart a title, x label, and y label\n",
    "plt.title(f\"Number of intakes per year by intake type\")\n",
    "plt.xlabel(\"Years\")\n",
    "plt.ylabel(\"Num intakes\")\n",
    "\n",
    "#plt.tight_layout()\n",
    "plt.savefig(\"figures/Intakes_Type_Year.png\", bbox_extra_artists=(lgd,), bbox_inches='tight')\n",
    "plt.show()"
   ]
  },
  {
   "cell_type": "markdown",
   "metadata": {},
   "source": [
    "## Number of Intakes per Month"
   ]
  },
  {
   "cell_type": "code",
   "execution_count": 11,
   "metadata": {},
   "outputs": [
    {
     "data": {
      "image/png": "[encoded data removed]",
      "text/plain": [
       "<matplotlib.figure.Figure at 0x193a71a6b38>"
      ]
     },
     "metadata": {},
     "output_type": "display_data"
    }
   ],
   "source": [
    "#Chart total intakes per Month of year\n",
    "\n",
    "dogsMoGrp = dogs_df.groupby([\"Month_intake\"], as_index=False)\n",
    "dogsMoCnt = dogsMoGrp[\"Animal ID\"].count()\n",
    "dogsMonths = dogsMoCnt[\"Month_intake\"]\n",
    "dogCnt = dogsMoCnt[\"Animal ID\"]\n",
    "\n",
    "catMoGrp = cats_df.groupby([\"Month_intake\"], as_index=False)\n",
    "catMoCnt = catMoGrp[\"Animal ID\"].count()\n",
    "catCnt = catMoCnt[\"Animal ID\"]\n",
    "\n",
    "plt.figure(figsize=(6,4))\n",
    "x_axis = np.arange(0, len(dogsMonths), 1)\n",
    "\n",
    "plt.bar(x_axis-0.3, dogCnt,width=w,color='cornflowerblue',align='center', label=\"Dogs\")\n",
    "plt.bar(x_axis, catCnt,width=w,color='gold',align='center', label=\"Cats\")\n",
    "plt.autoscale(tight=True)\n",
    "\n",
    "# Create the ticks for our bar chart's x axis\n",
    "tick_locations = [value-0.25 for value in x_axis]\n",
    "plt.xticks(tick_locations, dogsMonths)\n",
    "\n",
    "# Set the limits of the x axis\n",
    "plt.xlim(-.75, len(x_axis))\n",
    "\n",
    "# Set the limits of the y axis\n",
    "plt.ylim(0, 3750)\n",
    "\n",
    "# Give the chart a title, x label, and y label\n",
    "plt.title(f\"Number of intakes per month\")\n",
    "plt.xlabel(\"Months\")\n",
    "plt.ylabel(\"Num intakes\")\n",
    "\n",
    "plt.legend(bbox_to_anchor=(0, 1), loc='upper left', ncol=1)\n",
    "\n",
    "plt.tight_layout()\n",
    "plt.savefig(\"figures/Intakes_Month.png\")\n",
    "plt.show()"
   ]
  },
  {
   "cell_type": "markdown",
   "metadata": {},
   "source": [
    "## Number of Intakes per Month by Intake Type"
   ]
  },
  {
   "cell_type": "code",
   "execution_count": 12,
   "metadata": {},
   "outputs": [
    {
     "data": {
      "image/png": "[encoded data removed]",
      "text/plain": [
       "<matplotlib.figure.Figure at 0x193a7581c50>"
      ]
     },
     "metadata": {},
     "output_type": "display_data"
    }
   ],
   "source": [
    "#Chart total intakes by type per month\n",
    "\n",
    "MintakeTypes =[\"Stray\",\"Owner Surrender\", \"Public Assist\", ]\n",
    "colorCnt = 0\n",
    "plt.figure(figsize=(6,4))\n",
    "\n",
    "for iType in MintakeTypes:\n",
    "    idogs_df = dogs_df[dogs_df[\"Intake Type\"]==iType]\n",
    "    dogsMoGrp = idogs_df.groupby([\"Month_intake\"], as_index=False)\n",
    "    dogsMoCnt = dogsMoGrp[\"Animal ID\"].count()\n",
    "    dogsMonths = dogsMoCnt[\"Month_intake\"]\n",
    "    dogCnt = dogsMoCnt[\"Animal ID\"]\n",
    "    \n",
    "    icats_df = cats_df[cats_df[\"Intake Type\"]==iType]\n",
    "    catMoGrp = icats_df.groupby([\"Month_intake\"], as_index=False)\n",
    "    catMoCnt = catMoGrp[\"Animal ID\"].count()\n",
    "    catCnt = catMoCnt[\"Animal ID\"]\n",
    "    \n",
    "    x_axis = np.arange(0, len(dogsMonths), 1)\n",
    "\n",
    "    plt.bar(x_axis-0.3, dogCnt,width=w,color=dogColors[colorCnt],align='center', label=\"Dogs - \"+iType)\n",
    "    plt.bar(x_axis, catCnt,width=w,color=catColors[colorCnt],align='center', label=\"Cats - \"+iType)\n",
    "   \n",
    "    colorCnt += 1\n",
    "\n",
    "plt.autoscale(tight=True)\n",
    "\n",
    "# Create the ticks for our bar chart's x axis\n",
    "tick_locations = [value-0.25 for value in x_axis]\n",
    "plt.xticks(tick_locations, dogsMonths)\n",
    "\n",
    "# Set the limits of the x axis\n",
    "plt.xlim(-.75, len(x_axis))\n",
    "\n",
    "# Set the limits of the y axis\n",
    "plt.ylim(0, 3750)\n",
    "\n",
    "# Give the chart a title, x label, and y label\n",
    "plt.title(f\"Number of intakes per month by intake type\")\n",
    "plt.xlabel(\"Months\")\n",
    "plt.ylabel(\"Num intakes\")\n",
    "\n",
    "lgd=plt.legend(bbox_to_anchor=(1.475, 1), loc='upper right', ncol=1, title=\"Intake Types\")\n",
    "\n",
    "plt.tight_layout()\n",
    "plt.savefig(\"figures/Intakes_Type_Month.png\", bbox_extra_artists=(lgd,), bbox_inches='tight')\n",
    "plt.show()"
   ]
  },
  {
   "cell_type": "markdown",
   "metadata": {},
   "source": [
    "## Number of Outcomes per Year by Outcome Type"
   ]
  },
  {
   "cell_type": "code",
   "execution_count": 13,
   "metadata": {},
   "outputs": [
    {
     "data": {
      "image/png": "[encoded data removed]",
      "text/plain": [
       "<matplotlib.figure.Figure at 0x193a75d4f28>"
      ]
     },
     "metadata": {},
     "output_type": "display_data"
    },
    {
     "data": {
      "image/png": "[encoded data removed]",
      "text/plain": [
       "<matplotlib.figure.Figure at 0x193a7618518>"
      ]
     },
     "metadata": {},
     "output_type": "display_data"
    }
   ],
   "source": [
    "#Chart total outcomes by type per year\n",
    "\n",
    "Years = df[\"Year_outcome\"].unique()\n",
    "outcomeTypes = [\"Adoption\",\"Transfer\",\"Return to Owner\",\"Euthanasia\"]\n",
    "\n",
    "colorCnt = 0\n",
    "w=0\n",
    "plt.figure(figsize=(6,4))\n",
    "\n",
    "for iType in outcomeTypes:\n",
    "    idogs_df = dogs_df[dogs_df[\"Outcome Type\"]==iType]\n",
    "    dogsYrGrp = idogs_df.groupby([\"Year_outcome\"], as_index=False)\n",
    "    dogsYrCnt = dogsYrGrp[\"Animal ID\"].count()\n",
    "    dogsYears = dogsYrCnt[\"Year_outcome\"]\n",
    "    dogCnt = dogsYrCnt[\"Animal ID\"]\n",
    "    \n",
    "    x_axis = np.arange(0, len(dogsYears), 1)\n",
    "   \n",
    "    plt.bar(x_axis+w, dogCnt,width=0.175,color=dogColors[colorCnt],align='center', label=iType)\n",
    "    #plt.bar(x_axis, catCnt,width=w,color=catColors[colorCnt],align='center', label=\"Cat - \"+iType)\n",
    "    colorCnt += 1\n",
    "    w+=0.2\n",
    "\n",
    "lgd=plt.legend(bbox_to_anchor=(1.35, 1), loc='upper right', ncol=1, title=\"Dog Outcome Types\") \n",
    "\n",
    "plt.autoscale(tight=True)\n",
    "\n",
    "# Create the ticks for our bar chart's x axis\n",
    "tick_locations = [value+0.2 for value in x_axis]\n",
    "plt.xticks(tick_locations, dogsYears)\n",
    "\n",
    "# Set the limits of the x axis\n",
    "plt.xlim(-.25, len(x_axis)+.25)\n",
    "\n",
    "# Set the limits of the y axis\n",
    "plt.ylim(0, 3500)\n",
    "\n",
    "# Give the chart a title, x label, and y label\n",
    "plt.title(f\"Number of dog outcomes per year by outcome type\")\n",
    "plt.xlabel(\"Years\")\n",
    "plt.ylabel(\"Num Outcomes\")\n",
    "\n",
    "plt.tight_layout()\n",
    "plt.savefig(\"figures/Outcomes_Dog_Year.png\", bbox_extra_artists=(lgd,), bbox_inches='tight')\n",
    "plt.show()\n",
    "\n",
    "\n",
    "# --- Cats  ---\n",
    "colorCnt = 0\n",
    "w=0\n",
    "plt.figure(figsize=(6,4))\n",
    "\n",
    "for iType in outcomeTypes:\n",
    "    icats_df = cats_df[cats_df[\"Outcome Type\"]==iType]\n",
    "    catsYrGrp = icats_df.groupby([\"Year_outcome\"], as_index=False)\n",
    "    catsYrCnt = catsYrGrp[\"Animal ID\"].count()\n",
    "    catsYears = catsYrCnt[\"Year_outcome\"]\n",
    "    catCnt = catsYrCnt[\"Animal ID\"]\n",
    "        \n",
    "    x_axis = np.arange(0, len(catsYears), 1)\n",
    "   \n",
    "    plt.bar(x_axis+w, catCnt,width=0.175,color=catColors[colorCnt],align='center', label=iType)\n",
    "    colorCnt += 1\n",
    "    w+=0.2\n",
    "\n",
    "lgd=plt.legend(bbox_to_anchor=(1.35, 1), loc='upper right', ncol=1, title=\"Cat Outcome Types\") \n",
    "\n",
    "plt.autoscale(tight=True)\n",
    "\n",
    "# Create the ticks for our bar chart's x axis\n",
    "tick_locations = [value+0.2 for value in x_axis]\n",
    "plt.xticks(tick_locations, dogsYears)\n",
    "\n",
    "# Set the limits of the x axis\n",
    "plt.xlim(-.25, len(x_axis)+.25)\n",
    "\n",
    "# Set the limits of the y axis\n",
    "plt.ylim(0, 3500)\n",
    "\n",
    "# Give the chart a title, x label, and y label\n",
    "plt.title(f\"Number of cat outcomes per year by outcome type\")\n",
    "plt.xlabel(\"Years\")\n",
    "plt.ylabel(\"Num Outcomes\")\n",
    "\n",
    "plt.tight_layout()\n",
    "plt.savefig(\"figures/Outcomes_Cat_Year.png\",bbox_extra_artists=(lgd,), bbox_inches='tight')\n",
    "plt.show()"
   ]
  },
  {
   "cell_type": "markdown",
   "metadata": {},
   "source": [
    "## Number of Outcomes per Month by Outcome Type"
   ]
  },
  {
   "cell_type": "code",
   "execution_count": 14,
   "metadata": {},
   "outputs": [
    {
     "data": {
      "image/png": "[encoded data removed]",
      "text/plain": [
       "<matplotlib.figure.Figure at 0x193a3df97b8>"
      ]
     },
     "metadata": {},
     "output_type": "display_data"
    },
    {
     "data": {
      "image/png": "[encoded data removed]",
      "text/plain": [
       "<matplotlib.figure.Figure at 0x193a3e392e8>"
      ]
     },
     "metadata": {},
     "output_type": "display_data"
    }
   ],
   "source": [
    "#Chart total outcomes by type per month\n",
    "\n",
    "Months = df[\"Month_outcome\"].unique()\n",
    "outcomeTypes = [\"Adoption\",\"Transfer\",\"Return to Owner\",\"Euthanasia\"]\n",
    "\n",
    "colorCnt = 0\n",
    "w=0\n",
    "plt.figure(figsize=(6,4))\n",
    "\n",
    "for iType in outcomeTypes:\n",
    "    idogs_df = dogs_df[dogs_df[\"Outcome Type\"]==iType]\n",
    "    dogsMoGrp = idogs_df.groupby([\"Month_outcome\"], as_index=False)\n",
    "    dogsMoCnt = dogsMoGrp[\"Animal ID\"].count()\n",
    "    dogsMonths = dogsMoCnt[\"Month_outcome\"]\n",
    "    dogCnt = dogsMoCnt[\"Animal ID\"]\n",
    "    \n",
    "    x_axis = np.arange(0, len(dogsMonths), 1)\n",
    "   \n",
    "    plt.bar(x_axis+w, dogCnt,width=0.175,color=dogColors[colorCnt],align='center', label=iType)\n",
    "    colorCnt += 1\n",
    "    w+=0.2\n",
    "\n",
    "lgd=plt.legend(bbox_to_anchor=(1.35, 1), loc='upper right', ncol=1, title=\"Dog Outcome Types\") \n",
    "\n",
    "plt.autoscale(tight=True)\n",
    "\n",
    "# Create the ticks for our bar chart's x axis\n",
    "tick_locations = [value+0.2 for value in x_axis]\n",
    "plt.xticks(tick_locations, dogsMonths)\n",
    "\n",
    "# Set the limits of the x axis\n",
    "plt.xlim(-.25, len(x_axis)+.25)\n",
    "\n",
    "# Set the limits of the y axis\n",
    "plt.ylim(0, 1850)\n",
    "\n",
    "# Give the chart a title, x label, and y label\n",
    "plt.title(f\"Number of dog outcomes per month by outcome type\")\n",
    "plt.xlabel(\"Months\")\n",
    "plt.ylabel(\"Num Outcomes\")\n",
    "\n",
    "plt.tight_layout()\n",
    "plt.savefig(\"figures/Outcomes_Dog_Month.png\",bbox_extra_artists=(lgd,), bbox_inches='tight')\n",
    "plt.show()\n",
    "\n",
    "\n",
    "# --- Cats  ---\n",
    "colorCnt = 0\n",
    "w=0\n",
    "plt.figure(figsize=(6,4))\n",
    "\n",
    "for iType in outcomeTypes:\n",
    "    icats_df = cats_df[cats_df[\"Outcome Type\"]==iType]\n",
    "    catsMoGrp = icats_df.groupby([\"Month_outcome\"], as_index=False)\n",
    "    catsMoCnt = catsMoGrp[\"Animal ID\"].count()\n",
    "    catsMonths = catsMoCnt[\"Month_outcome\"]\n",
    "    catCnt = catsMoCnt[\"Animal ID\"]\n",
    "        \n",
    "    x_axis = np.arange(0, len(catsMonths), 1)\n",
    "   \n",
    "    plt.bar(x_axis+w, catCnt,width=0.175,color=catColors[colorCnt],align='center', label=iType)\n",
    "    colorCnt += 1\n",
    "    w+=0.2\n",
    "\n",
    "lgd=plt.legend(bbox_to_anchor=(1.35, 1), loc='upper right', ncol=1, title=\"Cat Outcome Types\") \n",
    "\n",
    "plt.autoscale(tight=True)\n",
    "\n",
    "# Create the ticks for our bar chart's x axis\n",
    "tick_locations = [value+0.2 for value in x_axis]\n",
    "plt.xticks(tick_locations, catsMonths)\n",
    "\n",
    "# Set the limits of the x axis\n",
    "plt.xlim(-.25, len(x_axis)+.25)\n",
    "\n",
    "# Set the limits of the y axis\n",
    "plt.ylim(0, 1850)\n",
    "\n",
    "# Give the chart a title, x label, and y label\n",
    "plt.title(f\"Number of cat outcomes per month by outcome type\")\n",
    "plt.xlabel(\"Monthss\")\n",
    "plt.ylabel(\"Num Outcomes\")\n",
    "\n",
    "plt.tight_layout()\n",
    "plt.savefig(\"figures/Outcomes_Cat_Month.png\",bbox_extra_artists=(lgd,), bbox_inches='tight')\n",
    "plt.show()"
   ]
  },
  {
   "cell_type": "markdown",
   "metadata": {},
   "source": [
    "## Average Number of Days between Intake and Outcome by Outcome Type"
   ]
  },
  {
   "cell_type": "code",
   "execution_count": 15,
   "metadata": {},
   "outputs": [
    {
     "name": "stdout",
     "output_type": "stream",
     "text": [
      "Adoption    Year_outcome     IODays\n",
      "0          2014  20.660215\n",
      "1          2015  22.893231\n",
      "2          2016  25.807885\n",
      "3          2017  22.886259\n",
      "Transfer    Year_outcome     IODays\n",
      "0          2014  10.854944\n",
      "1          2015  10.922085\n",
      "2          2016  13.532515\n",
      "3          2017   9.853586\n",
      "Return to Owner    Year_outcome    IODays\n",
      "0          2014  3.202891\n",
      "1          2015  2.956377\n",
      "2          2016  3.011936\n",
      "3          2017  2.896169\n",
      "Euthanasia    Year_outcome     IODays\n",
      "0          2014   8.310536\n",
      "1          2015   7.505714\n",
      "2          2016  24.422222\n",
      "3          2017  16.742857\n"
     ]
    },
    {
     "data": {
      "image/png": "[encoded data removed]",
      "text/plain": [
       "<matplotlib.figure.Figure at 0x193a7827160>"
      ]
     },
     "metadata": {},
     "output_type": "display_data"
    },
    {
     "name": "stdout",
     "output_type": "stream",
     "text": [
      "Adoption    Year_outcome     IODays\n",
      "0          2014  30.577049\n",
      "1          2015  38.731650\n",
      "2          2016  43.099526\n",
      "3          2017  39.520016\n",
      "Transfer    Year_outcome    IODays\n",
      "0          2014  4.867477\n",
      "1          2015  5.728187\n",
      "2          2016  6.991547\n",
      "3          2017  7.782057\n",
      "Return to Owner    Year_outcome    IODays\n",
      "0          2014  4.076655\n",
      "1          2015  3.736264\n",
      "2          2016  4.263566\n",
      "3          2017  3.777328\n",
      "Euthanasia    Year_outcome     IODays\n",
      "0          2014   3.943128\n",
      "1          2015   4.788462\n",
      "2          2016  12.267544\n",
      "3          2017  12.201794\n"
     ]
    },
    {
     "data": {
      "image/png": "[encoded data removed]",
      "text/plain": [
       "<matplotlib.figure.Figure at 0x193a79fedd8>"
      ]
     },
     "metadata": {},
     "output_type": "display_data"
    }
   ],
   "source": [
    "#Chart days from intake to outcome by outcome type\n",
    "\n",
    "outcomeTypes = [\"Adoption\",\"Transfer\",\"Return to Owner\",\"Euthanasia\"]\n",
    "\n",
    "colorCnt = 0\n",
    "w=0\n",
    "plt.figure(figsize=(6,4))\n",
    "\n",
    "for iType in outcomeTypes:\n",
    "    IOdogs_df = dogs_df[dogs_df[\"Outcome Type\"]==iType]\n",
    "    IOdogsYrGrp = IOdogs_df.groupby([\"Year_outcome\"], as_index=False)\n",
    "    IOdogsDaysCnt = IOdogsYrGrp[\"IODays\"].mean()\n",
    "    IOdogsYears = IOdogsDaysCnt[\"Year_outcome\"]\n",
    "    IOdogCnt = IOdogsDaysCnt[\"IODays\"]\n",
    "    print(f\"{iType} {IOdogsDaysCnt}\")  \n",
    "    x_axis = np.arange(0, len(dogsYears), 1)\n",
    "   \n",
    "    plt.bar(x_axis+w, IOdogCnt,width=0.175,color=dogColors[colorCnt],align='center', label=iType)\n",
    "     \n",
    "    colorCnt += 1\n",
    "    w+=0.2\n",
    "\n",
    "lgd=plt.legend(bbox_to_anchor=(1.35, 1), loc='upper right', ncol=1, title=\"Dog Outcome Types\") \n",
    "\n",
    "plt.autoscale(tight=True)\n",
    "\n",
    "# Create the ticks for our bar chart's x axis\n",
    "tick_locations = [value+0.2 for value in x_axis]\n",
    "plt.xticks(tick_locations, dogsYears)\n",
    "\n",
    "# Set the limits of the x axis\n",
    "plt.xlim(-.25, len(x_axis)+.25)\n",
    "\n",
    "# Set the limits of the y axis\n",
    "plt.ylim(0, 45)\n",
    "\n",
    "# Give the chart a title, x label, and y label\n",
    "plt.title(f\"Mean days to outcomes per year by outcome type\")\n",
    "plt.xlabel(\"Years\")\n",
    "plt.ylabel(\"Mean Days to Outcome\")\n",
    "\n",
    "plt.tight_layout()\n",
    "plt.savefig(\"figures/Days_Outcomes_Dog_Year.png\", bbox_extra_artists=(lgd,), bbox_inches='tight')\n",
    "plt.show()\n",
    "\n",
    "\n",
    "# --- Cats  ---\n",
    "colorCnt = 0\n",
    "w=0\n",
    "plt.figure(figsize=(6,4))\n",
    "\n",
    "for iType in outcomeTypes:\n",
    "    IOcats_df = cats_df[cats_df[\"Outcome Type\"]==iType]\n",
    "    IOcatsYrGrp = IOcats_df.groupby([\"Year_outcome\"], as_index=False)\n",
    "    IOcatsDaysCnt = IOcatsYrGrp[\"IODays\"].mean()\n",
    "    IOcatsYears = IOcatsDaysCnt[\"Year_outcome\"]\n",
    "    IOcatCnt = IOcatsDaysCnt[\"IODays\"]\n",
    "    print(f\"{iType} {IOcatsDaysCnt}\")   \n",
    "    x_axis = np.arange(0, len(catsYears), 1)\n",
    "   \n",
    "    plt.bar(x_axis+w, IOcatCnt,width=0.175,color=catColors[colorCnt],align='center', label=iType)\n",
    "    colorCnt += 1\n",
    "    w+=0.2\n",
    "\n",
    "lgd=plt.legend(bbox_to_anchor=(1.35, 1), loc='upper right', ncol=1, title=\"Cat Outcome Types\") \n",
    "\n",
    "plt.autoscale(tight=True)\n",
    "\n",
    "# Create the ticks for our bar chart's x axis\n",
    "tick_locations = [value+0.2 for value in x_axis]\n",
    "plt.xticks(tick_locations, IOcatsYears)\n",
    "\n",
    "# Set the limits of the x axis\n",
    "plt.xlim(-.25, len(x_axis)+.25)\n",
    "\n",
    "# Set the limits of the y axis\n",
    "plt.ylim(0, 45)\n",
    "\n",
    "# Give the chart a title, x label, and y label\n",
    "plt.title(f\"Mean days to outcomes per year by outcome type\")\n",
    "plt.xlabel(\"Years\")\n",
    "plt.ylabel(\"Mean days to outcomes\")\n",
    "\n",
    "plt.tight_layout()\n",
    "plt.savefig(\"figures/Days_Outcomes_Cat_Year.png\",bbox_extra_artists=(lgd,), bbox_inches='tight')\n",
    "plt.show()"
   ]
  },
  {
   "cell_type": "markdown",
   "metadata": {},
   "source": [
    "### Create Top 10 Purebred dataframe"
   ]
  },
  {
   "cell_type": "code",
   "execution_count": 16,
   "metadata": {},
   "outputs": [
    {
     "data": {
      "text/html": [
       "<div>\n",
       "<style>\n",
       "    .dataframe thead tr:only-child th {\n",
       "        text-align: right;\n",
       "    }\n",
       "\n",
       "    .dataframe thead th {\n",
       "        text-align: left;\n",
       "    }\n",
       "\n",
       "    .dataframe tbody tr th {\n",
       "        vertical-align: top;\n",
       "    }\n",
       "</style>\n",
       "<table border=\"1\" class=\"dataframe\">\n",
       "  <thead>\n",
       "    <tr style=\"text-align: right;\">\n",
       "      <th></th>\n",
       "      <th>Animal ID</th>\n",
       "      <th>Name_intake</th>\n",
       "      <th>DateTime_intake</th>\n",
       "      <th>Found Location</th>\n",
       "      <th>Intake Type</th>\n",
       "      <th>Intake Condition</th>\n",
       "      <th>Animal Type_intake</th>\n",
       "      <th>Sex upon Intake</th>\n",
       "      <th>Age upon Intake</th>\n",
       "      <th>Breed_intake</th>\n",
       "      <th>...</th>\n",
       "      <th>Sex_outcome</th>\n",
       "      <th>Female_outcome</th>\n",
       "      <th>Male_outcome</th>\n",
       "      <th>SpayNeuter_outcome</th>\n",
       "      <th>Purebred_outcome</th>\n",
       "      <th>NumAge_outcome</th>\n",
       "      <th>AgeUnits_outcome</th>\n",
       "      <th>AgeDays_outcome</th>\n",
       "      <th>Intake Outcome Days</th>\n",
       "      <th>IODays</th>\n",
       "    </tr>\n",
       "  </thead>\n",
       "  <tbody>\n",
       "    <tr>\n",
       "      <th>28</th>\n",
       "      <td>A678576</td>\n",
       "      <td>Han Solo</td>\n",
       "      <td>2014-05-10 13:27:00</td>\n",
       "      <td>Ih 35 And Riverside Dr in Austin (TX)</td>\n",
       "      <td>Stray</td>\n",
       "      <td>Normal</td>\n",
       "      <td>Dog</td>\n",
       "      <td>Intact Male</td>\n",
       "      <td>2 years</td>\n",
       "      <td>Miniature Pinscher</td>\n",
       "      <td>...</td>\n",
       "      <td>Male</td>\n",
       "      <td>0.0</td>\n",
       "      <td>1.0</td>\n",
       "      <td>No</td>\n",
       "      <td>1</td>\n",
       "      <td>2.0</td>\n",
       "      <td>year</td>\n",
       "      <td>730.0</td>\n",
       "      <td>6 days 19:05:00.000000000</td>\n",
       "      <td>6.0</td>\n",
       "    </tr>\n",
       "    <tr>\n",
       "      <th>123</th>\n",
       "      <td>A738363</td>\n",
       "      <td>Sadie</td>\n",
       "      <td>2016-11-13 15:38:00</td>\n",
       "      <td>3300 Killingsworth in Travis (TX)</td>\n",
       "      <td>Stray</td>\n",
       "      <td>Normal</td>\n",
       "      <td>Dog</td>\n",
       "      <td>Spayed Female</td>\n",
       "      <td>8 years</td>\n",
       "      <td>Beagle</td>\n",
       "      <td>...</td>\n",
       "      <td>Female</td>\n",
       "      <td>1.0</td>\n",
       "      <td>0.0</td>\n",
       "      <td>Yes</td>\n",
       "      <td>1</td>\n",
       "      <td>8.0</td>\n",
       "      <td>year</td>\n",
       "      <td>2920.0</td>\n",
       "      <td>0 days 03:07:00.000000000</td>\n",
       "      <td>0.0</td>\n",
       "    </tr>\n",
       "    <tr>\n",
       "      <th>140</th>\n",
       "      <td>A545301</td>\n",
       "      <td>Audie</td>\n",
       "      <td>2015-08-04 14:13:00</td>\n",
       "      <td>Austin (TX)</td>\n",
       "      <td>Owner Surrender</td>\n",
       "      <td>Normal</td>\n",
       "      <td>Cat</td>\n",
       "      <td>Spayed Female</td>\n",
       "      <td>8 years</td>\n",
       "      <td>Maine Coon</td>\n",
       "      <td>...</td>\n",
       "      <td>Female</td>\n",
       "      <td>1.0</td>\n",
       "      <td>0.0</td>\n",
       "      <td>Yes</td>\n",
       "      <td>1</td>\n",
       "      <td>8.0</td>\n",
       "      <td>year</td>\n",
       "      <td>2920.0</td>\n",
       "      <td>19 days 04:28:00.000000000</td>\n",
       "      <td>19.0</td>\n",
       "    </tr>\n",
       "    <tr>\n",
       "      <th>161</th>\n",
       "      <td>A735361</td>\n",
       "      <td>Maya</td>\n",
       "      <td>2016-09-23 13:28:00</td>\n",
       "      <td>5400 Pecan Brook in Austin (TX)</td>\n",
       "      <td>Stray</td>\n",
       "      <td>Normal</td>\n",
       "      <td>Dog</td>\n",
       "      <td>Spayed Female</td>\n",
       "      <td>2 years</td>\n",
       "      <td>Labrador Retriever</td>\n",
       "      <td>...</td>\n",
       "      <td>Female</td>\n",
       "      <td>1.0</td>\n",
       "      <td>0.0</td>\n",
       "      <td>Yes</td>\n",
       "      <td>1</td>\n",
       "      <td>2.0</td>\n",
       "      <td>year</td>\n",
       "      <td>730.0</td>\n",
       "      <td>24 days 10:32:00.000000000</td>\n",
       "      <td>24.0</td>\n",
       "    </tr>\n",
       "    <tr>\n",
       "      <th>214</th>\n",
       "      <td>A708837</td>\n",
       "      <td>Yaya Annie</td>\n",
       "      <td>2015-08-01 12:21:00</td>\n",
       "      <td>9802 Roxanna Drive in Austin (TX)</td>\n",
       "      <td>Stray</td>\n",
       "      <td>Nursing</td>\n",
       "      <td>Cat</td>\n",
       "      <td>Intact Female</td>\n",
       "      <td>1 year</td>\n",
       "      <td>Domestic Medium Hair</td>\n",
       "      <td>...</td>\n",
       "      <td>Female</td>\n",
       "      <td>1.0</td>\n",
       "      <td>0.0</td>\n",
       "      <td>Yes</td>\n",
       "      <td>1</td>\n",
       "      <td>1.0</td>\n",
       "      <td>year</td>\n",
       "      <td>365.0</td>\n",
       "      <td>57 days 02:49:00.000000000</td>\n",
       "      <td>57.0</td>\n",
       "    </tr>\n",
       "  </tbody>\n",
       "</table>\n",
       "<p>5 rows × 43 columns</p>\n",
       "</div>"
      ],
      "text/plain": [
       "    Animal ID Name_intake      DateTime_intake  \\\n",
       "28    A678576    Han Solo  2014-05-10 13:27:00   \n",
       "123   A738363       Sadie  2016-11-13 15:38:00   \n",
       "140   A545301       Audie  2015-08-04 14:13:00   \n",
       "161   A735361        Maya  2016-09-23 13:28:00   \n",
       "214   A708837  Yaya Annie  2015-08-01 12:21:00   \n",
       "\n",
       "                            Found Location      Intake Type Intake Condition  \\\n",
       "28   Ih 35 And Riverside Dr in Austin (TX)            Stray           Normal   \n",
       "123      3300 Killingsworth in Travis (TX)            Stray           Normal   \n",
       "140                            Austin (TX)  Owner Surrender           Normal   \n",
       "161        5400 Pecan Brook in Austin (TX)            Stray           Normal   \n",
       "214      9802 Roxanna Drive in Austin (TX)            Stray          Nursing   \n",
       "\n",
       "    Animal Type_intake Sex upon Intake Age upon Intake          Breed_intake  \\\n",
       "28                 Dog     Intact Male         2 years    Miniature Pinscher   \n",
       "123                Dog   Spayed Female         8 years                Beagle   \n",
       "140                Cat   Spayed Female         8 years            Maine Coon   \n",
       "161                Dog   Spayed Female         2 years    Labrador Retriever   \n",
       "214                Cat   Intact Female          1 year  Domestic Medium Hair   \n",
       "\n",
       "     ...   Sex_outcome  Female_outcome  Male_outcome SpayNeuter_outcome  \\\n",
       "28   ...          Male             0.0           1.0                 No   \n",
       "123  ...        Female             1.0           0.0                Yes   \n",
       "140  ...        Female             1.0           0.0                Yes   \n",
       "161  ...        Female             1.0           0.0                Yes   \n",
       "214  ...        Female             1.0           0.0                Yes   \n",
       "\n",
       "     Purebred_outcome  NumAge_outcome AgeUnits_outcome  AgeDays_outcome  \\\n",
       "28                  1             2.0             year            730.0   \n",
       "123                 1             8.0             year           2920.0   \n",
       "140                 1             8.0             year           2920.0   \n",
       "161                 1             2.0             year            730.0   \n",
       "214                 1             1.0             year            365.0   \n",
       "\n",
       "            Intake Outcome Days IODays  \n",
       "28    6 days 19:05:00.000000000    6.0  \n",
       "123   0 days 03:07:00.000000000    0.0  \n",
       "140  19 days 04:28:00.000000000   19.0  \n",
       "161  24 days 10:32:00.000000000   24.0  \n",
       "214  57 days 02:49:00.000000000   57.0  \n",
       "\n",
       "[5 rows x 43 columns]"
      ]
     },
     "execution_count": 16,
     "metadata": {},
     "output_type": "execute_result"
    }
   ],
   "source": [
    "purebred_df = df[df[\"Purebred_intake\"]==1]\n",
    "purebred_df.head()"
   ]
  },
  {
   "cell_type": "code",
   "execution_count": 17,
   "metadata": {},
   "outputs": [
    {
     "data": {
      "text/html": [
       "<div>\n",
       "<style>\n",
       "    .dataframe thead tr:only-child th {\n",
       "        text-align: right;\n",
       "    }\n",
       "\n",
       "    .dataframe thead th {\n",
       "        text-align: left;\n",
       "    }\n",
       "\n",
       "    .dataframe tbody tr th {\n",
       "        vertical-align: top;\n",
       "    }\n",
       "</style>\n",
       "<table border=\"1\" class=\"dataframe\">\n",
       "  <thead>\n",
       "    <tr style=\"text-align: right;\">\n",
       "      <th></th>\n",
       "      <th>Breed_intake</th>\n",
       "      <th>Animal ID</th>\n",
       "    </tr>\n",
       "  </thead>\n",
       "  <tbody>\n",
       "    <tr>\n",
       "      <th>81</th>\n",
       "      <td>Labrador Retriever</td>\n",
       "      <td>143</td>\n",
       "    </tr>\n",
       "    <tr>\n",
       "      <th>103</th>\n",
       "      <td>Pit Bull</td>\n",
       "      <td>142</td>\n",
       "    </tr>\n",
       "    <tr>\n",
       "      <th>43</th>\n",
       "      <td>Chihuahua Shorthair</td>\n",
       "      <td>139</td>\n",
       "    </tr>\n",
       "    <tr>\n",
       "      <th>65</th>\n",
       "      <td>German Shepherd</td>\n",
       "      <td>133</td>\n",
       "    </tr>\n",
       "    <tr>\n",
       "      <th>119</th>\n",
       "      <td>Shih Tzu</td>\n",
       "      <td>91</td>\n",
       "    </tr>\n",
       "    <tr>\n",
       "      <th>50</th>\n",
       "      <td>Dachshund</td>\n",
       "      <td>81</td>\n",
       "    </tr>\n",
       "    <tr>\n",
       "      <th>113</th>\n",
       "      <td>Rottweiler</td>\n",
       "      <td>64</td>\n",
       "    </tr>\n",
       "    <tr>\n",
       "      <th>28</th>\n",
       "      <td>Boxer</td>\n",
       "      <td>64</td>\n",
       "    </tr>\n",
       "    <tr>\n",
       "      <th>120</th>\n",
       "      <td>Siberian Husky</td>\n",
       "      <td>62</td>\n",
       "    </tr>\n",
       "    <tr>\n",
       "      <th>8</th>\n",
       "      <td>Australian Cattle Dog</td>\n",
       "      <td>60</td>\n",
       "    </tr>\n",
       "  </tbody>\n",
       "</table>\n",
       "</div>"
      ],
      "text/plain": [
       "              Breed_intake  Animal ID\n",
       "81      Labrador Retriever        143\n",
       "103               Pit Bull        142\n",
       "43     Chihuahua Shorthair        139\n",
       "65         German Shepherd        133\n",
       "119               Shih Tzu         91\n",
       "50               Dachshund         81\n",
       "113             Rottweiler         64\n",
       "28                   Boxer         64\n",
       "120         Siberian Husky         62\n",
       "8    Australian Cattle Dog         60"
      ]
     },
     "execution_count": 17,
     "metadata": {},
     "output_type": "execute_result"
    }
   ],
   "source": [
    "purebredDogGrp_df = purebred_df[purebred_df[\"Animal Type_intake\"]==\"Dog\"].groupby([\"Breed_intake\"], as_index=False)\n",
    "purebredDogCnt_df=purebredDogGrp_df[\"Animal ID\"].count()\n",
    "sort_purebredDogCnt_df = purebredDogCnt_df.sort_values(\"Animal ID\", ascending=False)[:10]\n",
    "sort_purebredDogCnt_df\n"
   ]
  },
  {
   "cell_type": "code",
   "execution_count": 18,
   "metadata": {},
   "outputs": [
    {
     "name": "stdout",
     "output_type": "stream",
     "text": [
      "The percent of dogs that are purebred is: 6.97%\n",
      "The percent of cats that are purebred is: 2.31%\n"
     ]
    }
   ],
   "source": [
    "# Percent of purebred \n",
    "pctPurebredDogs = (len(purebred_df[purebred_df[\"Animal Type_intake\"]==\"Dog\"])/len(dogs_df))\n",
    "pctPurebredCats = (len(purebred_df[purebred_df[\"Animal Type_intake\"]==\"Cat\"])/len(cats_df))\n",
    "print(f\"The percent of dogs that are purebred is: \" +\"{:.2%}\".format(pctPurebredDogs) )\n",
    "print(f\"The percent of cats that are purebred is: \" +\"{:.2%}\".format(pctPurebredCats) )"
   ]
  },
  {
   "cell_type": "markdown",
   "metadata": {},
   "source": [
    "## Number of Intakes per Year for Top 10 Purebreds by Intake Type"
   ]
  },
  {
   "cell_type": "code",
   "execution_count": 19,
   "metadata": {},
   "outputs": [
    {
     "name": "stderr",
     "output_type": "stream",
     "text": [
      "C:\\Users\\marya\\Anaconda3\\lib\\site-packages\\ipykernel_launcher.py:12: UserWarning: Boolean Series key will be reindexed to match DataFrame index.\n",
      "  if sys.path[0] == '':\n"
     ]
    },
    {
     "data": {
      "image/png": "[encoded data removed]",
      "text/plain": [
       "<matplotlib.figure.Figure at 0x193a7611978>"
      ]
     },
     "metadata": {},
     "output_type": "display_data"
    }
   ],
   "source": [
    "\n",
    "# --- Intakes top 10 Pure bred by intake  ---\n",
    "colorCnt = 0\n",
    "w=0\n",
    "plt.figure(figsize=(6,6))\n",
    "bintakeTypes = [\"Stray\",\"Owner Surrender\",\"Public Assist\"]\n",
    "breeds = sort_purebredDogCnt_df[\"Breed_intake\"]\n",
    "b1dogs_df = pd.DataFrame(dogs_df[dogs_df[\"Breed_intake\"].isin(breeds)])\n",
    "\n",
    "\n",
    "for iType in bintakeTypes:\n",
    "    bdogs_df = b1dogs_df[dogs_df[\"Intake Type\"]==iType]\n",
    "    dogsBreedGrp = bdogs_df.groupby([\"Breed_intake\"], as_index=False)\n",
    "    dogsBreedCnt = dogsBreedGrp[\"Animal ID\"].count()\n",
    "    dogsBreeds = dogsBreedCnt[\"Breed_intake\"]\n",
    "    dogBCnt = dogsBreedCnt[\"Animal ID\"]\n",
    "    \n",
    "    x_axis = np.arange(0, len(dogsBreeds), 1)\n",
    "   \n",
    "    plt.bar(x_axis+w, dogBCnt,width=0.175,color=dogColors[colorCnt],align='center', label=iType)\n",
    "    colorCnt += 1\n",
    "    w+=0.2\n",
    "\n",
    "lgd=plt.legend(bbox_to_anchor=(1.35, 1), loc='upper right', ncol=1, title=\"Dog Intakes Types\") \n",
    "\n",
    "plt.autoscale(tight=True)\n",
    "\n",
    "# Create the ticks for our bar chart's x axis\n",
    "tick_locations = [value+0.2 for value in x_axis]\n",
    "plt.xticks(tick_locations, dogsBreeds,rotation='vertical')\n",
    "\n",
    "# Set the limits of the x axis\n",
    "plt.xlim(-.25, len(x_axis)+.25)\n",
    "\n",
    "# Set the limits of the y axis\n",
    "plt.ylim(0, 120)\n",
    "\n",
    "# Give the chart a title, x label, and y label\n",
    "plt.title(f\"Dog intakes for top 10 pure breeds\")\n",
    "plt.xlabel(\"Breeds\")\n",
    "plt.ylabel(\"Num Outcomes\")\n",
    "\n",
    "plt.tight_layout()\n",
    "plt.savefig(\"figures/Intakes_Dog_Breed.png\",bbox_extra_artists=(lgd,), bbox_inches='tight')\n",
    "plt.show()"
   ]
  },
  {
   "cell_type": "markdown",
   "metadata": {},
   "source": [
    "## Number of Outcomes for Top 10 Purebreds by Outcome Type"
   ]
  },
  {
   "cell_type": "code",
   "execution_count": 20,
   "metadata": {},
   "outputs": [
    {
     "name": "stderr",
     "output_type": "stream",
     "text": [
      "C:\\Users\\marya\\Anaconda3\\lib\\site-packages\\ipykernel_launcher.py:10: UserWarning: Boolean Series key will be reindexed to match DataFrame index.\n",
      "  # Remove the CWD from sys.path while we load stuff.\n"
     ]
    },
    {
     "data": {
      "image/png": "[encoded data removed]",
      "text/plain": [
       "<matplotlib.figure.Figure at 0x193a7806240>"
      ]
     },
     "metadata": {},
     "output_type": "display_data"
    }
   ],
   "source": [
    "# --- Pure bred by outcomes  ---\n",
    "colorCnt = 0\n",
    "w=0\n",
    "plt.figure(figsize=(6,6))\n",
    "\n",
    "breeds = sort_purebredDogCnt_df[\"Breed_intake\"]\n",
    "b1dogs_df = dogs_df[dogs_df[\"Breed_intake\"].isin(breeds)]\n",
    "\n",
    "for iType in outcomeTypes:\n",
    "    bdogs_df = b1dogs_df[dogs_df[\"Outcome Type\"]==iType]\n",
    "    dogsBreedGrp = bdogs_df.groupby([\"Breed_outcome\"], as_index=False)\n",
    "    dogsBreedCnt = dogsBreedGrp[\"Animal ID\"].count()\n",
    "    dogsBreeds = dogsBreedCnt[\"Breed_outcome\"]\n",
    "    dogBCnt = dogsBreedCnt[\"Animal ID\"]\n",
    "    \n",
    "    x_axis = np.arange(0, len(dogsBreeds), 1)\n",
    "   \n",
    "    plt.bar(x_axis+w, dogBCnt,width=0.175,color=dogColors[colorCnt],align='center', label=iType)\n",
    "    colorCnt += 1\n",
    "    w+=0.2\n",
    "\n",
    "lgd=plt.legend(bbox_to_anchor=(1.35, 1), loc='upper right', ncol=1, title=\"Dog Outcome Types\") \n",
    "\n",
    "plt.autoscale(tight=True)\n",
    "\n",
    "# Create the ticks for our bar chart's x axis\n",
    "tick_locations = [value+0.2 for value in x_axis]\n",
    "plt.xticks(tick_locations, dogsBreeds,rotation='vertical')\n",
    "\n",
    "# Set the limits of the x axis\n",
    "plt.xlim(-.25, len(x_axis)+.25)\n",
    "\n",
    "# Set the limits of the y axis\n",
    "plt.ylim(0, 75)\n",
    "\n",
    "# Give the chart a title, x label, and y label\n",
    "plt.title(f\"Dog outcomes for top 10 pure breeds\")\n",
    "plt.xlabel(\"Breeds\")\n",
    "plt.ylabel(\"Num Outcomes\")\n",
    "\n",
    "plt.tight_layout()\n",
    "plt.savefig(\"figures/Outcomes_Dog_Breed.png\",bbox_extra_artists=(lgd,), bbox_inches='tight')\n",
    "plt.show()"
   ]
  },
  {
   "cell_type": "markdown",
   "metadata": {},
   "source": [
    "## Average Number of Days for Purebread to be Reclaimed by Owner"
   ]
  },
  {
   "cell_type": "code",
   "execution_count": 21,
   "metadata": {},
   "outputs": [
    {
     "data": {
      "image/png": "[encoded data removed]",
      "text/plain": [
       "<matplotlib.figure.Figure at 0x193a729a898>"
      ]
     },
     "metadata": {},
     "output_type": "display_data"
    }
   ],
   "source": [
    "#Time for strays to be claimed by owner\n",
    "\n",
    "#convert intake outcome days to numerical value for calculations\n",
    "def get_days_length(val):\n",
    "    val = str(val)\n",
    "    days = re.findall('\\d*',val)[0]\n",
    "    return days\n",
    "\n",
    "rdogs_df = b1dogs_df[b1dogs_df[\"Outcome Type\"]==\"Return to Owner\"]\n",
    "\n",
    "rdogsGrp = rdogs_df.groupby([\"Breed_outcome\"], as_index=False)\n",
    "rdogsBreedCnt = rdogsGrp[\"IODays\"].mean()\n",
    "rdogsBreeds = rdogsBreedCnt[\"Breed_outcome\"]\n",
    "rdogsCnt = rdogsBreedCnt[\"IODays\"]\n",
    "    \n",
    "x_axis = np.arange(0, len(rdogsBreeds), 1)\n",
    "   \n",
    "plt.bar(x_axis, rdogsCnt,color=\"cornflowerblue\",align='center', label=iType)\n",
    "\n",
    "#lgd=plt.legend(bbox_to_anchor=(1.35, 1), loc='upper right', ncol=1, title=\"Dog Outcome Types\") \n",
    "\n",
    "plt.autoscale(tight=True)\n",
    "\n",
    "# Create the ticks for our bar chart's x axis\n",
    "tick_locations = [value for value in x_axis]\n",
    "plt.xticks(tick_locations, rdogsBreeds,rotation='vertical')\n",
    "\n",
    "# Set the limits of the x axis\n",
    "plt.xlim(-.25, len(x_axis)+.25)\n",
    "\n",
    "# Set the limits of the y axis\n",
    "plt.ylim(0, 8)\n",
    "\n",
    "# Give the chart a title, x label, and y label\n",
    "plt.title(f\"Days to reclaim purebred\")\n",
    "plt.xlabel(\"Breeds\")\n",
    "plt.ylabel(\"Days\")\n",
    "\n",
    "plt.tight_layout()\n",
    "plt.savefig(\"figures/DaysReclaim_Breed.png\",bbox_extra_artists=(lgd,), bbox_inches='tight')\n",
    "plt.show()\n"
   ]
  },
  {
   "cell_type": "code",
   "execution_count": 22,
   "metadata": {},
   "outputs": [
    {
     "data": {
      "text/html": [
       "<div>\n",
       "<style>\n",
       "    .dataframe thead tr:only-child th {\n",
       "        text-align: right;\n",
       "    }\n",
       "\n",
       "    .dataframe thead th {\n",
       "        text-align: left;\n",
       "    }\n",
       "\n",
       "    .dataframe tbody tr th {\n",
       "        vertical-align: top;\n",
       "    }\n",
       "</style>\n",
       "<table border=\"1\" class=\"dataframe\">\n",
       "  <thead>\n",
       "    <tr style=\"text-align: right;\">\n",
       "      <th></th>\n",
       "      <th>Breed_outcome</th>\n",
       "      <th>IODays</th>\n",
       "    </tr>\n",
       "  </thead>\n",
       "  <tbody>\n",
       "    <tr>\n",
       "      <th>0</th>\n",
       "      <td>Australian Cattle Dog</td>\n",
       "      <td>5.437500</td>\n",
       "    </tr>\n",
       "    <tr>\n",
       "      <th>1</th>\n",
       "      <td>Boxer</td>\n",
       "      <td>2.285714</td>\n",
       "    </tr>\n",
       "    <tr>\n",
       "      <th>2</th>\n",
       "      <td>Chihuahua Shorthair</td>\n",
       "      <td>3.170213</td>\n",
       "    </tr>\n",
       "    <tr>\n",
       "      <th>3</th>\n",
       "      <td>Dachshund</td>\n",
       "      <td>1.947368</td>\n",
       "    </tr>\n",
       "    <tr>\n",
       "      <th>4</th>\n",
       "      <td>German Shepherd</td>\n",
       "      <td>3.000000</td>\n",
       "    </tr>\n",
       "    <tr>\n",
       "      <th>5</th>\n",
       "      <td>Labrador Retriever</td>\n",
       "      <td>2.112903</td>\n",
       "    </tr>\n",
       "    <tr>\n",
       "      <th>6</th>\n",
       "      <td>Pit Bull</td>\n",
       "      <td>7.472727</td>\n",
       "    </tr>\n",
       "    <tr>\n",
       "      <th>7</th>\n",
       "      <td>Rottweiler</td>\n",
       "      <td>2.657143</td>\n",
       "    </tr>\n",
       "    <tr>\n",
       "      <th>8</th>\n",
       "      <td>Shih Tzu</td>\n",
       "      <td>3.562500</td>\n",
       "    </tr>\n",
       "    <tr>\n",
       "      <th>9</th>\n",
       "      <td>Siberian Husky</td>\n",
       "      <td>2.193548</td>\n",
       "    </tr>\n",
       "  </tbody>\n",
       "</table>\n",
       "</div>"
      ],
      "text/plain": [
       "           Breed_outcome    IODays\n",
       "0  Australian Cattle Dog  5.437500\n",
       "1                  Boxer  2.285714\n",
       "2    Chihuahua Shorthair  3.170213\n",
       "3              Dachshund  1.947368\n",
       "4        German Shepherd  3.000000\n",
       "5     Labrador Retriever  2.112903\n",
       "6               Pit Bull  7.472727\n",
       "7             Rottweiler  2.657143\n",
       "8               Shih Tzu  3.562500\n",
       "9         Siberian Husky  2.193548"
      ]
     },
     "execution_count": 22,
     "metadata": {},
     "output_type": "execute_result"
    }
   ],
   "source": [
    "rdogsBreedCnt"
   ]
  },
  {
   "cell_type": "markdown",
   "metadata": {},
   "source": [
    "## Changes to Spay and Neuter Status between Intake and Outcome\n",
    "#### .....because Robin Choi loves Pie Charts"
   ]
  },
  {
   "cell_type": "code",
   "execution_count": 23,
   "metadata": {},
   "outputs": [
    {
     "data": {
      "image/png": "[encoded data removed]",
      "text/plain": [
       "<matplotlib.figure.Figure at 0x193a72920b8>"
      ]
     },
     "metadata": {},
     "output_type": "display_data"
    },
    {
     "data": {
      "image/png": "[encoded data removed]",
      "text/plain": [
       "<matplotlib.figure.Figure at 0x193a7af3518>"
      ]
     },
     "metadata": {},
     "output_type": "display_data"
    }
   ],
   "source": [
    "#Change of spay neuter --Dogs\n",
    "\n",
    "fixedInDogGrp=dogs_df.groupby([\"SpayNeuter_intake\"])\n",
    "fixedInDogCnt = fixedInDogGrp[\"Animal ID\"].count()/len(dogs_df)\n",
    "fixedOutDogGrp=dogs_df.groupby([\"SpayNeuter_outcome\"])\n",
    "fixedOutDogCnt = fixedOutDogGrp[\"Animal ID\"].count()/len(dogs_df)\n",
    "#fixedOutDogCnt\n",
    "plt.pie(fixedInDogCnt,explode=(0,0), labels=[\"Intact\",\"SpayNeuter\"], colors=[\"lightsteelblue\",\"cornflowerblue\"] , shadow=True, startangle=45)\n",
    "plt.axis(\"equal\")\n",
    "plt.title(f\"Dog - Spay Neuter status at Intake\")\n",
    "plt.savefig(\"figures/SpayNeuter_intake_Dog.png\")\n",
    "plt.show()\n",
    "\n",
    "plt.pie(fixedOutDogCnt,explode=(0,0), labels=[\"Intact\",\"SpayNeuter\"], colors=[\"lightsteelblue\",\"cornflowerblue\"], shadow=True, startangle=140 )\n",
    "plt.axis(\"equal\")\n",
    "plt.title(f\"Dog - Spay Neuter status at Outcome\")\n",
    "plt.savefig(\"figures/SpayNeuter_outcome_Dog.png\")            \n",
    "plt.show()\n"
   ]
  },
  {
   "cell_type": "code",
   "execution_count": 24,
   "metadata": {},
   "outputs": [
    {
     "data": {
      "image/png": "[encoded data removed]",
      "text/plain": [
       "<matplotlib.figure.Figure at 0x193a821a748>"
      ]
     },
     "metadata": {},
     "output_type": "display_data"
    },
    {
     "data": {
      "image/png": "[encoded data removed]",
      "text/plain": [
       "<matplotlib.figure.Figure at 0x193a821a4e0>"
      ]
     },
     "metadata": {},
     "output_type": "display_data"
    }
   ],
   "source": [
    "#Change of spay neuter --Cats\n",
    "\n",
    "fixedInCatGrp=cats_df.groupby([\"SpayNeuter_intake\"])\n",
    "fixedInCatCnt = fixedInCatGrp[\"Animal ID\"].count()\n",
    "fixedOutCatGrp=dogs_df.groupby([\"SpayNeuter_outcome\"])\n",
    "fixedOutCatCnt = fixedOutCatGrp[\"Animal ID\"].count()\n",
    "#fixedOutCatCnt\n",
    "plt.pie(fixedInCatCnt,explode=(0,0), labels=[\"Intact\",\"SpayNeuter\"], colors=[\"khaki\",\"gold\"] , shadow=True, startangle=35)\n",
    "plt.axis(\"equal\")\n",
    "plt.title(f\"Cat - Spay Neuter status at Intake\")\n",
    "plt.savefig(\"figures/SpayNeuter_intake_Cat.png\")\n",
    "plt.show()\n",
    "\n",
    "plt.pie(fixedOutCatCnt,explode=(0,0), labels=[\"Intact\",\"SpayNeuter\"], colors=[\"khaki\",\"gold\"], shadow=True, startangle=140 )\n",
    "plt.axis(\"equal\")\n",
    "plt.title(f\"Cat - Spay Neuter status at Outcome\")\n",
    "plt.savefig(\"figures/SpayNeuter_outcome_Cat.png\" )           \n",
    "plt.show()"
   ]
  },
  {
   "cell_type": "markdown",
   "metadata": {},
   "source": [
    "## Austin Location Analysis"
   ]
  },
  {
   "cell_type": "markdown",
   "metadata": {},
   "source": [
    "### Google Maps Heat Map Visualizations \n",
    "#### Intakes - All"
   ]
  },
  {
   "cell_type": "code",
   "execution_count": 2,
   "metadata": {
    "collapsed": true
   },
   "outputs": [],
   "source": [
    "# Set Google API key value\n",
    "from config import gkey\n",
    "gmaps.configure(api_key=gkey)"
   ]
  },
  {
   "cell_type": "code",
   "execution_count": 3,
   "metadata": {
    "collapsed": true
   },
   "outputs": [],
   "source": [
    "# Read in All animals address counts CSV \n",
    "df_summary_all = pd.read_csv('raw data/animal_shelter_analysis_address_counts_ALL.csv', encoding='latin-1')"
   ]
  },
  {
   "cell_type": "code",
   "execution_count": 4,
   "metadata": {},
   "outputs": [
    {
     "data": {
      "application/vnd.jupyter.widget-view+json": {
       "model_id": "b26648194bc149a58a6b6c226c636e85",
       "version_major": 2,
       "version_minor": 0
      },
      "text/html": [
       "<p>Failed to display Jupyter Widget of type <code>Figure</code>.</p>\n",
       "<p>\n",
       "  If you're reading this message in the Jupyter Notebook or JupyterLab Notebook, it may mean\n",
       "  that the widgets JavaScript is still loading. If this message persists, it\n",
       "  likely means that the widgets JavaScript library is either not installed or\n",
       "  not enabled. See the <a href=\"https://ipywidgets.readthedocs.io/en/stable/user_install.html\">Jupyter\n",
       "  Widgets Documentation</a> for setup instructions.\n",
       "</p>\n",
       "<p>\n",
       "  If you're reading this message in another frontend (for example, a static\n",
       "  rendering on GitHub or <a href=\"https://nbviewer.jupyter.org/\">NBViewer</a>),\n",
       "  it may mean that your frontend doesn't currently support widgets.\n",
       "</p>\n"
      ],
      "text/plain": [
       "Figure()"
      ]
     },
     "metadata": {},
     "output_type": "display_data"
    }
   ],
   "source": [
    "#\n",
    "# *** Overview Map ***\n",
    "#\n",
    "# Initialize our map figure\n",
    "fig1 = gmaps.figure(center=(30.3, -97.74), zoom_level=10)\n",
    "\n",
    "# Apply our heatmap of ALL animals to the figure and output it\n",
    "heatmap_layer = gmaps.heatmap_layer(df_summary_all[[\"Latitude\", \"Longitude\"]], weights=df_summary_all[\"Count\"])\n",
    "\n",
    "# Apply heatmap_layer to figure\n",
    "fig1.add_layer(heatmap_layer)\n",
    "\n",
    "# Tweak heatmap intensity radius coloring\n",
    "heatmap_layer.max_intensity = 19\n",
    "heatmap_layer.point_radius = 5\n",
    "\n",
    "# Output figure\n",
    "fig1"
   ]
  },
  {
   "cell_type": "code",
   "execution_count": 5,
   "metadata": {},
   "outputs": [
    {
     "data": {
      "application/vnd.jupyter.widget-view+json": {
       "model_id": "bdf7024732854a09aff142b620751395",
       "version_major": 2,
       "version_minor": 0
      },
      "text/html": [
       "<p>Failed to display Jupyter Widget of type <code>Figure</code>.</p>\n",
       "<p>\n",
       "  If you're reading this message in the Jupyter Notebook or JupyterLab Notebook, it may mean\n",
       "  that the widgets JavaScript is still loading. If this message persists, it\n",
       "  likely means that the widgets JavaScript library is either not installed or\n",
       "  not enabled. See the <a href=\"https://ipywidgets.readthedocs.io/en/stable/user_install.html\">Jupyter\n",
       "  Widgets Documentation</a> for setup instructions.\n",
       "</p>\n",
       "<p>\n",
       "  If you're reading this message in another frontend (for example, a static\n",
       "  rendering on GitHub or <a href=\"https://nbviewer.jupyter.org/\">NBViewer</a>),\n",
       "  it may mean that your frontend doesn't currently support widgets.\n",
       "</p>\n"
      ],
      "text/plain": [
       "Figure()"
      ]
     },
     "metadata": {},
     "output_type": "display_data"
    }
   ],
   "source": [
    "# *** Zoomed Map ***\n",
    "#\n",
    "# Initialize our map figure\n",
    "fig2 = gmaps.figure(center=(30.3, -97.74), zoom_level=11)\n",
    "\n",
    "# Apply heatmap_layer to figure\n",
    "fig2.add_layer(heatmap_layer)\n",
    "\n",
    "# Tweak heatmap intensity radius coloring\n",
    "heatmap_layer.max_intensity = 12\n",
    "heatmap_layer.point_radius = 6\n",
    "\n",
    "# Output figure\n",
    "fig2"
   ]
  },
  {
   "cell_type": "markdown",
   "metadata": {},
   "source": [
    "#### Intakes - Animals from homes"
   ]
  },
  {
   "cell_type": "code",
   "execution_count": 6,
   "metadata": {
    "collapsed": true
   },
   "outputs": [],
   "source": [
    "# Read in animals-in-homes address counts CSV \n",
    "df_summary_homes = pd.read_csv('raw data/animal_shelter_analysis_address_counts_HOMES.csv', encoding='latin-1')"
   ]
  },
  {
   "cell_type": "code",
   "execution_count": 7,
   "metadata": {},
   "outputs": [
    {
     "data": {
      "application/vnd.jupyter.widget-view+json": {
       "model_id": "170fd633d20b4288b444d50f13185e67",
       "version_major": 2,
       "version_minor": 0
      },
      "text/html": [
       "<p>Failed to display Jupyter Widget of type <code>Figure</code>.</p>\n",
       "<p>\n",
       "  If you're reading this message in the Jupyter Notebook or JupyterLab Notebook, it may mean\n",
       "  that the widgets JavaScript is still loading. If this message persists, it\n",
       "  likely means that the widgets JavaScript library is either not installed or\n",
       "  not enabled. See the <a href=\"https://ipywidgets.readthedocs.io/en/stable/user_install.html\">Jupyter\n",
       "  Widgets Documentation</a> for setup instructions.\n",
       "</p>\n",
       "<p>\n",
       "  If you're reading this message in another frontend (for example, a static\n",
       "  rendering on GitHub or <a href=\"https://nbviewer.jupyter.org/\">NBViewer</a>),\n",
       "  it may mean that your frontend doesn't currently support widgets.\n",
       "</p>\n"
      ],
      "text/plain": [
       "Figure()"
      ]
     },
     "metadata": {},
     "output_type": "display_data"
    }
   ],
   "source": [
    "# *** Overview Map ***\n",
    "#\n",
    "# Initialize our map figure\n",
    "fig1 = gmaps.figure(center=(30.3, -97.74), zoom_level=10)\n",
    "\n",
    "# Apply our heatmap of ALL animals to the figure and output it\n",
    "heatmap_layer_homes = gmaps.heatmap_layer(df_summary_homes[[\"Latitude\", \"Longitude\"]], weights=df_summary_homes[\"Count\"])\n",
    "\n",
    "# Apply heatmap_layer to figure\n",
    "fig1.add_layer(heatmap_layer_homes)\n",
    "\n",
    "# Tweak heatmap intensity radius coloring\n",
    "heatmap_layer_homes.max_intensity = 19\n",
    "heatmap_layer_homes.point_radius = 5\n",
    "\n",
    "# Output figure\n",
    "fig1"
   ]
  },
  {
   "cell_type": "code",
   "execution_count": 8,
   "metadata": {},
   "outputs": [
    {
     "data": {
      "application/vnd.jupyter.widget-view+json": {
       "model_id": "b36a9c3cccc8402392e24cac3abb98dd",
       "version_major": 2,
       "version_minor": 0
      },
      "text/html": [
       "<p>Failed to display Jupyter Widget of type <code>Figure</code>.</p>\n",
       "<p>\n",
       "  If you're reading this message in the Jupyter Notebook or JupyterLab Notebook, it may mean\n",
       "  that the widgets JavaScript is still loading. If this message persists, it\n",
       "  likely means that the widgets JavaScript library is either not installed or\n",
       "  not enabled. See the <a href=\"https://ipywidgets.readthedocs.io/en/stable/user_install.html\">Jupyter\n",
       "  Widgets Documentation</a> for setup instructions.\n",
       "</p>\n",
       "<p>\n",
       "  If you're reading this message in another frontend (for example, a static\n",
       "  rendering on GitHub or <a href=\"https://nbviewer.jupyter.org/\">NBViewer</a>),\n",
       "  it may mean that your frontend doesn't currently support widgets.\n",
       "</p>\n"
      ],
      "text/plain": [
       "Figure()"
      ]
     },
     "metadata": {},
     "output_type": "display_data"
    }
   ],
   "source": [
    "# *** Zoomed Map ***\n",
    "#\n",
    "# Initialize our map figure\n",
    "fig2 = gmaps.figure(center=(30.3, -97.74), zoom_level=11)\n",
    "\n",
    "# Apply heatmap_layer to figure\n",
    "fig2.add_layer(heatmap_layer_homes)\n",
    "\n",
    "# Tweak heatmap intensity radius coloring\n",
    "heatmap_layer_homes.max_intensity = 12\n",
    "heatmap_layer_homes.point_radius = 6\n",
    "\n",
    "# Output figure\n",
    "fig2"
   ]
  },
  {
   "cell_type": "markdown",
   "metadata": {},
   "source": [
    "#### Intakes - Dogs"
   ]
  },
  {
   "cell_type": "code",
   "execution_count": 9,
   "metadata": {
    "collapsed": true
   },
   "outputs": [],
   "source": [
    "# Read in Dogs address counts CSV \n",
    "df_summary_dogs = pd.read_csv('raw data/animal_shelter_analysis_address_counts_DOGS.csv', encoding='latin-1')"
   ]
  },
  {
   "cell_type": "code",
   "execution_count": 10,
   "metadata": {},
   "outputs": [
    {
     "data": {
      "application/vnd.jupyter.widget-view+json": {
       "model_id": "c6edd587cb154037b42c473bc8a293d1",
       "version_major": 2,
       "version_minor": 0
      },
      "text/html": [
       "<p>Failed to display Jupyter Widget of type <code>Figure</code>.</p>\n",
       "<p>\n",
       "  If you're reading this message in the Jupyter Notebook or JupyterLab Notebook, it may mean\n",
       "  that the widgets JavaScript is still loading. If this message persists, it\n",
       "  likely means that the widgets JavaScript library is either not installed or\n",
       "  not enabled. See the <a href=\"https://ipywidgets.readthedocs.io/en/stable/user_install.html\">Jupyter\n",
       "  Widgets Documentation</a> for setup instructions.\n",
       "</p>\n",
       "<p>\n",
       "  If you're reading this message in another frontend (for example, a static\n",
       "  rendering on GitHub or <a href=\"https://nbviewer.jupyter.org/\">NBViewer</a>),\n",
       "  it may mean that your frontend doesn't currently support widgets.\n",
       "</p>\n"
      ],
      "text/plain": [
       "Figure()"
      ]
     },
     "metadata": {},
     "output_type": "display_data"
    }
   ],
   "source": [
    "# *** Overview Map ***\n",
    "#\n",
    "# Initialize our map figure\n",
    "fig1 = gmaps.figure(center=(30.3, -97.74), zoom_level=10)\n",
    "\n",
    "# Apply our heatmap of ALL animals to the figure and output it\n",
    "heatmap_layer_dogs = gmaps.heatmap_layer(df_summary_dogs[[\"Latitude\", \"Longitude\"]], weights=df_summary_dogs[\"Count\"])\n",
    "\n",
    "# Apply heatmap_layer to figure\n",
    "fig1.add_layer(heatmap_layer_dogs)\n",
    "\n",
    "# Tweak heatmap intensity radius coloring\n",
    "heatmap_layer_dogs.max_intensity = 19\n",
    "heatmap_layer_dogs.point_radius = 5\n",
    "\n",
    "# Output figure\n",
    "fig1"
   ]
  },
  {
   "cell_type": "code",
   "execution_count": 11,
   "metadata": {},
   "outputs": [
    {
     "data": {
      "application/vnd.jupyter.widget-view+json": {
       "model_id": "951d9eb88cd74d24b1920010c9576fe5",
       "version_major": 2,
       "version_minor": 0
      },
      "text/html": [
       "<p>Failed to display Jupyter Widget of type <code>Figure</code>.</p>\n",
       "<p>\n",
       "  If you're reading this message in the Jupyter Notebook or JupyterLab Notebook, it may mean\n",
       "  that the widgets JavaScript is still loading. If this message persists, it\n",
       "  likely means that the widgets JavaScript library is either not installed or\n",
       "  not enabled. See the <a href=\"https://ipywidgets.readthedocs.io/en/stable/user_install.html\">Jupyter\n",
       "  Widgets Documentation</a> for setup instructions.\n",
       "</p>\n",
       "<p>\n",
       "  If you're reading this message in another frontend (for example, a static\n",
       "  rendering on GitHub or <a href=\"https://nbviewer.jupyter.org/\">NBViewer</a>),\n",
       "  it may mean that your frontend doesn't currently support widgets.\n",
       "</p>\n"
      ],
      "text/plain": [
       "Figure()"
      ]
     },
     "metadata": {},
     "output_type": "display_data"
    }
   ],
   "source": [
    "# *** Zoomed Map ***\n",
    "#\n",
    "# Initialize our map figure\n",
    "fig2 = gmaps.figure(center=(30.3, -97.74), zoom_level=11)\n",
    "\n",
    "# Apply heatmap_layer to figure\n",
    "fig2.add_layer(heatmap_layer_dogs)\n",
    "\n",
    "# Tweak heatmap intensity radius coloring\n",
    "heatmap_layer_dogs.max_intensity = 12\n",
    "heatmap_layer_dogs.point_radius = 6\n",
    "\n",
    "# Output figure\n",
    "fig2"
   ]
  },
  {
   "cell_type": "markdown",
   "metadata": {},
   "source": [
    "#### Intakes - Cats"
   ]
  },
  {
   "cell_type": "code",
   "execution_count": 12,
   "metadata": {
    "collapsed": true
   },
   "outputs": [],
   "source": [
    "# Read in animals-in-homes address counts CSV \n",
    "df_summary_cats = pd.read_csv('raw data/animal_shelter_analysis_address_counts_CATS.csv', encoding='latin-1')"
   ]
  },
  {
   "cell_type": "code",
   "execution_count": 13,
   "metadata": {},
   "outputs": [
    {
     "data": {
      "application/vnd.jupyter.widget-view+json": {
       "model_id": "fcf36e4920404076b72bfe399423a1d2",
       "version_major": 2,
       "version_minor": 0
      },
      "text/html": [
       "<p>Failed to display Jupyter Widget of type <code>Figure</code>.</p>\n",
       "<p>\n",
       "  If you're reading this message in the Jupyter Notebook or JupyterLab Notebook, it may mean\n",
       "  that the widgets JavaScript is still loading. If this message persists, it\n",
       "  likely means that the widgets JavaScript library is either not installed or\n",
       "  not enabled. See the <a href=\"https://ipywidgets.readthedocs.io/en/stable/user_install.html\">Jupyter\n",
       "  Widgets Documentation</a> for setup instructions.\n",
       "</p>\n",
       "<p>\n",
       "  If you're reading this message in another frontend (for example, a static\n",
       "  rendering on GitHub or <a href=\"https://nbviewer.jupyter.org/\">NBViewer</a>),\n",
       "  it may mean that your frontend doesn't currently support widgets.\n",
       "</p>\n"
      ],
      "text/plain": [
       "Figure()"
      ]
     },
     "metadata": {},
     "output_type": "display_data"
    }
   ],
   "source": [
    "# *** Overview Map ***\n",
    "#\n",
    "# Initialize our map figure\n",
    "fig1 = gmaps.figure(center=(30.3, -97.74), zoom_level=10)\n",
    "\n",
    "# Apply our heatmap of ALL animals to the figure and output it\n",
    "heatmap_layer_cats = gmaps.heatmap_layer(df_summary_cats[[\"Latitude\", \"Longitude\"]], weights=df_summary_cats[\"Count\"])\n",
    "\n",
    "# Apply heatmap_layer to figure\n",
    "fig1.add_layer(heatmap_layer_cats)\n",
    "\n",
    "# Tweak heatmap intensity radius coloring\n",
    "heatmap_layer_cats.max_intensity = 19\n",
    "heatmap_layer_cats.point_radius = 5\n",
    "\n",
    "# Output figure\n",
    "fig1"
   ]
  },
  {
   "cell_type": "code",
   "execution_count": 14,
   "metadata": {},
   "outputs": [
    {
     "data": {
      "application/vnd.jupyter.widget-view+json": {
       "model_id": "7457d71b0ad2406f9c2714f9712a9784",
       "version_major": 2,
       "version_minor": 0
      },
      "text/html": [
       "<p>Failed to display Jupyter Widget of type <code>Figure</code>.</p>\n",
       "<p>\n",
       "  If you're reading this message in the Jupyter Notebook or JupyterLab Notebook, it may mean\n",
       "  that the widgets JavaScript is still loading. If this message persists, it\n",
       "  likely means that the widgets JavaScript library is either not installed or\n",
       "  not enabled. See the <a href=\"https://ipywidgets.readthedocs.io/en/stable/user_install.html\">Jupyter\n",
       "  Widgets Documentation</a> for setup instructions.\n",
       "</p>\n",
       "<p>\n",
       "  If you're reading this message in another frontend (for example, a static\n",
       "  rendering on GitHub or <a href=\"https://nbviewer.jupyter.org/\">NBViewer</a>),\n",
       "  it may mean that your frontend doesn't currently support widgets.\n",
       "</p>\n"
      ],
      "text/plain": [
       "Figure()"
      ]
     },
     "metadata": {},
     "output_type": "display_data"
    }
   ],
   "source": [
    "# *** Zoomed Map ***\n",
    "#\n",
    "# Initialize our map figure\n",
    "fig2 = gmaps.figure(center=(30.3, -97.74), zoom_level=11)\n",
    "\n",
    "# Apply heatmap_layer to figure\n",
    "fig2.add_layer(heatmap_layer_cats)\n",
    "\n",
    "# Tweak heatmap intensity radius coloring\n",
    "heatmap_layer_cats.max_intensity = 12\n",
    "heatmap_layer_cats.point_radius = 6\n",
    "\n",
    "# Output figure\n",
    "fig2"
   ]
  },
  {
   "cell_type": "markdown",
   "metadata": {},
   "source": [
    " #### Intakes - Strays"
   ]
  },
  {
   "cell_type": "code",
   "execution_count": 15,
   "metadata": {
    "collapsed": true
   },
   "outputs": [],
   "source": [
    "# Read in animals-in-homes address counts CSV \n",
    "df_summary_strays = pd.read_csv('raw data/animal_shelter_analysis_address_counts_STRAYS.csv', encoding='latin-1')"
   ]
  },
  {
   "cell_type": "code",
   "execution_count": 16,
   "metadata": {},
   "outputs": [
    {
     "data": {
      "application/vnd.jupyter.widget-view+json": {
       "model_id": "45425736c0134033b762e669214cf5ee",
       "version_major": 2,
       "version_minor": 0
      },
      "text/html": [
       "<p>Failed to display Jupyter Widget of type <code>Figure</code>.</p>\n",
       "<p>\n",
       "  If you're reading this message in the Jupyter Notebook or JupyterLab Notebook, it may mean\n",
       "  that the widgets JavaScript is still loading. If this message persists, it\n",
       "  likely means that the widgets JavaScript library is either not installed or\n",
       "  not enabled. See the <a href=\"https://ipywidgets.readthedocs.io/en/stable/user_install.html\">Jupyter\n",
       "  Widgets Documentation</a> for setup instructions.\n",
       "</p>\n",
       "<p>\n",
       "  If you're reading this message in another frontend (for example, a static\n",
       "  rendering on GitHub or <a href=\"https://nbviewer.jupyter.org/\">NBViewer</a>),\n",
       "  it may mean that your frontend doesn't currently support widgets.\n",
       "</p>\n"
      ],
      "text/plain": [
       "Figure()"
      ]
     },
     "metadata": {},
     "output_type": "display_data"
    }
   ],
   "source": [
    "# *** Overview Map ***\n",
    "#\n",
    "# Initialize our map figure\n",
    "fig1 = gmaps.figure(center=(30.3, -97.74), zoom_level=10)\n",
    "\n",
    "# Apply our heatmap of ALL animals to the figure and output it\n",
    "heatmap_layer_strays = gmaps.heatmap_layer(df_summary_strays[[\"Latitude\", \"Longitude\"]], weights=df_summary_strays[\"Count\"])\n",
    "\n",
    "# Apply heatmap_layer to figure\n",
    "fig1.add_layer(heatmap_layer_strays)\n",
    "\n",
    "# Tweak heatmap intensity radius coloring\n",
    "heatmap_layer_strays.max_intensity = 19\n",
    "heatmap_layer_strays.point_radius = 5\n",
    "\n",
    "# Output figure\n",
    "fig1"
   ]
  },
  {
   "cell_type": "code",
   "execution_count": 17,
   "metadata": {},
   "outputs": [
    {
     "data": {
      "application/vnd.jupyter.widget-view+json": {
       "model_id": "219899f142484c458e7c013b7933b968",
       "version_major": 2,
       "version_minor": 0
      },
      "text/html": [
       "<p>Failed to display Jupyter Widget of type <code>Figure</code>.</p>\n",
       "<p>\n",
       "  If you're reading this message in the Jupyter Notebook or JupyterLab Notebook, it may mean\n",
       "  that the widgets JavaScript is still loading. If this message persists, it\n",
       "  likely means that the widgets JavaScript library is either not installed or\n",
       "  not enabled. See the <a href=\"https://ipywidgets.readthedocs.io/en/stable/user_install.html\">Jupyter\n",
       "  Widgets Documentation</a> for setup instructions.\n",
       "</p>\n",
       "<p>\n",
       "  If you're reading this message in another frontend (for example, a static\n",
       "  rendering on GitHub or <a href=\"https://nbviewer.jupyter.org/\">NBViewer</a>),\n",
       "  it may mean that your frontend doesn't currently support widgets.\n",
       "</p>\n"
      ],
      "text/plain": [
       "Figure()"
      ]
     },
     "metadata": {},
     "output_type": "display_data"
    }
   ],
   "source": [
    "# *** Zoomed Map ***\n",
    "#\n",
    "# Initialize our map figure\n",
    "fig2 = gmaps.figure(center=(30.3, -97.74), zoom_level=11)\n",
    "\n",
    "# Apply heatmap_layer to figure\n",
    "fig2.add_layer(heatmap_layer_strays)\n",
    "\n",
    "# Tweak heatmap intensity radius coloring\n",
    "heatmap_layer_strays.max_intensity = 12\n",
    "heatmap_layer_strays.point_radius = 6\n",
    "\n",
    "# Output figure\n",
    "fig2"
   ]
  },
  {
   "cell_type": "markdown",
   "metadata": {},
   "source": [
    "### Google Maps Point Plot: Intake addresses of dogs vs. cats (from homes)"
   ]
  },
  {
   "cell_type": "code",
   "execution_count": 18,
   "metadata": {
    "collapsed": true
   },
   "outputs": [],
   "source": [
    "# Dogs from homes\n",
    "df_animals_summary_dogsfromhomes = df_summary_dogs.loc[(df_summary_dogs[\"Pet at Home\"] == True),]\n",
    "\n",
    "# Cats from homes\n",
    "df_animals_summary_catsfromhomes = df_summary_cats.loc[(df_summary_cats[\"Pet at Home\"] == True),]"
   ]
  },
  {
   "cell_type": "code",
   "execution_count": 19,
   "metadata": {
    "collapsed": true
   },
   "outputs": [],
   "source": [
    "# Create dataframes for lat/long values for dogs & cats, and break into list of tuples\n",
    "df_latlong_dogs = df_animals_summary_dogsfromhomes[[\"Latitude\", \"Longitude\"]]\n",
    "df_latlong_cats = df_animals_summary_catsfromhomes[[\"Latitude\", \"Longitude\"]]\n",
    "dogs_latlong_tuples = [tuple(x) for x in df_latlong_dogs.values]\n",
    "cats_latlong_tuples = [tuple(x) for x in df_latlong_cats.values]"
   ]
  },
  {
   "cell_type": "code",
   "execution_count": 20,
   "metadata": {},
   "outputs": [
    {
     "data": {
      "application/vnd.jupyter.widget-view+json": {
       "model_id": "73f886596060440a96e26e52ad2cebeb",
       "version_major": 2,
       "version_minor": 0
      },
      "text/html": [
       "<p>Failed to display Jupyter Widget of type <code>Figure</code>.</p>\n",
       "<p>\n",
       "  If you're reading this message in the Jupyter Notebook or JupyterLab Notebook, it may mean\n",
       "  that the widgets JavaScript is still loading. If this message persists, it\n",
       "  likely means that the widgets JavaScript library is either not installed or\n",
       "  not enabled. See the <a href=\"https://ipywidgets.readthedocs.io/en/stable/user_install.html\">Jupyter\n",
       "  Widgets Documentation</a> for setup instructions.\n",
       "</p>\n",
       "<p>\n",
       "  If you're reading this message in another frontend (for example, a static\n",
       "  rendering on GitHub or <a href=\"https://nbviewer.jupyter.org/\">NBViewer</a>),\n",
       "  it may mean that your frontend doesn't currently support widgets.\n",
       "</p>\n"
      ],
      "text/plain": [
       "Figure()"
      ]
     },
     "metadata": {},
     "output_type": "display_data"
    }
   ],
   "source": [
    "# Plot points representing just dogs and cats (colored separately)\n",
    "dogs_layer = gmaps.symbol_layer(dogs_latlong_tuples, fill_color=\"#0000FF\", stroke_color=\"#0000FF\", scale=2)\n",
    "cats_layer = gmaps.symbol_layer(cats_latlong_tuples, fill_color=\"#FF1493\", stroke_color=\"#FF1493\", scale=2)\n",
    "\n",
    "# Initialize map figure\n",
    "fig = gmaps.figure(center=(30.27, -97.74), zoom_level=11)\n",
    "\n",
    "# Add layers for dogs, then cats (dogs blue, cats magenta)\n",
    "fig.add_layer(dogs_layer)\n",
    "fig.add_layer(cats_layer)\n",
    "fig"
   ]
  },
  {
   "cell_type": "markdown",
   "metadata": {},
   "source": [
    "### Scatter plot: Veterinarian count vs. Pet intake address count"
   ]
  },
  {
   "cell_type": "code",
   "execution_count": 21,
   "metadata": {
    "collapsed": true
   },
   "outputs": [],
   "source": [
    "# Read All Animals summary dataframe with Vet\n",
    "df_animals_summary_all = pd.read_csv('raw data/animal_shelter_analysis_with_VetAndRadius_data.csv', encoding='latin-1')"
   ]
  },
  {
   "cell_type": "code",
   "execution_count": 22,
   "metadata": {},
   "outputs": [
    {
     "data": {
      "image/png": "[encoded data removed]",
      "text/plain": [
       "<matplotlib.figure.Figure at 0x16b08345438>"
      ]
     },
     "metadata": {},
     "output_type": "display_data"
    }
   ],
   "source": [
    "# Build a scatter plot for each data type\n",
    "plt.scatter(df_animals_summary_all[\"Vet Count\"], \n",
    "            df_animals_summary_all[\"Intakes within Radius\"],\n",
    "            edgecolor=\"black\", linewidths=1, marker=\"o\", \n",
    "            alpha=0.8, label=\"\")\n",
    "\n",
    "# Incorporate the other graph properties\n",
    "plt.title(\"Intakes vs. Vet Count by Lat/Long\")\n",
    "plt.ylabel(\"Intake Count\")\n",
    "plt.xlabel(\"Vet Count\")\n",
    "plt.grid(True)\n",
    "plt.xlim([-2.5, max(df_animals_summary_all[\"Vet Count\"]) + 3])\n",
    "plt.ylim([-2.5, max(df_animals_summary_all[\"Intakes within Radius\"] + 3)])\n",
    "\n",
    "# Save the figure\n",
    "plt.savefig(\"intakes_vs_get_count_by_latlng.png\")\n",
    "\n",
    "# Show plot\n",
    "plt.show()"
   ]
  },
  {
   "cell_type": "markdown",
   "metadata": {},
   "source": [
    "## Austin vs Louisville Analysis"
   ]
  },
  {
   "cell_type": "code",
   "execution_count": 24,
   "metadata": {
    "collapsed": true
   },
   "outputs": [],
   "source": [
    "#Read in the datasets\n",
    "austin_df = pd.read_csv(\"raw data/Austin_merged_data_with_time_deltas.csv\", encoding=\"iso-8859-1\", low_memory=False)\n",
    "louisville_df = pd.read_csv(\"raw data/Louisville_with_time_deltas_dogs_cats_only.csv\", encoding=\"iso-8859-1\", low_memory=False)\n",
    "\n",
    "austin_df['City']='Austin'\n",
    "louisville_df['City']='Louisville'"
   ]
  },
  {
   "cell_type": "markdown",
   "metadata": {},
   "source": [
    "## Average Time-To-Outcome by Animal Type"
   ]
  },
  {
   "cell_type": "code",
   "execution_count": 25,
   "metadata": {},
   "outputs": [],
   "source": [
    "austin_data=austin_df.loc[:,['Days from Intake to Outcome','Animal Type_intake']]\n",
    "louisville_data=louisville_df.loc[:,['Days between Intake and Outcome','AnimalType']]\n",
    "\n",
    "austin_data=austin_data.rename(columns={\"Animal Type_intake\":\"Animal Type\"})\n",
    "louisville_data=louisville_data.rename(columns={\"AnimalType\":\"Animal Type\",\"Days between Intake and Outcome\":\"Days from Intake to Outcome\"})\n",
    "austin_data['City']='Austin'\n",
    "louisville_data['City']='Louisville'\n",
    "df=pd.concat([austin_data,louisville_data]).reset_index()\n",
    "\n",
    "#Get the outcome types to be named the same things across AUS and Louisville data\n",
    "\n",
    "df=df.replace(to_replace='DOG',value='Dog')\n",
    "df=df.replace(to_replace='CAT',value='Cat')\n",
    "\n",
    "#include only data for Dogs and Cats\n",
    "group_by_animal_type=df.groupby(df['Animal Type'])\n",
    "\n",
    "#count up total dogs and cats\n",
    "df['Animal Type'].value_counts()\n",
    "\n",
    "#create lists for boxplot showing intake times for cats vs dogs\n",
    "\n",
    "cats=[]\n",
    "dogs=[]\n",
    "\n",
    "for row in range(len(df)):\n",
    "    if (df.loc[row,'Animal Type']==\"Cat\") & (df.loc[row,'Days from Intake to Outcome']>0):\n",
    "        cats.append(df.loc[row,'Days from Intake to Outcome'])\n",
    "    elif (df.loc[row,'Animal Type']==\"Dog\") & (df.loc[row,'Days from Intake to Outcome']>0):\n",
    "        dogs.append(df.loc[row,'Days from Intake to Outcome'])\n",
    "    else:\n",
    "        continue"
   ]
  },
  {
   "cell_type": "code",
   "execution_count": 26,
   "metadata": {
    "collapsed": true
   },
   "outputs": [],
   "source": [
    "%%capture\n",
    "\n",
    "#set up the figure\n",
    "data=[cats,dogs]\n",
    "labels=['Cats','Dogs']\n",
    "pyplot.boxplot(data, labels=labels, showfliers=False)\n",
    "pylab.title('Days from Intake to Outcome by Animal Type (Cats vs Dogs)')\n",
    "pylab.xlabel(\"Animal Type\")\n",
    "pylab.ylabel(\"Days from Intake to Outcome\")"
   ]
  },
  {
   "cell_type": "code",
   "execution_count": 27,
   "metadata": {},
   "outputs": [
    {
     "name": "stdout",
     "output_type": "stream",
     "text": [
      "Mean values:\n",
      "Cats: 15.462\n",
      "Dogs: 14.044\n",
      "\n",
      "Standard Deviations:\n",
      "Cats: 34.421\n",
      "Dogs: 37.595\n",
      "\n",
      "Medians:\n",
      "Cats: 5.857\n",
      "Dogs: 5.983\n"
     ]
    },
    {
     "data": {
      "image/png": "[encoded data removed]",
      "text/plain": [
       "<matplotlib.figure.Figure at 0x16b0ca20748>"
      ]
     },
     "metadata": {},
     "output_type": "display_data"
    }
   ],
   "source": [
    "#save box and whiskers plot to PNG file\n",
    "pyplot.savefig('figures/time_to_outcome_by_animal_type.png')\n",
    "\n",
    "print(f\"Mean values:\\nCats: {round(np.mean(cats),3)}\\nDogs: {round(np.mean(dogs),3)}\\n\")\n",
    "print(f\"Standard Deviations:\\nCats: {round(np.std(cats),3)}\\nDogs: {round(np.std(dogs),3)}\\n\")\n",
    "print(f\"Medians:\\nCats: {round(np.median(cats),3)}\\nDogs: {round(np.median(dogs),3)}\")\n",
    "\n",
    "#show box and whiskers plot\n",
    "pyplot.show()"
   ]
  },
  {
   "cell_type": "markdown",
   "metadata": {},
   "source": [
    "## Average Time-To-Outcome by City"
   ]
  },
  {
   "cell_type": "code",
   "execution_count": 28,
   "metadata": {},
   "outputs": [
    {
     "data": {
      "text/html": [
       "<div>\n",
       "<style>\n",
       "    .dataframe thead tr:only-child th {\n",
       "        text-align: right;\n",
       "    }\n",
       "\n",
       "    .dataframe thead th {\n",
       "        text-align: left;\n",
       "    }\n",
       "\n",
       "    .dataframe tbody tr th {\n",
       "        vertical-align: top;\n",
       "    }\n",
       "</style>\n",
       "<table border=\"1\" class=\"dataframe\">\n",
       "  <thead>\n",
       "    <tr style=\"text-align: right;\">\n",
       "      <th></th>\n",
       "      <th>Unnamed: 0</th>\n",
       "      <th>AnimalID</th>\n",
       "      <th>AnimalType</th>\n",
       "      <th>IntakeDate</th>\n",
       "      <th>IntakeType</th>\n",
       "      <th>IntakeSubtype</th>\n",
       "      <th>PrimaryColor</th>\n",
       "      <th>PrimaryBreed</th>\n",
       "      <th>SecondaryBreed</th>\n",
       "      <th>Gender</th>\n",
       "      <th>...</th>\n",
       "      <th>ReproductiveStatusAtIntake</th>\n",
       "      <th>OutcomeDate</th>\n",
       "      <th>OutcomeType</th>\n",
       "      <th>OutcomeSubtype</th>\n",
       "      <th>OutcomeReason</th>\n",
       "      <th>OutcomeInternalStatus</th>\n",
       "      <th>OutcomeAsilomarStatus</th>\n",
       "      <th>ReproductiveStatusAtOutcome</th>\n",
       "      <th>Days between Intake and Outcome</th>\n",
       "      <th>City</th>\n",
       "    </tr>\n",
       "  </thead>\n",
       "  <tbody>\n",
       "    <tr>\n",
       "      <th>0</th>\n",
       "      <td>0</td>\n",
       "      <td>A366370</td>\n",
       "      <td>CAT</td>\n",
       "      <td>2008-11-07 10:50:00</td>\n",
       "      <td>STRAY</td>\n",
       "      <td>OTC</td>\n",
       "      <td>WHITE</td>\n",
       "      <td>DOMESTIC SHORTHAIR</td>\n",
       "      <td>NaN</td>\n",
       "      <td>NEUTERED MALE</td>\n",
       "      <td>...</td>\n",
       "      <td>ALTERED</td>\n",
       "      <td>2008-11-12 15:46:00</td>\n",
       "      <td>EUTH</td>\n",
       "      <td>FERAL</td>\n",
       "      <td>NaN</td>\n",
       "      <td>NaN</td>\n",
       "      <td>UNHEALTHY/UNTREATABLE</td>\n",
       "      <td>ALTERED</td>\n",
       "      <td>5.205556</td>\n",
       "      <td>Louisville</td>\n",
       "    </tr>\n",
       "    <tr>\n",
       "      <th>1</th>\n",
       "      <td>1</td>\n",
       "      <td>A366531</td>\n",
       "      <td>CAT</td>\n",
       "      <td>2008-11-10 10:20:00</td>\n",
       "      <td>STRAY</td>\n",
       "      <td>OTC</td>\n",
       "      <td>BLACK</td>\n",
       "      <td>DOMESTIC SHORTHAIR</td>\n",
       "      <td>DOMESTIC SHORTHAIR</td>\n",
       "      <td>UNKNOWN</td>\n",
       "      <td>...</td>\n",
       "      <td>UNKNOWN</td>\n",
       "      <td>2008-11-19 20:10:00</td>\n",
       "      <td>EUTH</td>\n",
       "      <td>CONTAG DIS</td>\n",
       "      <td>NaN</td>\n",
       "      <td>SICK</td>\n",
       "      <td>HEALTHY</td>\n",
       "      <td>UNKNOWN</td>\n",
       "      <td>9.409722</td>\n",
       "      <td>Louisville</td>\n",
       "    </tr>\n",
       "    <tr>\n",
       "      <th>2</th>\n",
       "      <td>4</td>\n",
       "      <td>A281756</td>\n",
       "      <td>DOG</td>\n",
       "      <td>2006-09-11 18:10:00</td>\n",
       "      <td>OWNER SUR</td>\n",
       "      <td>OTC</td>\n",
       "      <td>WHITE</td>\n",
       "      <td>PIT BULL TERRIER</td>\n",
       "      <td>NaN</td>\n",
       "      <td>MALE</td>\n",
       "      <td>...</td>\n",
       "      <td>FERTILE</td>\n",
       "      <td>2006-09-12 13:44:00</td>\n",
       "      <td>EUTH</td>\n",
       "      <td>TIME/SPACE</td>\n",
       "      <td>NaN</td>\n",
       "      <td>NaN</td>\n",
       "      <td>HEALTHY</td>\n",
       "      <td>FERTILE</td>\n",
       "      <td>0.815278</td>\n",
       "      <td>Louisville</td>\n",
       "    </tr>\n",
       "    <tr>\n",
       "      <th>3</th>\n",
       "      <td>6</td>\n",
       "      <td>A278854</td>\n",
       "      <td>CAT</td>\n",
       "      <td>2006-08-17 14:28:00</td>\n",
       "      <td>STRAY</td>\n",
       "      <td>OTC</td>\n",
       "      <td>BROWN TIGER</td>\n",
       "      <td>DOMESTIC SHORTHAIR</td>\n",
       "      <td>NaN</td>\n",
       "      <td>FEMALE</td>\n",
       "      <td>...</td>\n",
       "      <td>FERTILE</td>\n",
       "      <td>2006-08-28 11:30:00</td>\n",
       "      <td>EUTH</td>\n",
       "      <td>MEDICAL</td>\n",
       "      <td>NaN</td>\n",
       "      <td>NaN</td>\n",
       "      <td>HEALTHY</td>\n",
       "      <td>FERTILE</td>\n",
       "      <td>10.876389</td>\n",
       "      <td>Louisville</td>\n",
       "    </tr>\n",
       "    <tr>\n",
       "      <th>4</th>\n",
       "      <td>7</td>\n",
       "      <td>A278862</td>\n",
       "      <td>CAT</td>\n",
       "      <td>2006-08-17 14:28:00</td>\n",
       "      <td>STRAY</td>\n",
       "      <td>OTC</td>\n",
       "      <td>GRAY</td>\n",
       "      <td>DOMESTIC SHORTHAIR</td>\n",
       "      <td>NaN</td>\n",
       "      <td>MALE</td>\n",
       "      <td>...</td>\n",
       "      <td>FERTILE</td>\n",
       "      <td>2006-08-28 09:20:00</td>\n",
       "      <td>DIED</td>\n",
       "      <td>IN KENNEL</td>\n",
       "      <td>NaN</td>\n",
       "      <td>NaN</td>\n",
       "      <td>HEALTHY</td>\n",
       "      <td>FERTILE</td>\n",
       "      <td>10.786111</td>\n",
       "      <td>Louisville</td>\n",
       "    </tr>\n",
       "  </tbody>\n",
       "</table>\n",
       "<p>5 rows × 25 columns</p>\n",
       "</div>"
      ],
      "text/plain": [
       "   Unnamed: 0 AnimalID AnimalType           IntakeDate IntakeType  \\\n",
       "0           0  A366370        CAT  2008-11-07 10:50:00      STRAY   \n",
       "1           1  A366531        CAT  2008-11-10 10:20:00      STRAY   \n",
       "2           4  A281756        DOG  2006-09-11 18:10:00  OWNER SUR   \n",
       "3           6  A278854        CAT  2006-08-17 14:28:00      STRAY   \n",
       "4           7  A278862        CAT  2006-08-17 14:28:00      STRAY   \n",
       "\n",
       "  IntakeSubtype PrimaryColor        PrimaryBreed      SecondaryBreed  \\\n",
       "0           OTC        WHITE  DOMESTIC SHORTHAIR                 NaN   \n",
       "1           OTC        BLACK  DOMESTIC SHORTHAIR  DOMESTIC SHORTHAIR   \n",
       "2           OTC        WHITE    PIT BULL TERRIER                 NaN   \n",
       "3           OTC  BROWN TIGER  DOMESTIC SHORTHAIR                 NaN   \n",
       "4           OTC         GRAY  DOMESTIC SHORTHAIR                 NaN   \n",
       "\n",
       "          Gender     ...     ReproductiveStatusAtIntake          OutcomeDate  \\\n",
       "0  NEUTERED MALE     ...                        ALTERED  2008-11-12 15:46:00   \n",
       "1        UNKNOWN     ...                        UNKNOWN  2008-11-19 20:10:00   \n",
       "2           MALE     ...                        FERTILE  2006-09-12 13:44:00   \n",
       "3         FEMALE     ...                        FERTILE  2006-08-28 11:30:00   \n",
       "4           MALE     ...                        FERTILE  2006-08-28 09:20:00   \n",
       "\n",
       "  OutcomeType OutcomeSubtype OutcomeReason OutcomeInternalStatus  \\\n",
       "0        EUTH          FERAL           NaN                   NaN   \n",
       "1        EUTH     CONTAG DIS           NaN                  SICK   \n",
       "2        EUTH     TIME/SPACE           NaN                   NaN   \n",
       "3        EUTH        MEDICAL           NaN                   NaN   \n",
       "4        DIED      IN KENNEL           NaN                   NaN   \n",
       "\n",
       "   OutcomeAsilomarStatus ReproductiveStatusAtOutcome  \\\n",
       "0  UNHEALTHY/UNTREATABLE                     ALTERED   \n",
       "1                HEALTHY                     UNKNOWN   \n",
       "2                HEALTHY                     FERTILE   \n",
       "3                HEALTHY                     FERTILE   \n",
       "4                HEALTHY                     FERTILE   \n",
       "\n",
       "  Days between Intake and Outcome        City  \n",
       "0                        5.205556  Louisville  \n",
       "1                        9.409722  Louisville  \n",
       "2                        0.815278  Louisville  \n",
       "3                       10.876389  Louisville  \n",
       "4                       10.786111  Louisville  \n",
       "\n",
       "[5 rows x 25 columns]"
      ]
     },
     "execution_count": 28,
     "metadata": {},
     "output_type": "execute_result"
    }
   ],
   "source": [
    "louisville_df.head()"
   ]
  },
  {
   "cell_type": "code",
   "execution_count": 30,
   "metadata": {},
   "outputs": [],
   "source": [
    "#create lists for boxplot showing intake times for cats vs dogs\n",
    "\n",
    "austin=[]\n",
    "louisville=[]\n",
    "\n",
    "#fill the Louisville list\n",
    "for row in range(len(louisville_df)):\n",
    "    if louisville_df.loc[row,'Days between Intake and Outcome']>0:\n",
    "        louisville.append(louisville_df.loc[row,'Days between Intake and Outcome'])\n",
    "    else:\n",
    "        continue\n",
    "\n",
    "#fill the Austin list\n",
    "for row in range(len(austin_df)):\n",
    "    if austin_data.loc[row,'Days from Intake to Outcome']>0:\n",
    "        austin.append(austin_df.loc[row,'Days from Intake to Outcome'])\n",
    "    else:\n",
    "        continue"
   ]
  },
  {
   "cell_type": "code",
   "execution_count": 31,
   "metadata": {
    "collapsed": true
   },
   "outputs": [],
   "source": [
    "%%capture\n",
    "\n",
    "#set up the figure\n",
    "data=[austin,louisville]\n",
    "labels=['Austin','Louisville']\n",
    "pyplot.boxplot(data, labels=labels, showfliers=False)\n",
    "pylab.title('Days from Intake to Outcome by City (Austin vs Louisville)')\n",
    "pylab.xlabel(\"City\")\n",
    "pylab.ylabel(\"Days from Intake to Outcome\")"
   ]
  },
  {
   "cell_type": "code",
   "execution_count": 32,
   "metadata": {},
   "outputs": [
    {
     "name": "stdout",
     "output_type": "stream",
     "text": [
      "Means:\n",
      "Austin: 17.78\n",
      "Louisville: 13.524\n",
      "\n",
      "Standard Deviations:\n",
      "Austin: 38.187\n",
      "Louisville: 35.283\n",
      "\n",
      "Medians:\n",
      "Austin: 5.395\n",
      "Louisville: 6.019\n"
     ]
    },
    {
     "data": {
      "image/png": "[encoded data removed]",
      "text/plain": [
       "<matplotlib.figure.Figure at 0x16b0ec9d4a8>"
      ]
     },
     "metadata": {},
     "output_type": "display_data"
    }
   ],
   "source": [
    "#save box and whiskers plot to PNG file\n",
    "pyplot.savefig('figures/time_to_outcome_by_city.png')\n",
    "\n",
    "print(f\"Means:\\nAustin: {round(np.mean(austin),3)}\\nLouisville: {round(np.mean(louisville),3)}\\n\")\n",
    "print(f\"Standard Deviations:\\nAustin: {round(np.std(austin),3)}\\nLouisville: {round(np.std(louisville),3)}\\n\")\n",
    "print(f\"Medians:\\nAustin: {round(np.median(austin),3)}\\nLouisville: {round(np.median(louisville),3)}\")\n",
    "\n",
    "#show box and whiskers plot\n",
    "pyplot.show()"
   ]
  },
  {
   "cell_type": "code",
   "execution_count": 33,
   "metadata": {},
   "outputs": [
    {
     "name": "stdout",
     "output_type": "stream",
     "text": [
      "Levene test result: p = 0.0\n",
      "Assume unequal variances\n",
      "\n",
      "\n",
      "T-test results:\n",
      "t = 22.615\n",
      "P = 0.0\n",
      "\n",
      "The difference is significant.\n",
      "Austin has a lower median time between intake and outcome compared to Louisville (5.4 vs 6.0).\n",
      "\n",
      "However, Austin's mean time is higher (17.8 vs 13.5).\n",
      "\n",
      "This difference was statistically significant (t=22.6, p<.01).\n"
     ]
    }
   ],
   "source": [
    "#Is this difference significant? (Probably not, but let's check because we can)\n",
    "\n",
    "#check for equality of variances (Levene's test)\n",
    "#and then run t-test based on result\n",
    "\n",
    "levene=stats.levene(austin,louisville)\n",
    "\n",
    "print(f\"Levene test result: p = {round(levene.pvalue,5)}\")\n",
    "if levene.pvalue < .05:\n",
    "    print(\"Assume unequal variances\\n\\n\")\n",
    "    result=stats.ttest_ind(austin, louisville, equal_var=False)\n",
    "else:\n",
    "    print(\"Assume equal variances\\n\\n\")\n",
    "    result=stats.ttest_ind(austin, louisville, equal_var=True)    \n",
    "\n",
    "print(\"T-test results:\")\n",
    "print(f\"t = {round(result.statistic,4)}\\nP = {round(result.pvalue,4)}\")\n",
    "if result.pvalue < .05:\n",
    "    print(f\"\\nThe difference is significant.\")\n",
    "else:\n",
    "    print(f\"\\nThe difference is not significant.\")\n",
    "\n",
    "#STATS SUMMARY\n",
    "\n",
    "print(\"Austin has a lower median time between intake and outcome compared to Louisville (5.4 vs 6.0).\")\n",
    "print(\"\\nHowever, Austin's mean time is higher (17.8 vs 13.5).\\n\\nThis difference was statistically significant (t=22.6, p<.01).\")"
   ]
  },
  {
   "cell_type": "markdown",
   "metadata": {},
   "source": [
    "## Average Time-To-Outcome by Outcome Type"
   ]
  },
  {
   "cell_type": "code",
   "execution_count": 34,
   "metadata": {
    "collapsed": true
   },
   "outputs": [],
   "source": [
    "#Restrict our analysis to adoption, transfer, euthanasia, and death\n",
    "#Adoption\n",
    "\n",
    "austin_data=austin_df[austin_df['Outcome Type'].isin(['Adoption','Transfer','Euthanasia','Died'])]\n",
    "louisville_data=louisville_df[louisville_df['OutcomeType'].isin(['ADOPTION','EUTH','TRANSFER','DIED'])]\n",
    "\n",
    "austin_data=austin_data.rename(columns={\"Outcome Type\":\"OutcomeType\",\"Days from Intake to Outcome\":\"Days between Intake and Outcome\"})\n",
    "\n",
    "df=pd.concat([austin_data,louisville_data]).reset_index()\n",
    "\n",
    "#Get the outcome types to be named the same things across AUS and Louisville data\n",
    "\n",
    "df=df.replace(to_replace='ADOPTION',value='Adoption')\n",
    "df=df.replace(to_replace='EUTH',value='Euthanasia')\n",
    "df=df.replace(to_replace='TRANSFER',value='Transfer')\n",
    "df=df.replace(to_replace='DIED',value='Died')\n",
    "\n",
    "df['OutcomeType'].value_counts()\n",
    "\n",
    "#create lists for boxplot showing intake times for cats vs dogs\n",
    "\n",
    "adoption=[]\n",
    "euthanasia=[]\n",
    "transfer=[]\n",
    "died=[]\n",
    "\n",
    "#fill the lists\n",
    "for row in range(len(df)):    \n",
    "    if (df.loc[row,'Days between Intake and Outcome']>0) & (df.loc[row,'OutcomeType']=='Adoption'):\n",
    "        adoption.append(df.loc[row,'Days between Intake and Outcome'])\n",
    "    elif (df.loc[row,'Days between Intake and Outcome']>0) & (df.loc[row,'OutcomeType']=='Euthanasia'):\n",
    "        euthanasia.append(df.loc[row,'Days between Intake and Outcome'])        \n",
    "    elif (df.loc[row,'Days between Intake and Outcome']>0) & (df.loc[row,'OutcomeType']=='Transfer'):\n",
    "        transfer.append(df.loc[row,'Days between Intake and Outcome'])                \n",
    "    elif (df.loc[row,'Days between Intake and Outcome']>0) & (df.loc[row,'OutcomeType']=='Died'):\n",
    "        died.append(df.loc[row,'Days between Intake and Outcome'])                        \n",
    "    else:\n",
    "        continue"
   ]
  },
  {
   "cell_type": "code",
   "execution_count": 35,
   "metadata": {
    "collapsed": true
   },
   "outputs": [],
   "source": [
    "%%capture\n",
    "\n",
    "#set up the figure\n",
    "data=[adoption, euthanasia, transfer, died]\n",
    "labels=['Adopted','Euthanized','Transferred','Died']\n",
    "pyplot.boxplot(data, labels=labels, showfliers=False)\n",
    "pylab.title('Days from Intake to Outcome by Outcome Type')\n",
    "pylab.xlabel(\"Outcome Type\")\n",
    "pylab.ylabel(\"Days from Intake to Outcome\")"
   ]
  },
  {
   "cell_type": "code",
   "execution_count": 36,
   "metadata": {},
   "outputs": [
    {
     "name": "stdout",
     "output_type": "stream",
     "text": [
      "Mean values:\n",
      "Adopted: 31.134\n",
      "Euthanized: 8.403\n",
      "Transferred: 11.792\n",
      "Died: 17.88\n",
      "\n",
      "Standard Deviations:\n",
      "Adopted: 55.158\n",
      "Euthanized: 17.42\n",
      "Transferred: 24.686\n",
      "Died: 64.101\n",
      "\n",
      "Medians:\n",
      "Adopted: 14.18\n",
      "Euthanized: 5.815\n",
      "Transferred: 5.106\n",
      "Died: 6.956\n"
     ]
    },
    {
     "data": {
      "image/png": "[encoded data removed]",
      "text/plain": [
       "<matplotlib.figure.Figure at 0x16b11631550>"
      ]
     },
     "metadata": {},
     "output_type": "display_data"
    }
   ],
   "source": [
    "#save box and whiskers plot to PNG file\n",
    "pyplot.savefig('figures/time_to_outcome_by_outcome_type.png')\n",
    "\n",
    "print(f\"Mean values:\\nAdopted: {round(np.mean(adoption),3)}\\nEuthanized: {round(np.mean(euthanasia),3)}\\nTransferred: {round(np.mean(transfer),3)}\\nDied: {round(np.mean(died),3)}\")\n",
    "print(f\"\\nStandard Deviations:\\nAdopted: {round(np.std(adoption),3)}\\nEuthanized: {round(np.std(euthanasia),3)}\\nTransferred: {round(np.std(transfer),3)}\\nDied: {round(np.std(died),3)}\")\n",
    "print(f\"\\nMedians:\\nAdopted: {round(np.median(adoption),3)}\\nEuthanized: {round(np.median(euthanasia),3)}\\nTransferred: {round(np.median(transfer),3)}\\nDied: {round(np.median(died),3)}\")\n",
    "\n",
    "#show box and whiskers plot\n",
    "pyplot.show()\n"
   ]
  },
  {
   "cell_type": "code",
   "execution_count": 37,
   "metadata": {},
   "outputs": [
    {
     "data": {
      "text/plain": [
       "F_onewayResult(statistic=4086.9711082211779, pvalue=0.0)"
      ]
     },
     "execution_count": 37,
     "metadata": {},
     "output_type": "execute_result"
    }
   ],
   "source": [
    "#ANOVA:\n",
    "stats.f_oneway(adoption, euthanasia, transfer, died)"
   ]
  },
  {
   "cell_type": "markdown",
   "metadata": {},
   "source": [
    "## Average Time-To-Outcome by Age at Intake"
   ]
  },
  {
   "cell_type": "code",
   "execution_count": 38,
   "metadata": {},
   "outputs": [
    {
     "name": "stdout",
     "output_type": "stream",
     "text": [
      "Average age: 742.24 days\n",
      "Average time to outcome: 16.86 days\n"
     ]
    }
   ],
   "source": [
    "#Plot age at intake against Days from Intake to Outcome\n",
    "\n",
    "x=austin_df['AgeDays_intake']\n",
    "y=austin_df['Days from Intake to Outcome']\n",
    "\n",
    "len(x)\n",
    "len(y)\n",
    "\n",
    "print(f\"Average age: {round(np.mean(x),2)} days\")\n",
    "print(f\"Average time to outcome: {round(np.mean(y),2)} days\")"
   ]
  },
  {
   "cell_type": "code",
   "execution_count": 39,
   "metadata": {
    "collapsed": true
   },
   "outputs": [],
   "source": [
    "#remove outliers\n",
    "\n",
    "x_max=np.mean(x)+(3*np.std(x))\n",
    "x_min=np.mean(x)-(3*np.std(x))\n",
    "y_max=np.mean(y)+(3*np.std(y))\n",
    "y_min=np.mean(y)-(3*np.std(y))\n",
    "\n",
    "austin_data_outliers_removed=austin_df[(austin_df['AgeDays_intake'] < x_max) \n",
    "                                         & (austin_df['AgeDays_intake'] > x_min)\n",
    "                                         & (austin_df['Days from Intake to Outcome'] < y_max)                                        \n",
    "                                         & (austin_df['Days from Intake to Outcome'] > y_min)]"
   ]
  },
  {
   "cell_type": "markdown",
   "metadata": {},
   "source": [
    "## All Animals"
   ]
  },
  {
   "cell_type": "code",
   "execution_count": 40,
   "metadata": {},
   "outputs": [
    {
     "name": "stdout",
     "output_type": "stream",
     "text": [
      "\n",
      "\n",
      "ALL ANIMALS:\n",
      "Coefficient: -0.0014329168427347167\n",
      "R-squared: -0.05723070142425872\n",
      "P-value: 0.0\n",
      "\n",
      "The correlation is significant, although the effect size is very small\n"
     ]
    }
   ],
   "source": [
    "#Redefine data for analysis using subset of data without outliers\n",
    "x=austin_data_outliers_removed['AgeDays_intake']\n",
    "y=austin_data_outliers_removed['Days from Intake to Outcome']\n",
    "\n",
    "#Regression\n",
    "coefficient,intercept,r_squared,p_value,std_err=stats.linregress(x,y)    \n",
    "\n",
    "print(\"\\n\\nALL ANIMALS:\")\n",
    "print(f\"Coefficient: {coefficient}\")\n",
    "print(f\"R-squared: {r_squared}\")\n",
    "print(f\"P-value: {round(p_value,3)}\")\n",
    "print(\"\\nThe correlation is significant, although the effect size is very small\")"
   ]
  },
  {
   "cell_type": "code",
   "execution_count": 41,
   "metadata": {
    "collapsed": true
   },
   "outputs": [],
   "source": [
    "%%capture\n",
    "pyplot.scatter(x,y)\n",
    "pyplot.plot([1,100])\n",
    "pylab.xlabel(\"\\nAge at intake (days)\")\n",
    "pylab.ylabel(\"Time from Intake to Outcome (days)\\n\")\n",
    "pylab.title(\"Age vs Time to Outcome (All Animals)\\n\")\n",
    "z = np.polyfit(x, y, 1)\n",
    "p = np.poly1d(z)\n",
    "pyplot.plot(x,p(x),\"r--\")"
   ]
  },
  {
   "cell_type": "code",
   "execution_count": 42,
   "metadata": {},
   "outputs": [
    {
     "data": {
      "image/png": "[encoded data removed]",
      "text/plain": [
       "<matplotlib.figure.Figure at 0x16b11653470>"
      ]
     },
     "metadata": {},
     "output_type": "display_data"
    }
   ],
   "source": [
    "#Save and Draw Plots\n",
    "#Age vs. Time to Outcome for Euthanized animals\n",
    "pyplot.savefig('figures/age_vs_time_to_outcome_ALL.png')\n",
    "\n",
    "pyplot.show()"
   ]
  },
  {
   "cell_type": "markdown",
   "metadata": {},
   "source": [
    "## Adopted vs Euthanized Animals"
   ]
  },
  {
   "cell_type": "code",
   "execution_count": 43,
   "metadata": {
    "collapsed": true
   },
   "outputs": [],
   "source": [
    "#Plot separately for outcome types\n",
    "\n",
    "austin_data_outliers_removed['Outcome Type'].value_counts()\n",
    "\n",
    "adoption=austin_data_outliers_removed[austin_data_outliers_removed['Outcome Type']=='Adoption']\n",
    "euthanasia=austin_data_outliers_removed[austin_data_outliers_removed['Outcome Type']=='Euthanasia']"
   ]
  },
  {
   "cell_type": "code",
   "execution_count": 44,
   "metadata": {},
   "outputs": [
    {
     "name": "stdout",
     "output_type": "stream",
     "text": [
      "\n",
      "\n",
      "ADOPTED ANIMALS:\n",
      "Coefficient: -0.0007430668781439317\n",
      "R-squared: -0.020098228288934542\n",
      "P-value: 0.002\n",
      "\n",
      "The correlation is significant, but the effect size is very small\n"
     ]
    }
   ],
   "source": [
    "#Age vs. Time to Outcome for Adopted animals\n",
    "\n",
    "#Redefine data for analysis using subset of data without outliers\n",
    "x=adoption['AgeDays_intake']\n",
    "y=adoption['Days from Intake to Outcome']\n",
    "\n",
    "#Regression\n",
    "coefficient,intercept,r_squared,p_value,std_err=stats.linregress(x,y)    \n",
    "\n",
    "print(\"\\n\\nADOPTED ANIMALS:\")\n",
    "print(f\"Coefficient: {coefficient}\")\n",
    "print(f\"R-squared: {r_squared}\")\n",
    "print(f\"P-value: {round(p_value,3)}\")\n",
    "print(\"\\nThe correlation is significant, but the effect size is very small\")"
   ]
  },
  {
   "cell_type": "code",
   "execution_count": 45,
   "metadata": {
    "collapsed": true
   },
   "outputs": [],
   "source": [
    "%%capture \n",
    "pyplot.scatter(x,y)\n",
    "pyplot.plot([1,100])\n",
    "pylab.xlabel(\"\\nAge at intake (days)\")\n",
    "pylab.ylabel(\"Time from Intake to Outcome (days)\\n\")\n",
    "pylab.title(\"Age vs Time to Outcome (Adopted Animals Only)\\n\")\n",
    "z = np.polyfit(x, y, 1)\n",
    "p = np.poly1d(z)\n",
    "pyplot.plot(x,p(x),\"r--\")"
   ]
  },
  {
   "cell_type": "code",
   "execution_count": 46,
   "metadata": {},
   "outputs": [
    {
     "data": {
      "image/png": "[encoded data removed]",
      "text/plain": [
       "<matplotlib.figure.Figure at 0x16b0ed06278>"
      ]
     },
     "metadata": {},
     "output_type": "display_data"
    }
   ],
   "source": [
    "#Save and Draw Plots\n",
    "#Age vs. Time to Outcome for Euthanized animals\n",
    "pyplot.savefig('figures/age_vs_time_to_outcome_Adoption.png')\n",
    "\n",
    "pyplot.show()"
   ]
  },
  {
   "cell_type": "code",
   "execution_count": 47,
   "metadata": {},
   "outputs": [
    {
     "name": "stdout",
     "output_type": "stream",
     "text": [
      "\n",
      "\n",
      "EUTHANIZED ANIMALS:\n",
      "Coefficient: -0.0001183845812628215\n",
      "R-squared: -0.009029294223016609\n",
      "P-value: 0.661\n",
      "\n",
      "The correlation is not significant\n"
     ]
    }
   ],
   "source": [
    "#Age vs. Time to Outcome for Euthanized animals\n",
    "\n",
    "#Redefine data for analysis using subset of data without outliers\n",
    "x=euthanasia['AgeDays_intake']\n",
    "y=euthanasia['Days from Intake to Outcome']\n",
    "\n",
    "#Regression\n",
    "coefficient,intercept,r_squared,p_value,std_err=stats.linregress(x,y)    \n",
    "\n",
    "print(\"\\n\\nEUTHANIZED ANIMALS:\")\n",
    "print(f\"Coefficient: {coefficient}\")\n",
    "print(f\"R-squared: {r_squared}\")\n",
    "print(f\"P-value: {round(p_value,3)}\")\n",
    "print(\"\\nThe correlation is not significant\")"
   ]
  },
  {
   "cell_type": "code",
   "execution_count": 48,
   "metadata": {
    "collapsed": true
   },
   "outputs": [],
   "source": [
    "%%capture\n",
    "pyplot.scatter(x,y)\n",
    "pyplot.plot([1,100])\n",
    "pylab.xlabel(\"\\nAge at intake (days)\")\n",
    "pylab.ylabel(\"Time from Intake to Outcome (days)\\n\")\n",
    "pylab.title(\"Age vs Time to Outcome (Euthanized Animals Only)\\n\")\n",
    "z = np.polyfit(x, y, 1)\n",
    "p = np.poly1d(z)\n",
    "pyplot.plot(x,p(x),\"r--\")"
   ]
  },
  {
   "cell_type": "code",
   "execution_count": 49,
   "metadata": {},
   "outputs": [
    {
     "name": "stdout",
     "output_type": "stream",
     "text": [
      "\n",
      "\n",
      "EUTHANIZED ANIMALS:\n",
      "Coefficient: -0.0001183845812628215\n",
      "R-squared: -0.009029294223016609\n",
      "P-value: 0.661\n",
      "\n",
      "The correlation is significant, although the effect size is very small\n"
     ]
    }
   ],
   "source": [
    "print(\"\\n\\nEUTHANIZED ANIMALS:\")\n",
    "print(f\"Coefficient: {coefficient}\")\n",
    "print(f\"R-squared: {r_squared}\")\n",
    "print(f\"P-value: {round(p_value,3)}\")\n",
    "print(\"\\nThe correlation is significant, although the effect size is very small\")"
   ]
  },
  {
   "cell_type": "code",
   "execution_count": 50,
   "metadata": {},
   "outputs": [
    {
     "data": {
      "image/png": "[encoded data removed]",
      "text/plain": [
       "<matplotlib.figure.Figure at 0x16b0ecdfa58>"
      ]
     },
     "metadata": {},
     "output_type": "display_data"
    }
   ],
   "source": [
    "#Save and Draw Plots\n",
    "#Age vs. Time to Outcome for Euthanized animals\n",
    "pyplot.savefig('figures/age_vs_time_to_outcome_Euthanasia.png')\n",
    "\n",
    "pyplot.show()"
   ]
  },
  {
   "cell_type": "markdown",
   "metadata": {},
   "source": [
    "## Cats vs Dogs (Adopted animals only)"
   ]
  },
  {
   "cell_type": "code",
   "execution_count": 51,
   "metadata": {
    "collapsed": true
   },
   "outputs": [],
   "source": [
    "#Plot separately for Cats and Dogs (separate colors)\n",
    "\n",
    "adoption['Animal Type_intake'].value_counts()\n",
    "\n",
    "dogs=adoption[adoption['Animal Type_intake']=='Dog']\n",
    "cats=adoption[adoption['Animal Type_intake']=='Cat']"
   ]
  },
  {
   "cell_type": "code",
   "execution_count": 52,
   "metadata": {},
   "outputs": [
    {
     "name": "stdout",
     "output_type": "stream",
     "text": [
      "\n",
      "\n",
      "CATS:\n",
      "----------------\n",
      "Average age (days): 283.81\n",
      "Median age (days): 30.0\n",
      "Average time to outcome (days): 31.76\n",
      "Median time to outcome (days): 24.43\n",
      "\n",
      "Regression model:\n",
      "Coefficient: -0.002\n",
      "R-squared: -0.039\n",
      "P-value: 0.0\n",
      "\n",
      "The correlation is significant, but the effect size is small\n",
      "\n",
      "For CATS, younger animals are generally adopted less quickly than older animals\n"
     ]
    }
   ],
   "source": [
    "#CATS\n",
    "\n",
    "#Redefine data for analysis using subset of data without outliers\n",
    "x=cats['AgeDays_intake']\n",
    "y=cats['Days from Intake to Outcome']\n",
    "#Regression\n",
    "coefficient,intercept,r_squared,p_value,std_err=stats.linregress(x,y)    \n",
    "\n",
    "print(\"\\n\\nCATS:\\n----------------\")\n",
    "print(f\"Average age (days): {round(np.mean(x),2)}\")\n",
    "print(f\"Median age (days): {round(np.median(x),2)}\")\n",
    "print(f\"Average time to outcome (days): {round(np.mean(y),2)}\")\n",
    "print(f\"Median time to outcome (days): {round(np.median(y),2)}\")\n",
    "print(\"\\nRegression model:\")\n",
    "print(f\"Coefficient: {round(coefficient,3)}\")\n",
    "print(f\"R-squared: {round(r_squared,3)}\")\n",
    "print(f\"P-value: {round(p_value,3)}\")\n",
    "print(\"\\nThe correlation is significant, but the effect size is small\")\n",
    "print(\"\\nFor CATS, younger animals are generally adopted less quickly than older animals\")"
   ]
  },
  {
   "cell_type": "code",
   "execution_count": 53,
   "metadata": {
    "collapsed": true
   },
   "outputs": [],
   "source": [
    "%%capture\n",
    "pyplot.scatter(x,y)\n",
    "pyplot.plot([1,100])\n",
    "pylab.xlabel(\"Age at intake (days)\")\n",
    "pylab.ylabel(\"Time from Intake to Outcome (days)\")\n",
    "pylab.title(\"Age vs Time to Outcome (Cats Only)\")\n",
    "z = np.polyfit(x, y, 1)\n",
    "p = np.poly1d(z)\n",
    "pyplot.plot(x,p(x),\"r--\")"
   ]
  },
  {
   "cell_type": "code",
   "execution_count": 54,
   "metadata": {},
   "outputs": [
    {
     "data": {
      "image/png": "[encoded data removed]",
      "text/plain": [
       "<matplotlib.figure.Figure at 0x16b1164ab00>"
      ]
     },
     "metadata": {},
     "output_type": "display_data"
    }
   ],
   "source": [
    "#Save and Draw Plots\n",
    "#Age vs. Time to Outcome for Euthanized animals\n",
    "pyplot.savefig('figures/age_vs_time_to_outcome_Cats.png')\n",
    "\n",
    "pyplot.show()"
   ]
  },
  {
   "cell_type": "code",
   "execution_count": 55,
   "metadata": {},
   "outputs": [
    {
     "name": "stdout",
     "output_type": "stream",
     "text": [
      "\n",
      "\n",
      "DOGS:\n",
      "----------------\n",
      "Average age (days): 601.17\n",
      "Median age (days): 365.0\n",
      "Average time to outcome (days): 16.35\n",
      "Median time to outcome (days): 6.23\n",
      "\n",
      "Regression model:\n",
      "Coefficient: 0.004\n",
      "R-squared: 0.124\n",
      "P-value: 0.0\n",
      "\n",
      "The correlation is significant, but the effect size is small\n",
      "\n",
      "For DOGS, younger animals are generally adopted more quickly than older animals\n"
     ]
    }
   ],
   "source": [
    "#CATS\n",
    "\n",
    "#Redefine data for analysis using subset of data without outliers\n",
    "x=dogs['AgeDays_intake']\n",
    "y=dogs['Days from Intake to Outcome']\n",
    "#Regression\n",
    "coefficient,intercept,r_squared,p_value,std_err=stats.linregress(x,y)    \n",
    "\n",
    "print(\"\\n\\nDOGS:\\n----------------\")\n",
    "print(f\"Average age (days): {round(np.mean(x),2)}\")\n",
    "print(f\"Median age (days): {round(np.median(x),2)}\")\n",
    "print(f\"Average time to outcome (days): {round(np.mean(y),2)}\")\n",
    "print(f\"Median time to outcome (days): {round(np.median(y),2)}\")\n",
    "print(\"\\nRegression model:\")\n",
    "print(f\"Coefficient: {round(coefficient,3)}\")\n",
    "print(f\"R-squared: {round(r_squared,3)}\")\n",
    "print(f\"P-value: {round(p_value,3)}\")\n",
    "print(\"\\nThe correlation is significant, but the effect size is small\")\n",
    "print(\"\\nFor DOGS, younger animals are generally adopted more quickly than older animals\")"
   ]
  },
  {
   "cell_type": "code",
   "execution_count": 56,
   "metadata": {
    "collapsed": true
   },
   "outputs": [],
   "source": [
    "%%capture\n",
    "pyplot.scatter(x,y)\n",
    "pyplot.plot([1,100])\n",
    "pylab.xlabel(\"Age at intake (days)\")\n",
    "pylab.ylabel(\"Time from Intake to Outcome (days)\")\n",
    "pylab.title(\"Age vs Time to Outcome (Dogs Only)\")\n",
    "z = np.polyfit(x, y, 1)\n",
    "p = np.poly1d(z)\n",
    "pyplot.plot(x,p(x),\"r--\")"
   ]
  },
  {
   "cell_type": "code",
   "execution_count": 57,
   "metadata": {},
   "outputs": [
    {
     "data": {
      "image/png": "[encoded data removed]",
      "text/plain": [
       "<matplotlib.figure.Figure at 0x16b0ec7aeb8>"
      ]
     },
     "metadata": {},
     "output_type": "display_data"
    }
   ],
   "source": [
    "#Save and Draw Plots\n",
    "#Age vs. Time to Outcome for Euthanized animals\n",
    "pyplot.savefig('figures/age_vs_time_to_outcome_Dogs.png')\n",
    "\n",
    "pyplot.show()"
   ]
  },
  {
   "cell_type": "code",
   "execution_count": null,
   "metadata": {
    "collapsed": true
   },
   "outputs": [],
   "source": []
  }
 ],
 "metadata": {
  "kernelspec": {
   "display_name": "Python 3",
   "language": "python",
   "name": "python3"
  },
  "language_info": {
   "codemirror_mode": {
    "name": "ipython",
    "version": 3
   },
   "file_extension": ".py",
   "mimetype": "text/x-python",
   "name": "python",
   "nbconvert_exporter": "python",
   "pygments_lexer": "ipython3",
   "version": "3.6.1"
  }
 },
 "nbformat": 4,
 "nbformat_minor": 2
}
