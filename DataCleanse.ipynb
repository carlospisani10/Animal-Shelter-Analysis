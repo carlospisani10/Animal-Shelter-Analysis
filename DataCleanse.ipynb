{
 "cells": [
  {
   "cell_type": "code",
   "execution_count": 1,
   "metadata": {
    "collapsed": true
   },
   "outputs": [],
   "source": [
    "# Clean up raw Animal Shelter intake an outcome data files downloaded from City of Austin on November 29,2017\n"
   ]
  },
  {
   "cell_type": "code",
   "execution_count": 1,
   "metadata": {
    "collapsed": true
   },
   "outputs": [],
   "source": [
    "# Dependencies\n",
    "import pandas as pd\n",
    "import numpy as np\n",
    "import datetime"
   ]
  },
  {
   "cell_type": "code",
   "execution_count": 119,
   "metadata": {
    "collapsed": true
   },
   "outputs": [],
   "source": [
    "# Set filepaths\n",
    "csv_filepath1 = \"raw data/Austin_Animal_Center_Intakes.csv\"\n",
    "csv_filepath2 = \"raw data/Austin_Animal_Center_Outcomes.csv\""
   ]
  },
  {
   "cell_type": "code",
   "execution_count": 120,
   "metadata": {
    "collapsed": true
   },
   "outputs": [],
   "source": [
    "#Define reusable functions for cleanse\n",
    "\n",
    "#Determine purebred status\n",
    "def GetPurebred(x):\n",
    "  if \"Mix\" in x[\"Breed\"] : return 0\n",
    "  elif \"/\" in x[\"Breed\"] : return 0\n",
    "  else: return 1\n",
    "\n",
    "\n",
    "#Convert the Age to a consistent unit (days)\n",
    "def GetAgeDays(x):\n",
    "    if x[\"AgeUnits\"] == \"day\":\n",
    "        numDays = x[\"NumAge\"]\n",
    "    elif x[\"AgeUnits\"] == \"week\":\n",
    "        numDays = x[\"NumAge\"] * 7\n",
    "    elif x[\"AgeUnits\"] == \"month\":\n",
    "        numDays = x[\"NumAge\"] * 30\n",
    "    elif x[\"AgeUnits\"] == \"year\":\n",
    "        numDays = x[\"NumAge\"] * 365\n",
    "    else:\n",
    "        numDays = 0\n",
    "    return numDays\n"
   ]
  },
  {
   "cell_type": "code",
   "execution_count": 121,
   "metadata": {},
   "outputs": [
    {
     "data": {
      "text/html": [
       "<div>\n",
       "<style>\n",
       "    .dataframe thead tr:only-child th {\n",
       "        text-align: right;\n",
       "    }\n",
       "\n",
       "    .dataframe thead th {\n",
       "        text-align: left;\n",
       "    }\n",
       "\n",
       "    .dataframe tbody tr th {\n",
       "        vertical-align: top;\n",
       "    }\n",
       "</style>\n",
       "<table border=\"1\" class=\"dataframe\">\n",
       "  <thead>\n",
       "    <tr style=\"text-align: right;\">\n",
       "      <th></th>\n",
       "      <th>Animal ID</th>\n",
       "      <th>Name</th>\n",
       "      <th>DateTime</th>\n",
       "      <th>MonthYear</th>\n",
       "      <th>Found Location</th>\n",
       "      <th>Intake Type</th>\n",
       "      <th>Intake Condition</th>\n",
       "      <th>Animal Type</th>\n",
       "      <th>Sex upon Intake</th>\n",
       "      <th>Age upon Intake</th>\n",
       "      <th>Breed</th>\n",
       "      <th>Color</th>\n",
       "    </tr>\n",
       "  </thead>\n",
       "  <tbody>\n",
       "    <tr>\n",
       "      <th>0</th>\n",
       "      <td>A748291</td>\n",
       "      <td>*Madison</td>\n",
       "      <td>05/01/2017 02:26:00 PM</td>\n",
       "      <td>05/01/2017 02:26:00 PM</td>\n",
       "      <td>S Pleasant Valley Rd And E Riverside Dr in Aus...</td>\n",
       "      <td>Stray</td>\n",
       "      <td>Normal</td>\n",
       "      <td>Dog</td>\n",
       "      <td>Intact Female</td>\n",
       "      <td>10 months</td>\n",
       "      <td>Pit Bull Mix</td>\n",
       "      <td>Black</td>\n",
       "    </tr>\n",
       "    <tr>\n",
       "      <th>1</th>\n",
       "      <td>A750529</td>\n",
       "      <td>NaN</td>\n",
       "      <td>05/28/2017 01:22:00 PM</td>\n",
       "      <td>05/28/2017 01:22:00 PM</td>\n",
       "      <td>8312 North Ih 35 in Austin (TX)</td>\n",
       "      <td>Stray</td>\n",
       "      <td>Normal</td>\n",
       "      <td>Dog</td>\n",
       "      <td>Intact Female</td>\n",
       "      <td>5 months</td>\n",
       "      <td>Miniature Schnauzer Mix</td>\n",
       "      <td>White/Cream</td>\n",
       "    </tr>\n",
       "    <tr>\n",
       "      <th>2</th>\n",
       "      <td>A730601</td>\n",
       "      <td>NaN</td>\n",
       "      <td>07/07/2016 12:11:00 PM</td>\n",
       "      <td>07/07/2016 12:11:00 PM</td>\n",
       "      <td>1109 Shady Ln in Austin (TX)</td>\n",
       "      <td>Stray</td>\n",
       "      <td>Normal</td>\n",
       "      <td>Cat</td>\n",
       "      <td>Intact Male</td>\n",
       "      <td>7 months</td>\n",
       "      <td>Domestic Shorthair Mix</td>\n",
       "      <td>Blue Tabby</td>\n",
       "    </tr>\n",
       "    <tr>\n",
       "      <th>3</th>\n",
       "      <td>A748238</td>\n",
       "      <td>NaN</td>\n",
       "      <td>05/01/2017 10:53:00 AM</td>\n",
       "      <td>05/01/2017 10:53:00 AM</td>\n",
       "      <td>Airport Blvd And Oak Springs Dr in Austin (TX)</td>\n",
       "      <td>Stray</td>\n",
       "      <td>Normal</td>\n",
       "      <td>Dog</td>\n",
       "      <td>Intact Male</td>\n",
       "      <td>3 years</td>\n",
       "      <td>Bichon Frise Mix</td>\n",
       "      <td>White</td>\n",
       "    </tr>\n",
       "    <tr>\n",
       "      <th>4</th>\n",
       "      <td>A683644</td>\n",
       "      <td>*Zoey</td>\n",
       "      <td>07/13/2014 11:02:00 AM</td>\n",
       "      <td>07/13/2014 11:02:00 AM</td>\n",
       "      <td>Austin (TX)</td>\n",
       "      <td>Owner Surrender</td>\n",
       "      <td>Nursing</td>\n",
       "      <td>Dog</td>\n",
       "      <td>Intact Female</td>\n",
       "      <td>4 weeks</td>\n",
       "      <td>Border Collie Mix</td>\n",
       "      <td>Brown/White</td>\n",
       "    </tr>\n",
       "  </tbody>\n",
       "</table>\n",
       "</div>"
      ],
      "text/plain": [
       "  Animal ID      Name                DateTime               MonthYear  \\\n",
       "0   A748291  *Madison  05/01/2017 02:26:00 PM  05/01/2017 02:26:00 PM   \n",
       "1   A750529       NaN  05/28/2017 01:22:00 PM  05/28/2017 01:22:00 PM   \n",
       "2   A730601       NaN  07/07/2016 12:11:00 PM  07/07/2016 12:11:00 PM   \n",
       "3   A748238       NaN  05/01/2017 10:53:00 AM  05/01/2017 10:53:00 AM   \n",
       "4   A683644     *Zoey  07/13/2014 11:02:00 AM  07/13/2014 11:02:00 AM   \n",
       "\n",
       "                                      Found Location      Intake Type  \\\n",
       "0  S Pleasant Valley Rd And E Riverside Dr in Aus...            Stray   \n",
       "1                    8312 North Ih 35 in Austin (TX)            Stray   \n",
       "2                       1109 Shady Ln in Austin (TX)            Stray   \n",
       "3     Airport Blvd And Oak Springs Dr in Austin (TX)            Stray   \n",
       "4                                        Austin (TX)  Owner Surrender   \n",
       "\n",
       "  Intake Condition Animal Type Sex upon Intake Age upon Intake  \\\n",
       "0           Normal         Dog   Intact Female       10 months   \n",
       "1           Normal         Dog   Intact Female        5 months   \n",
       "2           Normal         Cat     Intact Male        7 months   \n",
       "3           Normal         Dog     Intact Male         3 years   \n",
       "4          Nursing         Dog   Intact Female         4 weeks   \n",
       "\n",
       "                     Breed        Color  \n",
       "0             Pit Bull Mix        Black  \n",
       "1  Miniature Schnauzer Mix  White/Cream  \n",
       "2   Domestic Shorthair Mix   Blue Tabby  \n",
       "3         Bichon Frise Mix        White  \n",
       "4        Border Collie Mix  Brown/White  "
      ]
     },
     "execution_count": 121,
     "metadata": {},
     "output_type": "execute_result"
    }
   ],
   "source": [
    "#  ****    Cleanse the Intake file  ****\n",
    "# Read the csv files into new dataframe\n",
    "intakes_df = pd.read_csv(csv_filepath1, encoding=\"iso-8859-1\", low_memory=False)\n",
    "intakes_df.head()"
   ]
  },
  {
   "cell_type": "code",
   "execution_count": 122,
   "metadata": {
    "collapsed": true
   },
   "outputs": [],
   "source": [
    "# Drop redundant columns\n",
    "intakes_df.drop(['MonthYear'], axis = 1, inplace = True)\n",
    "    #intakes_df.head()"
   ]
  },
  {
   "cell_type": "code",
   "execution_count": 123,
   "metadata": {},
   "outputs": [
    {
     "data": {
      "text/plain": [
       "array(['Intact Female', 'Intact Male', 'Spayed Female', 'Unknown',\n",
       "       'Neutered Male', nan], dtype=object)"
      ]
     },
     "execution_count": 123,
     "metadata": {},
     "output_type": "execute_result"
    }
   ],
   "source": [
    "# Identify unique values in the Sex upon Intake column\n",
    "intakes_df[\"Sex upon Intake\"].unique()"
   ]
  },
  {
   "cell_type": "code",
   "execution_count": 124,
   "metadata": {},
   "outputs": [],
   "source": [
    "# Split Sex upon Intake to an IntakeSex and IntakeSpayNeuter columns\n",
    "intakes_df[\"Sex\"] = intakes_df[\"Sex upon Intake\"].map({\"Intact Female\":\"Female\", \"Intact Male\":\"Male\", \"Spayed Female\":\"Female\", \"Neutered Male\":\"Male\",\"Unknown\":\"Unknown Sex\"})\n",
    "intakes_df[\"Female\"] = intakes_df[\"Sex upon Intake\"].map({\"Intact Female\":1, \"Intact Male\":0, \"Spayed Female\":1, \"Neutered Male\":0,\"Unknown\":0})\n",
    "intakes_df[\"Male\"] = intakes_df[\"Sex upon Intake\"].map({\"Intact Female\":0, \"Intact Male\":1, \"Spayed Female\":0, \"Neutered Male\":1,\"Unknown\":0})\n",
    "intakes_df[\"SpayNeuter\"] = intakes_df[\"Sex upon Intake\"].map({\"Intact Female\":\"No\", \"Intact Male\":\"No\", \"Spayed Female\":\"Yes\", \"Neutered Male\":\"Yes\",\"Unknown\":\"No\"})\n",
    "    #intakes_df.head()"
   ]
  },
  {
   "cell_type": "code",
   "execution_count": 125,
   "metadata": {},
   "outputs": [],
   "source": [
    "# Set Purebred Status\n",
    "intakes_df['Purebred'] = intakes_df.apply(GetPurebred, axis=1)\n",
    "    #intakes_df.head()"
   ]
  },
  {
   "cell_type": "code",
   "execution_count": 126,
   "metadata": {},
   "outputs": [],
   "source": [
    "#Split Age Upon Intake\n",
    "intakes_df['NumAge'], intakes_df['AgeUnits'] = intakes_df['Age upon Intake'].str.split(' ', 1).str\n",
    "    #intakes_df.head()"
   ]
  },
  {
   "cell_type": "code",
   "execution_count": 127,
   "metadata": {},
   "outputs": [],
   "source": [
    "#Make NumAge a numeric colunm for later calclations\n",
    "intakes_df[\"NumAge\"] = pd.to_numeric(intakes_df[\"NumAge\"])\n",
    "    #intakes_df.head()"
   ]
  },
  {
   "cell_type": "code",
   "execution_count": 128,
   "metadata": {},
   "outputs": [
    {
     "data": {
      "text/plain": [
       "array(['months', 'years', 'weeks', 'month', 'year', 'week', 'days', 'day',\n",
       "       nan], dtype=object)"
      ]
     },
     "execution_count": 128,
     "metadata": {},
     "output_type": "execute_result"
    }
   ],
   "source": [
    "# Identify unique values in the intake age units\n",
    "intakes_df[\"AgeUnits\"].unique()"
   ]
  },
  {
   "cell_type": "code",
   "execution_count": 129,
   "metadata": {},
   "outputs": [],
   "source": [
    "#Make the intake age unit values consistent\n",
    "intakes_df[\"AgeUnits\"].replace([\"days\",\"weeks\",\"months\",\"years\"],[\"day\",\"week\",\"month\",\"year\"], inplace=True)\n",
    "    #intakes_df[\"IntakeAgeUnits\"].unique()"
   ]
  },
  {
   "cell_type": "code",
   "execution_count": 130,
   "metadata": {},
   "outputs": [],
   "source": [
    "#Set the Age Days column\n",
    "intakes_df['AgeDays'] = intakes_df.apply(GetAgeDays, axis=1)\n",
    "    #intakes_df.head()"
   ]
  },
  {
   "cell_type": "code",
   "execution_count": 131,
   "metadata": {},
   "outputs": [
    {
     "data": {
      "text/html": [
       "<div>\n",
       "<style>\n",
       "    .dataframe thead tr:only-child th {\n",
       "        text-align: right;\n",
       "    }\n",
       "\n",
       "    .dataframe thead th {\n",
       "        text-align: left;\n",
       "    }\n",
       "\n",
       "    .dataframe tbody tr th {\n",
       "        vertical-align: top;\n",
       "    }\n",
       "</style>\n",
       "<table border=\"1\" class=\"dataframe\">\n",
       "  <thead>\n",
       "    <tr style=\"text-align: right;\">\n",
       "      <th></th>\n",
       "      <th>Female</th>\n",
       "      <th>Male</th>\n",
       "      <th>Purebred</th>\n",
       "      <th>NumAge</th>\n",
       "      <th>AgeDays</th>\n",
       "    </tr>\n",
       "  </thead>\n",
       "  <tbody>\n",
       "    <tr>\n",
       "      <th>count</th>\n",
       "      <td>75576.000000</td>\n",
       "      <td>75576.000000</td>\n",
       "      <td>75577.000000</td>\n",
       "      <td>75576.000000</td>\n",
       "      <td>75577.000000</td>\n",
       "    </tr>\n",
       "    <tr>\n",
       "      <th>mean</th>\n",
       "      <td>0.437388</td>\n",
       "      <td>0.476540</td>\n",
       "      <td>0.067322</td>\n",
       "      <td>3.445300</td>\n",
       "      <td>761.731559</td>\n",
       "    </tr>\n",
       "    <tr>\n",
       "      <th>std</th>\n",
       "      <td>0.496067</td>\n",
       "      <td>0.499453</td>\n",
       "      <td>0.250581</td>\n",
       "      <td>2.908907</td>\n",
       "      <td>1052.134727</td>\n",
       "    </tr>\n",
       "    <tr>\n",
       "      <th>min</th>\n",
       "      <td>0.000000</td>\n",
       "      <td>0.000000</td>\n",
       "      <td>0.000000</td>\n",
       "      <td>0.000000</td>\n",
       "      <td>0.000000</td>\n",
       "    </tr>\n",
       "    <tr>\n",
       "      <th>25%</th>\n",
       "      <td>0.000000</td>\n",
       "      <td>0.000000</td>\n",
       "      <td>0.000000</td>\n",
       "      <td>1.000000</td>\n",
       "      <td>60.000000</td>\n",
       "    </tr>\n",
       "    <tr>\n",
       "      <th>50%</th>\n",
       "      <td>0.000000</td>\n",
       "      <td>0.000000</td>\n",
       "      <td>0.000000</td>\n",
       "      <td>2.000000</td>\n",
       "      <td>365.000000</td>\n",
       "    </tr>\n",
       "    <tr>\n",
       "      <th>75%</th>\n",
       "      <td>1.000000</td>\n",
       "      <td>1.000000</td>\n",
       "      <td>0.000000</td>\n",
       "      <td>5.000000</td>\n",
       "      <td>1095.000000</td>\n",
       "    </tr>\n",
       "    <tr>\n",
       "      <th>max</th>\n",
       "      <td>1.000000</td>\n",
       "      <td>1.000000</td>\n",
       "      <td>1.000000</td>\n",
       "      <td>25.000000</td>\n",
       "      <td>9125.000000</td>\n",
       "    </tr>\n",
       "  </tbody>\n",
       "</table>\n",
       "</div>"
      ],
      "text/plain": [
       "             Female          Male      Purebred        NumAge       AgeDays\n",
       "count  75576.000000  75576.000000  75577.000000  75576.000000  75577.000000\n",
       "mean       0.437388      0.476540      0.067322      3.445300    761.731559\n",
       "std        0.496067      0.499453      0.250581      2.908907   1052.134727\n",
       "min        0.000000      0.000000      0.000000      0.000000      0.000000\n",
       "25%        0.000000      0.000000      0.000000      1.000000     60.000000\n",
       "50%        0.000000      0.000000      0.000000      2.000000    365.000000\n",
       "75%        1.000000      1.000000      0.000000      5.000000   1095.000000\n",
       "max        1.000000      1.000000      1.000000     25.000000   9125.000000"
      ]
     },
     "execution_count": 131,
     "metadata": {},
     "output_type": "execute_result"
    }
   ],
   "source": [
    "# Get metrics on the raw intake file\n",
    "intakes_df.describe()"
   ]
  },
  {
   "cell_type": "code",
   "execution_count": 187,
   "metadata": {},
   "outputs": [
    {
     "name": "stdout",
     "output_type": "stream",
     "text": [
      "Number of records in Intakes file: 75577\n",
      "Duplicate Intake Animal IDs: 7031\n",
      "Intakes by Animal Type: Animal Type\n",
      "Bird           328\n",
      "Cat          28489\n",
      "Dog          42590\n",
      "Livestock        8\n",
      "Other         4162\n",
      "dtype: int64\n"
     ]
    }
   ],
   "source": [
    "#Metrics cont'd\n",
    "intake_recs = len(intakes_df)\n",
    "intake_dups = intakes_df.duplicated(\"Animal ID\").sum()\n",
    "intake_types = intakes_df.groupby([\"Animal Type\"]).size()\n",
    "\n",
    "print(f\"Number of records in Intakes file: {intake_recs}\")\n",
    "print(f\"Duplicate Intake Animal IDs: {intake_dups}\")\n",
    "print(f\"Intakes by Animal Type: {intake_types}\")"
   ]
  },
  {
   "cell_type": "code",
   "execution_count": 138,
   "metadata": {
    "scrolled": true
   },
   "outputs": [
    {
     "data": {
      "text/html": [
       "<div>\n",
       "<style>\n",
       "    .dataframe thead tr:only-child th {\n",
       "        text-align: right;\n",
       "    }\n",
       "\n",
       "    .dataframe thead th {\n",
       "        text-align: left;\n",
       "    }\n",
       "\n",
       "    .dataframe tbody tr th {\n",
       "        vertical-align: top;\n",
       "    }\n",
       "</style>\n",
       "<table border=\"1\" class=\"dataframe\">\n",
       "  <thead>\n",
       "    <tr style=\"text-align: right;\">\n",
       "      <th></th>\n",
       "      <th>Animal ID</th>\n",
       "      <th>Name</th>\n",
       "      <th>DateTime</th>\n",
       "      <th>MonthYear</th>\n",
       "      <th>Date of Birth</th>\n",
       "      <th>Outcome Type</th>\n",
       "      <th>Outcome Subtype</th>\n",
       "      <th>Animal Type</th>\n",
       "      <th>Sex upon Outcome</th>\n",
       "      <th>Age upon Outcome</th>\n",
       "      <th>Breed</th>\n",
       "      <th>Color</th>\n",
       "    </tr>\n",
       "  </thead>\n",
       "  <tbody>\n",
       "    <tr>\n",
       "      <th>0</th>\n",
       "      <td>A741715</td>\n",
       "      <td>*Pebbles</td>\n",
       "      <td>01/11/2017 06:17:00 PM</td>\n",
       "      <td>01/11/2017 06:17:00 PM</td>\n",
       "      <td>03/07/2016</td>\n",
       "      <td>Adoption</td>\n",
       "      <td>NaN</td>\n",
       "      <td>Cat</td>\n",
       "      <td>Spayed Female</td>\n",
       "      <td>10 months</td>\n",
       "      <td>Domestic Shorthair Mix</td>\n",
       "      <td>Calico</td>\n",
       "    </tr>\n",
       "    <tr>\n",
       "      <th>1</th>\n",
       "      <td>A658751</td>\n",
       "      <td>Benji</td>\n",
       "      <td>11/13/2016 01:38:00 PM</td>\n",
       "      <td>11/13/2016 01:38:00 PM</td>\n",
       "      <td>07/14/2011</td>\n",
       "      <td>Return to Owner</td>\n",
       "      <td>NaN</td>\n",
       "      <td>Dog</td>\n",
       "      <td>Neutered Male</td>\n",
       "      <td>5 years</td>\n",
       "      <td>Border Terrier Mix</td>\n",
       "      <td>Tan</td>\n",
       "    </tr>\n",
       "    <tr>\n",
       "      <th>2</th>\n",
       "      <td>A721285</td>\n",
       "      <td>NaN</td>\n",
       "      <td>02/24/2016 02:42:00 PM</td>\n",
       "      <td>02/24/2016 02:42:00 PM</td>\n",
       "      <td>02/24/2014</td>\n",
       "      <td>Euthanasia</td>\n",
       "      <td>Suffering</td>\n",
       "      <td>Other</td>\n",
       "      <td>Unknown</td>\n",
       "      <td>2 years</td>\n",
       "      <td>Raccoon Mix</td>\n",
       "      <td>Black/Gray</td>\n",
       "    </tr>\n",
       "    <tr>\n",
       "      <th>3</th>\n",
       "      <td>A746650</td>\n",
       "      <td>Rose</td>\n",
       "      <td>04/07/2017 11:58:00 AM</td>\n",
       "      <td>04/07/2017 11:58:00 AM</td>\n",
       "      <td>04/06/2016</td>\n",
       "      <td>Return to Owner</td>\n",
       "      <td>NaN</td>\n",
       "      <td>Dog</td>\n",
       "      <td>Intact Female</td>\n",
       "      <td>1 year</td>\n",
       "      <td>Labrador Retriever/Jack Russell Terrier</td>\n",
       "      <td>Yellow</td>\n",
       "    </tr>\n",
       "    <tr>\n",
       "      <th>4</th>\n",
       "      <td>A750122</td>\n",
       "      <td>Happy Camper</td>\n",
       "      <td>05/24/2017 06:36:00 PM</td>\n",
       "      <td>05/24/2017 06:36:00 PM</td>\n",
       "      <td>04/08/2017</td>\n",
       "      <td>Transfer</td>\n",
       "      <td>Partner</td>\n",
       "      <td>Dog</td>\n",
       "      <td>Intact Male</td>\n",
       "      <td>1 month</td>\n",
       "      <td>Labrador Retriever Mix</td>\n",
       "      <td>Black</td>\n",
       "    </tr>\n",
       "  </tbody>\n",
       "</table>\n",
       "</div>"
      ],
      "text/plain": [
       "  Animal ID          Name                DateTime               MonthYear  \\\n",
       "0   A741715      *Pebbles  01/11/2017 06:17:00 PM  01/11/2017 06:17:00 PM   \n",
       "1   A658751         Benji  11/13/2016 01:38:00 PM  11/13/2016 01:38:00 PM   \n",
       "2   A721285           NaN  02/24/2016 02:42:00 PM  02/24/2016 02:42:00 PM   \n",
       "3   A746650          Rose  04/07/2017 11:58:00 AM  04/07/2017 11:58:00 AM   \n",
       "4   A750122  Happy Camper  05/24/2017 06:36:00 PM  05/24/2017 06:36:00 PM   \n",
       "\n",
       "  Date of Birth     Outcome Type Outcome Subtype Animal Type Sex upon Outcome  \\\n",
       "0    03/07/2016         Adoption             NaN         Cat    Spayed Female   \n",
       "1    07/14/2011  Return to Owner             NaN         Dog    Neutered Male   \n",
       "2    02/24/2014       Euthanasia       Suffering       Other          Unknown   \n",
       "3    04/06/2016  Return to Owner             NaN         Dog    Intact Female   \n",
       "4    04/08/2017         Transfer         Partner         Dog      Intact Male   \n",
       "\n",
       "  Age upon Outcome                                    Breed       Color  \n",
       "0        10 months                   Domestic Shorthair Mix      Calico  \n",
       "1          5 years                       Border Terrier Mix         Tan  \n",
       "2          2 years                              Raccoon Mix  Black/Gray  \n",
       "3           1 year  Labrador Retriever/Jack Russell Terrier      Yellow  \n",
       "4          1 month                   Labrador Retriever Mix       Black  "
      ]
     },
     "execution_count": 138,
     "metadata": {},
     "output_type": "execute_result"
    }
   ],
   "source": [
    "#  *** Cleanse the Outcomes file  ***\n",
    "# Read the csv files into new dataframes\n",
    "outcomes_df = pd.read_csv(csv_filepath2, encoding=\"iso-8859-1\", low_memory=False)\n",
    "outcomes_df.head()"
   ]
  },
  {
   "cell_type": "code",
   "execution_count": 139,
   "metadata": {},
   "outputs": [],
   "source": [
    "# Drop redundant columns\n",
    "outcomes_df.drop(['MonthYear'], axis = 1, inplace = True)\n",
    "    #outcomes_df.head()"
   ]
  },
  {
   "cell_type": "code",
   "execution_count": 140,
   "metadata": {},
   "outputs": [
    {
     "data": {
      "text/plain": [
       "array(['Spayed Female', 'Neutered Male', 'Unknown', 'Intact Female',\n",
       "       'Intact Male', nan], dtype=object)"
      ]
     },
     "execution_count": 140,
     "metadata": {},
     "output_type": "execute_result"
    }
   ],
   "source": [
    "# Identify unique values in the Sex upon Outcome column\n",
    "outcomes_df[\"Sex upon Outcome\"].unique()"
   ]
  },
  {
   "cell_type": "code",
   "execution_count": 141,
   "metadata": {},
   "outputs": [],
   "source": [
    "# Split Sex upon Outcome to an OutcomeSex and OutcomeSpayNeuter columns\n",
    "outcomes_df[\"Sex\"] = outcomes_df[\"Sex upon Outcome\"].map({\"Intact Female\":\"Female\", \"Intact Male\":\"Male\", \"Spayed Female\":\"Female\", \"Neutered Male\":\"Male\",\"Unknown\":\"Unknown Sex\"})\n",
    "outcomes_df[\"Female\"] = outcomes_df[\"Sex upon Outcome\"].map({\"Intact Female\":1, \"Intact Male\":0, \"Spayed Female\":1, \"Neutered Male\":0,\"Unknown\":0})\n",
    "outcomes_df[\"Male\"] = outcomes_df[\"Sex upon Outcome\"].map({\"Intact Female\":0, \"Intact Male\":1, \"Spayed Female\":0, \"Neutered Male\":1,\"Unknown\":0})\n",
    "outcomes_df[\"SpayNeuter\"] = outcomes_df[\"Sex upon Outcome\"].map({\"Intact Female\":\"No\", \"Intact Male\":\"No\", \"Spayed Female\":\"Yes\", \"Neutered Male\":\"Yes\",\"Unknown\":\"No\"})\n",
    "    #outcomes_df.head()"
   ]
  },
  {
   "cell_type": "code",
   "execution_count": 142,
   "metadata": {
    "collapsed": true
   },
   "outputs": [],
   "source": [
    "# Get purebred \n",
    "outcomes_df['Purebred'] = outcomes_df.apply(GetPurebred, axis=1)"
   ]
  },
  {
   "cell_type": "code",
   "execution_count": 145,
   "metadata": {},
   "outputs": [],
   "source": [
    "# Split out age\n",
    "outcomes_df['NumAge'], outcomes_df['AgeUnits'] = outcomes_df['Age upon Outcome'].str.split(' ', 1).str\n",
    "\n",
    "#Make NumAge a numeric colunm for later calclations\n",
    "outcomes_df[\"NumAge\"] = pd.to_numeric(outcomes_df[\"NumAge\"])\n",
    "\n",
    "#Make the intake age unit values consistent\n",
    "outcomes_df[\"AgeUnits\"].replace([\"days\",\"weeks\",\"months\",\"years\"],[\"day\",\"week\",\"month\",\"year\"], inplace=True)\n",
    "\n",
    "#Set the Age Days column\n",
    "outcomes_df['AgeDays'] = outcomes_df.apply(GetAgeDays, axis=1)"
   ]
  },
  {
   "cell_type": "code",
   "execution_count": 178,
   "metadata": {},
   "outputs": [
    {
     "data": {
      "text/html": [
       "<div>\n",
       "<style>\n",
       "    .dataframe thead tr:only-child th {\n",
       "        text-align: right;\n",
       "    }\n",
       "\n",
       "    .dataframe thead th {\n",
       "        text-align: left;\n",
       "    }\n",
       "\n",
       "    .dataframe tbody tr th {\n",
       "        vertical-align: top;\n",
       "    }\n",
       "</style>\n",
       "<table border=\"1\" class=\"dataframe\">\n",
       "  <thead>\n",
       "    <tr style=\"text-align: right;\">\n",
       "      <th></th>\n",
       "      <th>Female</th>\n",
       "      <th>Male</th>\n",
       "      <th>Purebred</th>\n",
       "      <th>NumAge</th>\n",
       "      <th>AgeDays</th>\n",
       "    </tr>\n",
       "  </thead>\n",
       "  <tbody>\n",
       "    <tr>\n",
       "      <th>count</th>\n",
       "      <td>75506.000000</td>\n",
       "      <td>75506.000000</td>\n",
       "      <td>75508.000000</td>\n",
       "      <td>75502.000000</td>\n",
       "      <td>75508.000000</td>\n",
       "    </tr>\n",
       "    <tr>\n",
       "      <th>mean</th>\n",
       "      <td>0.437767</td>\n",
       "      <td>0.476492</td>\n",
       "      <td>0.067198</td>\n",
       "      <td>3.528211</td>\n",
       "      <td>772.159175</td>\n",
       "    </tr>\n",
       "    <tr>\n",
       "      <th>std</th>\n",
       "      <td>0.496115</td>\n",
       "      <td>0.499450</td>\n",
       "      <td>0.250367</td>\n",
       "      <td>2.901128</td>\n",
       "      <td>1052.357298</td>\n",
       "    </tr>\n",
       "    <tr>\n",
       "      <th>min</th>\n",
       "      <td>0.000000</td>\n",
       "      <td>0.000000</td>\n",
       "      <td>0.000000</td>\n",
       "      <td>0.000000</td>\n",
       "      <td>0.000000</td>\n",
       "    </tr>\n",
       "    <tr>\n",
       "      <th>25%</th>\n",
       "      <td>0.000000</td>\n",
       "      <td>0.000000</td>\n",
       "      <td>0.000000</td>\n",
       "      <td>2.000000</td>\n",
       "      <td>90.000000</td>\n",
       "    </tr>\n",
       "    <tr>\n",
       "      <th>50%</th>\n",
       "      <td>0.000000</td>\n",
       "      <td>0.000000</td>\n",
       "      <td>0.000000</td>\n",
       "      <td>2.000000</td>\n",
       "      <td>365.000000</td>\n",
       "    </tr>\n",
       "    <tr>\n",
       "      <th>75%</th>\n",
       "      <td>1.000000</td>\n",
       "      <td>1.000000</td>\n",
       "      <td>0.000000</td>\n",
       "      <td>5.000000</td>\n",
       "      <td>1095.000000</td>\n",
       "    </tr>\n",
       "    <tr>\n",
       "      <th>max</th>\n",
       "      <td>1.000000</td>\n",
       "      <td>1.000000</td>\n",
       "      <td>1.000000</td>\n",
       "      <td>25.000000</td>\n",
       "      <td>9125.000000</td>\n",
       "    </tr>\n",
       "  </tbody>\n",
       "</table>\n",
       "</div>"
      ],
      "text/plain": [
       "             Female          Male      Purebred        NumAge       AgeDays\n",
       "count  75506.000000  75506.000000  75508.000000  75502.000000  75508.000000\n",
       "mean       0.437767      0.476492      0.067198      3.528211    772.159175\n",
       "std        0.496115      0.499450      0.250367      2.901128   1052.357298\n",
       "min        0.000000      0.000000      0.000000      0.000000      0.000000\n",
       "25%        0.000000      0.000000      0.000000      2.000000     90.000000\n",
       "50%        0.000000      0.000000      0.000000      2.000000    365.000000\n",
       "75%        1.000000      1.000000      0.000000      5.000000   1095.000000\n",
       "max        1.000000      1.000000      1.000000     25.000000   9125.000000"
      ]
     },
     "execution_count": 178,
     "metadata": {},
     "output_type": "execute_result"
    }
   ],
   "source": [
    "# Get metrics on the raw outcomes file\n",
    "outcomes_df.describe()"
   ]
  },
  {
   "cell_type": "code",
   "execution_count": 190,
   "metadata": {},
   "outputs": [
    {
     "name": "stdout",
     "output_type": "stream",
     "text": [
      "Number of records in Outcomes file: 75508\n",
      "Duplicate Outcome Animal IDs: 6975\n",
      "Outcomes by Animal Type: Animal Type\n",
      "Bird           327\n",
      "Cat          28519\n",
      "Dog          42498\n",
      "Livestock        9\n",
      "Other         4155\n",
      "dtype: int64\n"
     ]
    }
   ],
   "source": [
    "#Metrics cont'd\n",
    "outcome_recs = len(outcomes_df)\n",
    "outcome_dups = outcomes_df.duplicated(\"Animal ID\").sum()\n",
    "outcome_types = outcomes_df.groupby([\"Animal Type\"]).size()\n",
    "\n",
    "print(f\"Number of records in Outcomes file: {outcome_recs}\")\n",
    "print(f\"Duplicate Outcome Animal IDs: {outcome_dups}\")\n",
    "print(f\"Outcomes by Animal Type: {outcome_types}\")"
   ]
  },
  {
   "cell_type": "code",
   "execution_count": 157,
   "metadata": {},
   "outputs": [
    {
     "data": {
      "text/html": [
       "<div>\n",
       "<style>\n",
       "    .dataframe thead tr:only-child th {\n",
       "        text-align: right;\n",
       "    }\n",
       "\n",
       "    .dataframe thead th {\n",
       "        text-align: left;\n",
       "    }\n",
       "\n",
       "    .dataframe tbody tr th {\n",
       "        vertical-align: top;\n",
       "    }\n",
       "</style>\n",
       "<table border=\"1\" class=\"dataframe\">\n",
       "  <thead>\n",
       "    <tr style=\"text-align: right;\">\n",
       "      <th></th>\n",
       "      <th>Animal ID</th>\n",
       "      <th>Name_intake</th>\n",
       "      <th>DateTime_intake</th>\n",
       "      <th>Found Location</th>\n",
       "      <th>Intake Type</th>\n",
       "      <th>Intake Condition</th>\n",
       "      <th>Animal Type_intake</th>\n",
       "      <th>Sex upon Intake</th>\n",
       "      <th>Age upon Intake</th>\n",
       "      <th>Breed_intake</th>\n",
       "      <th>...</th>\n",
       "      <th>Breed_outcome</th>\n",
       "      <th>Color_outcome</th>\n",
       "      <th>Sex_outcome</th>\n",
       "      <th>Female_outcome</th>\n",
       "      <th>Male_outcome</th>\n",
       "      <th>SpayNeuter_outcome</th>\n",
       "      <th>Purebred_outcome</th>\n",
       "      <th>NumAge_outcome</th>\n",
       "      <th>AgeUnits_outcome</th>\n",
       "      <th>AgeDays_outcome</th>\n",
       "    </tr>\n",
       "  </thead>\n",
       "  <tbody>\n",
       "    <tr>\n",
       "      <th>0</th>\n",
       "      <td>A748291</td>\n",
       "      <td>*Madison</td>\n",
       "      <td>05/01/2017 02:26:00 PM</td>\n",
       "      <td>S Pleasant Valley Rd And E Riverside Dr in Aus...</td>\n",
       "      <td>Stray</td>\n",
       "      <td>Normal</td>\n",
       "      <td>Dog</td>\n",
       "      <td>Intact Female</td>\n",
       "      <td>10 months</td>\n",
       "      <td>Pit Bull Mix</td>\n",
       "      <td>...</td>\n",
       "      <td>Pit Bull Mix</td>\n",
       "      <td>Black</td>\n",
       "      <td>Female</td>\n",
       "      <td>1.0</td>\n",
       "      <td>0.0</td>\n",
       "      <td>Yes</td>\n",
       "      <td>0</td>\n",
       "      <td>1.0</td>\n",
       "      <td>year</td>\n",
       "      <td>365.0</td>\n",
       "    </tr>\n",
       "    <tr>\n",
       "      <th>1</th>\n",
       "      <td>A750529</td>\n",
       "      <td>NaN</td>\n",
       "      <td>05/28/2017 01:22:00 PM</td>\n",
       "      <td>8312 North Ih 35 in Austin (TX)</td>\n",
       "      <td>Stray</td>\n",
       "      <td>Normal</td>\n",
       "      <td>Dog</td>\n",
       "      <td>Intact Female</td>\n",
       "      <td>5 months</td>\n",
       "      <td>Miniature Schnauzer Mix</td>\n",
       "      <td>...</td>\n",
       "      <td>Miniature Schnauzer Mix</td>\n",
       "      <td>White/Cream</td>\n",
       "      <td>Female</td>\n",
       "      <td>1.0</td>\n",
       "      <td>0.0</td>\n",
       "      <td>Yes</td>\n",
       "      <td>0</td>\n",
       "      <td>5.0</td>\n",
       "      <td>month</td>\n",
       "      <td>150.0</td>\n",
       "    </tr>\n",
       "    <tr>\n",
       "      <th>2</th>\n",
       "      <td>A730601</td>\n",
       "      <td>NaN</td>\n",
       "      <td>07/07/2016 12:11:00 PM</td>\n",
       "      <td>1109 Shady Ln in Austin (TX)</td>\n",
       "      <td>Stray</td>\n",
       "      <td>Normal</td>\n",
       "      <td>Cat</td>\n",
       "      <td>Intact Male</td>\n",
       "      <td>7 months</td>\n",
       "      <td>Domestic Shorthair Mix</td>\n",
       "      <td>...</td>\n",
       "      <td>Domestic Shorthair Mix</td>\n",
       "      <td>Blue Tabby</td>\n",
       "      <td>Male</td>\n",
       "      <td>0.0</td>\n",
       "      <td>1.0</td>\n",
       "      <td>Yes</td>\n",
       "      <td>0</td>\n",
       "      <td>7.0</td>\n",
       "      <td>month</td>\n",
       "      <td>210.0</td>\n",
       "    </tr>\n",
       "    <tr>\n",
       "      <th>3</th>\n",
       "      <td>A748238</td>\n",
       "      <td>NaN</td>\n",
       "      <td>05/01/2017 10:53:00 AM</td>\n",
       "      <td>Airport Blvd And Oak Springs Dr in Austin (TX)</td>\n",
       "      <td>Stray</td>\n",
       "      <td>Normal</td>\n",
       "      <td>Dog</td>\n",
       "      <td>Intact Male</td>\n",
       "      <td>3 years</td>\n",
       "      <td>Bichon Frise Mix</td>\n",
       "      <td>...</td>\n",
       "      <td>Bichon Frise Mix</td>\n",
       "      <td>White</td>\n",
       "      <td>Male</td>\n",
       "      <td>0.0</td>\n",
       "      <td>1.0</td>\n",
       "      <td>Yes</td>\n",
       "      <td>0</td>\n",
       "      <td>3.0</td>\n",
       "      <td>year</td>\n",
       "      <td>1095.0</td>\n",
       "    </tr>\n",
       "    <tr>\n",
       "      <th>4</th>\n",
       "      <td>A683644</td>\n",
       "      <td>*Zoey</td>\n",
       "      <td>07/13/2014 11:02:00 AM</td>\n",
       "      <td>Austin (TX)</td>\n",
       "      <td>Owner Surrender</td>\n",
       "      <td>Nursing</td>\n",
       "      <td>Dog</td>\n",
       "      <td>Intact Female</td>\n",
       "      <td>4 weeks</td>\n",
       "      <td>Border Collie Mix</td>\n",
       "      <td>...</td>\n",
       "      <td>Border Collie Mix</td>\n",
       "      <td>Brown/White</td>\n",
       "      <td>Female</td>\n",
       "      <td>1.0</td>\n",
       "      <td>0.0</td>\n",
       "      <td>Yes</td>\n",
       "      <td>0</td>\n",
       "      <td>4.0</td>\n",
       "      <td>month</td>\n",
       "      <td>120.0</td>\n",
       "    </tr>\n",
       "  </tbody>\n",
       "</table>\n",
       "<p>5 rows × 37 columns</p>\n",
       "</div>"
      ],
      "text/plain": [
       "  Animal ID Name_intake         DateTime_intake  \\\n",
       "0   A748291    *Madison  05/01/2017 02:26:00 PM   \n",
       "1   A750529         NaN  05/28/2017 01:22:00 PM   \n",
       "2   A730601         NaN  07/07/2016 12:11:00 PM   \n",
       "3   A748238         NaN  05/01/2017 10:53:00 AM   \n",
       "4   A683644       *Zoey  07/13/2014 11:02:00 AM   \n",
       "\n",
       "                                      Found Location      Intake Type  \\\n",
       "0  S Pleasant Valley Rd And E Riverside Dr in Aus...            Stray   \n",
       "1                    8312 North Ih 35 in Austin (TX)            Stray   \n",
       "2                       1109 Shady Ln in Austin (TX)            Stray   \n",
       "3     Airport Blvd And Oak Springs Dr in Austin (TX)            Stray   \n",
       "4                                        Austin (TX)  Owner Surrender   \n",
       "\n",
       "  Intake Condition Animal Type_intake Sex upon Intake Age upon Intake  \\\n",
       "0           Normal                Dog   Intact Female       10 months   \n",
       "1           Normal                Dog   Intact Female        5 months   \n",
       "2           Normal                Cat     Intact Male        7 months   \n",
       "3           Normal                Dog     Intact Male         3 years   \n",
       "4          Nursing                Dog   Intact Female         4 weeks   \n",
       "\n",
       "              Breed_intake       ...                  Breed_outcome  \\\n",
       "0             Pit Bull Mix       ...                   Pit Bull Mix   \n",
       "1  Miniature Schnauzer Mix       ...        Miniature Schnauzer Mix   \n",
       "2   Domestic Shorthair Mix       ...         Domestic Shorthair Mix   \n",
       "3         Bichon Frise Mix       ...               Bichon Frise Mix   \n",
       "4        Border Collie Mix       ...              Border Collie Mix   \n",
       "\n",
       "  Color_outcome  Sex_outcome  Female_outcome Male_outcome  SpayNeuter_outcome  \\\n",
       "0         Black       Female             1.0          0.0                 Yes   \n",
       "1   White/Cream       Female             1.0          0.0                 Yes   \n",
       "2    Blue Tabby         Male             0.0          1.0                 Yes   \n",
       "3         White         Male             0.0          1.0                 Yes   \n",
       "4   Brown/White       Female             1.0          0.0                 Yes   \n",
       "\n",
       "   Purebred_outcome NumAge_outcome  AgeUnits_outcome AgeDays_outcome  \n",
       "0                 0            1.0              year           365.0  \n",
       "1                 0            5.0             month           150.0  \n",
       "2                 0            7.0             month           210.0  \n",
       "3                 0            3.0              year          1095.0  \n",
       "4                 0            4.0             month           120.0  \n",
       "\n",
       "[5 rows x 37 columns]"
      ]
     },
     "execution_count": 157,
     "metadata": {},
     "output_type": "execute_result"
    }
   ],
   "source": [
    "# **** Merge intakes and outcomes files\n",
    "animalData_df = pd.merge(intakes_df, outcomes_df, on=\"Animal ID\", how=\"inner\", suffixes=('_intake', '_outcome'))\n",
    "animalData_df.head()"
   ]
  },
  {
   "cell_type": "code",
   "execution_count": 148,
   "metadata": {},
   "outputs": [
    {
     "name": "stdout",
     "output_type": "stream",
     "text": [
      "Index(['Animal ID', 'Name_intake', 'DateTime_intake', 'Found Location',\n",
      "       'Intake Type', 'Intake Condition', 'Animal Type_intake',\n",
      "       'Sex upon Intake', 'Age upon Intake', 'Breed_intake', 'Color_intake',\n",
      "       'Sex_intake', 'Female_intake', 'Male_intake', 'SpayNeuter_intake',\n",
      "       'Purebred_intake', 'NumAge_intake', 'AgeUnits_intake', 'AgeDays_intake',\n",
      "       'Name_outcome', 'DateTime_outcome', 'Date of Birth', 'Outcome Type',\n",
      "       'Outcome Subtype', 'Animal Type_outcome', 'Sex upon Outcome',\n",
      "       'Age upon Outcome', 'Breed_outcome', 'Color_outcome', 'Sex_outcome',\n",
      "       'Female_outcome', 'Male_outcome', 'SpayNeuter_outcome',\n",
      "       'Purebred_outcome', 'NumAge_outcome', 'AgeUnits_outcome',\n",
      "       'AgeDays_outcome'],\n",
      "      dtype='object')\n"
     ]
    }
   ],
   "source": [
    "print(animalData_df.columns)"
   ]
  },
  {
   "cell_type": "code",
   "execution_count": 171,
   "metadata": {
    "collapsed": true
   },
   "outputs": [],
   "source": [
    "#animalData_df.to_csv(\"MergedData.csv\", encoding=\"utf-8\", index=False)"
   ]
  },
  {
   "cell_type": "code",
   "execution_count": 194,
   "metadata": {},
   "outputs": [
    {
     "data": {
      "text/plain": [
       "62049"
      ]
     },
     "execution_count": 194,
     "metadata": {},
     "output_type": "execute_result"
    }
   ],
   "source": [
    "#Remove rows with duplicate animal IDs\n",
    "animalData_df=animalData_df.drop_duplicates(\"Animal ID\",keep=False)\n",
    "len(animalData_df)"
   ]
  },
  {
   "cell_type": "code",
   "execution_count": 198,
   "metadata": {},
   "outputs": [
    {
     "data": {
      "text/plain": [
       "False"
      ]
     },
     "execution_count": 198,
     "metadata": {},
     "output_type": "execute_result"
    }
   ],
   "source": [
    "#Test to see if any other columns are redundant\n",
    "animalData_df[\"Color_intake\"].equals(animalData_df[\"Color_outcome\"])"
   ]
  },
  {
   "cell_type": "code",
   "execution_count": 201,
   "metadata": {},
   "outputs": [
    {
     "data": {
      "text/plain": [
       "57593"
      ]
     },
     "execution_count": 201,
     "metadata": {},
     "output_type": "execute_result"
    }
   ],
   "source": [
    "#Filter for only Dogs and Cats\n",
    "animalData_df = animalData_df.loc[animalData_df[\"Animal Type_intake\"].isin([\"Dog\",\"Cat\"])]\n",
    "len(animalData_df)"
   ]
  },
  {
   "cell_type": "code",
   "execution_count": 203,
   "metadata": {},
   "outputs": [],
   "source": [
    "animalData_df.to_csv(\"MergedData.csv\", encoding=\"utf-8\", index=False)"
   ]
  },
  {
   "cell_type": "code",
   "execution_count": 204,
   "metadata": {},
   "outputs": [
    {
     "data": {
      "text/html": [
       "<div>\n",
       "<style>\n",
       "    .dataframe thead tr:only-child th {\n",
       "        text-align: right;\n",
       "    }\n",
       "\n",
       "    .dataframe thead th {\n",
       "        text-align: left;\n",
       "    }\n",
       "\n",
       "    .dataframe tbody tr th {\n",
       "        vertical-align: top;\n",
       "    }\n",
       "</style>\n",
       "<table border=\"1\" class=\"dataframe\">\n",
       "  <thead>\n",
       "    <tr style=\"text-align: right;\">\n",
       "      <th></th>\n",
       "      <th>Female</th>\n",
       "      <th>Male</th>\n",
       "      <th>Purebred</th>\n",
       "      <th>NumAge</th>\n",
       "      <th>AgeDays</th>\n",
       "    </tr>\n",
       "  </thead>\n",
       "  <tbody>\n",
       "    <tr>\n",
       "      <th>count</th>\n",
       "      <td>75506.000000</td>\n",
       "      <td>75506.000000</td>\n",
       "      <td>75508.000000</td>\n",
       "      <td>75502.000000</td>\n",
       "      <td>75508.000000</td>\n",
       "    </tr>\n",
       "    <tr>\n",
       "      <th>mean</th>\n",
       "      <td>0.437767</td>\n",
       "      <td>0.476492</td>\n",
       "      <td>0.067198</td>\n",
       "      <td>3.528211</td>\n",
       "      <td>772.159175</td>\n",
       "    </tr>\n",
       "    <tr>\n",
       "      <th>std</th>\n",
       "      <td>0.496115</td>\n",
       "      <td>0.499450</td>\n",
       "      <td>0.250367</td>\n",
       "      <td>2.901128</td>\n",
       "      <td>1052.357298</td>\n",
       "    </tr>\n",
       "    <tr>\n",
       "      <th>min</th>\n",
       "      <td>0.000000</td>\n",
       "      <td>0.000000</td>\n",
       "      <td>0.000000</td>\n",
       "      <td>0.000000</td>\n",
       "      <td>0.000000</td>\n",
       "    </tr>\n",
       "    <tr>\n",
       "      <th>25%</th>\n",
       "      <td>0.000000</td>\n",
       "      <td>0.000000</td>\n",
       "      <td>0.000000</td>\n",
       "      <td>2.000000</td>\n",
       "      <td>90.000000</td>\n",
       "    </tr>\n",
       "    <tr>\n",
       "      <th>50%</th>\n",
       "      <td>0.000000</td>\n",
       "      <td>0.000000</td>\n",
       "      <td>0.000000</td>\n",
       "      <td>2.000000</td>\n",
       "      <td>365.000000</td>\n",
       "    </tr>\n",
       "    <tr>\n",
       "      <th>75%</th>\n",
       "      <td>1.000000</td>\n",
       "      <td>1.000000</td>\n",
       "      <td>0.000000</td>\n",
       "      <td>5.000000</td>\n",
       "      <td>1095.000000</td>\n",
       "    </tr>\n",
       "    <tr>\n",
       "      <th>max</th>\n",
       "      <td>1.000000</td>\n",
       "      <td>1.000000</td>\n",
       "      <td>1.000000</td>\n",
       "      <td>25.000000</td>\n",
       "      <td>9125.000000</td>\n",
       "    </tr>\n",
       "  </tbody>\n",
       "</table>\n",
       "</div>"
      ],
      "text/plain": [
       "             Female          Male      Purebred        NumAge       AgeDays\n",
       "count  75506.000000  75506.000000  75508.000000  75502.000000  75508.000000\n",
       "mean       0.437767      0.476492      0.067198      3.528211    772.159175\n",
       "std        0.496115      0.499450      0.250367      2.901128   1052.357298\n",
       "min        0.000000      0.000000      0.000000      0.000000      0.000000\n",
       "25%        0.000000      0.000000      0.000000      2.000000     90.000000\n",
       "50%        0.000000      0.000000      0.000000      2.000000    365.000000\n",
       "75%        1.000000      1.000000      0.000000      5.000000   1095.000000\n",
       "max        1.000000      1.000000      1.000000     25.000000   9125.000000"
      ]
     },
     "execution_count": 204,
     "metadata": {},
     "output_type": "execute_result"
    }
   ],
   "source": [
    "# Get metrics on the raw outcomes file\n",
    "outcomes_df.describe()"
   ]
  },
  {
   "cell_type": "code",
   "execution_count": 207,
   "metadata": {},
   "outputs": [
    {
     "name": "stdout",
     "output_type": "stream",
     "text": [
      "Number of records in Outcomes file: 57593\n",
      "Number of Animal Type: Animal Type_intake\n",
      "Cat    25896\n",
      "Dog    31697\n",
      "dtype: int64\n",
      "Number of Animals by Type and Sex: Animal Type_intake  Sex_intake \n",
      "Cat                 Female         11909\n",
      "                    Male           11474\n",
      "                    Unknown Sex     2513\n",
      "Dog                 Female         14723\n",
      "                    Male           16763\n",
      "                    Unknown Sex      210\n",
      "dtype: int64\n",
      "Number of Animals by Type and Intake Reason: Animal Type_intake  Intake Type       \n",
      "Cat                 Euthanasia Request       50\n",
      "                    Owner Surrender        4313\n",
      "                    Public Assist           558\n",
      "                    Stray                 20975\n",
      "Dog                 Euthanasia Request      169\n",
      "                    Owner Surrender        4913\n",
      "                    Public Assist          2736\n",
      "                    Stray                 23879\n",
      "dtype: int64\n",
      "Number of Animals by Type and Outcome: Animal Type_intake  Outcome Type   \n",
      "Cat                 Adoption           10508\n",
      "                    Died                 376\n",
      "                    Disposal              12\n",
      "                    Euthanasia          1390\n",
      "                    Missing               26\n",
      "                    Return to Owner     1121\n",
      "                    Rto-Adopt             17\n",
      "                    Transfer           12446\n",
      "Dog                 Adoption           13830\n",
      "                    Died                 128\n",
      "                    Disposal              10\n",
      "                    Euthanasia          1262\n",
      "                    Missing               11\n",
      "                    Return to Owner     8375\n",
      "                    Rto-Adopt             63\n",
      "                    Transfer            8016\n",
      "dtype: int64\n"
     ]
    }
   ],
   "source": [
    "#Metrics cont'd\n",
    "data_recs = len(animalData_df)\n",
    "data_AnimalTypes = animalData_df.groupby([\"Animal Type_intake\"]).size()\n",
    "data_AnimalSex = animalData_df.groupby([\"Animal Type_intake\", \"Sex_intake\"]).size()\n",
    "data_AnimalIntake = animalData_df.groupby([\"Animal Type_intake\", \"Intake Type\"]).size()\n",
    "data_AnimalOutcome = animalData_df.groupby([\"Animal Type_intake\", \"Outcome Type\"]).size()\n",
    "\n",
    "print(f\"Number of records in Outcomes file: {data_recs}\")\n",
    "print(f\"Number of Animal Type: {data_AnimalTypes}\")\n",
    "print(f\"Number of Animals by Type and Sex: {data_AnimalSex}\")\n",
    "print(f\"Number of Animals by Type and Intake Reason: {data_AnimalIntake}\")\n",
    "print(f\"Number of Animals by Type and Outcome: {data_AnimalOutcome}\")"
   ]
  },
  {
   "cell_type": "code",
   "execution_count": null,
   "metadata": {
    "collapsed": true
   },
   "outputs": [],
   "source": []
  }
 ],
 "metadata": {
  "kernelspec": {
   "display_name": "Python 3",
   "language": "python",
   "name": "python3"
  },
  "language_info": {
   "codemirror_mode": {
    "name": "ipython",
    "version": 3
   },
   "file_extension": ".py",
   "mimetype": "text/x-python",
   "name": "python",
   "nbconvert_exporter": "python",
   "pygments_lexer": "ipython3",
   "version": "3.6.1"
  }
 },
 "nbformat": 4,
 "nbformat_minor": 2
}
