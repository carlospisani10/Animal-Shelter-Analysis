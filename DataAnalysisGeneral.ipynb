{
 "cells": [
  {
   "cell_type": "code",
   "execution_count": 1,
   "metadata": {
    "collapsed": true
   },
   "outputs": [],
   "source": [
    "# General Data analysis\n"
   ]
  },
  {
   "cell_type": "code",
   "execution_count": 2,
   "metadata": {
    "collapsed": true
   },
   "outputs": [],
   "source": [
    "# Dependencies\n",
    "import pandas as pd\n",
    "import numpy as np\n",
    "import datetime\n",
    "import matplotlib.pyplot as plt"
   ]
  },
  {
   "cell_type": "code",
   "execution_count": 3,
   "metadata": {
    "collapsed": true
   },
   "outputs": [],
   "source": [
    "# Set filepaths\n",
    "csv_filepath1 = \"raw data/MergedData.csv\""
   ]
  },
  {
   "cell_type": "code",
   "execution_count": 5,
   "metadata": {},
   "outputs": [
    {
     "data": {
      "text/html": [
       "<div>\n",
       "<style>\n",
       "    .dataframe thead tr:only-child th {\n",
       "        text-align: right;\n",
       "    }\n",
       "\n",
       "    .dataframe thead th {\n",
       "        text-align: left;\n",
       "    }\n",
       "\n",
       "    .dataframe tbody tr th {\n",
       "        vertical-align: top;\n",
       "    }\n",
       "</style>\n",
       "<table border=\"1\" class=\"dataframe\">\n",
       "  <thead>\n",
       "    <tr style=\"text-align: right;\">\n",
       "      <th></th>\n",
       "      <th>Animal ID</th>\n",
       "      <th>Name</th>\n",
       "      <th>DateTime</th>\n",
       "      <th>MonthYear</th>\n",
       "      <th>Found Location</th>\n",
       "      <th>Intake Type</th>\n",
       "      <th>Intake Condition</th>\n",
       "      <th>Animal Type</th>\n",
       "      <th>Sex upon Intake</th>\n",
       "      <th>Age upon Intake</th>\n",
       "      <th>Breed</th>\n",
       "      <th>Color</th>\n",
       "    </tr>\n",
       "  </thead>\n",
       "  <tbody>\n",
       "    <tr>\n",
       "      <th>0</th>\n",
       "      <td>A748291</td>\n",
       "      <td>*Madison</td>\n",
       "      <td>05/01/2017 02:26:00 PM</td>\n",
       "      <td>05/01/2017 02:26:00 PM</td>\n",
       "      <td>S Pleasant Valley Rd And E Riverside Dr in Aus...</td>\n",
       "      <td>Stray</td>\n",
       "      <td>Normal</td>\n",
       "      <td>Dog</td>\n",
       "      <td>Intact Female</td>\n",
       "      <td>10 months</td>\n",
       "      <td>Pit Bull Mix</td>\n",
       "      <td>Black</td>\n",
       "    </tr>\n",
       "    <tr>\n",
       "      <th>1</th>\n",
       "      <td>A750529</td>\n",
       "      <td>NaN</td>\n",
       "      <td>05/28/2017 01:22:00 PM</td>\n",
       "      <td>05/28/2017 01:22:00 PM</td>\n",
       "      <td>8312 North Ih 35 in Austin (TX)</td>\n",
       "      <td>Stray</td>\n",
       "      <td>Normal</td>\n",
       "      <td>Dog</td>\n",
       "      <td>Intact Female</td>\n",
       "      <td>5 months</td>\n",
       "      <td>Miniature Schnauzer Mix</td>\n",
       "      <td>White/Cream</td>\n",
       "    </tr>\n",
       "    <tr>\n",
       "      <th>2</th>\n",
       "      <td>A730601</td>\n",
       "      <td>NaN</td>\n",
       "      <td>07/07/2016 12:11:00 PM</td>\n",
       "      <td>07/07/2016 12:11:00 PM</td>\n",
       "      <td>1109 Shady Ln in Austin (TX)</td>\n",
       "      <td>Stray</td>\n",
       "      <td>Normal</td>\n",
       "      <td>Cat</td>\n",
       "      <td>Intact Male</td>\n",
       "      <td>7 months</td>\n",
       "      <td>Domestic Shorthair Mix</td>\n",
       "      <td>Blue Tabby</td>\n",
       "    </tr>\n",
       "    <tr>\n",
       "      <th>3</th>\n",
       "      <td>A748238</td>\n",
       "      <td>NaN</td>\n",
       "      <td>05/01/2017 10:53:00 AM</td>\n",
       "      <td>05/01/2017 10:53:00 AM</td>\n",
       "      <td>Airport Blvd And Oak Springs Dr in Austin (TX)</td>\n",
       "      <td>Stray</td>\n",
       "      <td>Normal</td>\n",
       "      <td>Dog</td>\n",
       "      <td>Intact Male</td>\n",
       "      <td>3 years</td>\n",
       "      <td>Bichon Frise Mix</td>\n",
       "      <td>White</td>\n",
       "    </tr>\n",
       "    <tr>\n",
       "      <th>4</th>\n",
       "      <td>A683644</td>\n",
       "      <td>*Zoey</td>\n",
       "      <td>07/13/2014 11:02:00 AM</td>\n",
       "      <td>07/13/2014 11:02:00 AM</td>\n",
       "      <td>Austin (TX)</td>\n",
       "      <td>Owner Surrender</td>\n",
       "      <td>Nursing</td>\n",
       "      <td>Dog</td>\n",
       "      <td>Intact Female</td>\n",
       "      <td>4 weeks</td>\n",
       "      <td>Border Collie Mix</td>\n",
       "      <td>Brown/White</td>\n",
       "    </tr>\n",
       "  </tbody>\n",
       "</table>\n",
       "</div>"
      ],
      "text/plain": [
       "  Animal ID      Name                DateTime               MonthYear  \\\n",
       "0   A748291  *Madison  05/01/2017 02:26:00 PM  05/01/2017 02:26:00 PM   \n",
       "1   A750529       NaN  05/28/2017 01:22:00 PM  05/28/2017 01:22:00 PM   \n",
       "2   A730601       NaN  07/07/2016 12:11:00 PM  07/07/2016 12:11:00 PM   \n",
       "3   A748238       NaN  05/01/2017 10:53:00 AM  05/01/2017 10:53:00 AM   \n",
       "4   A683644     *Zoey  07/13/2014 11:02:00 AM  07/13/2014 11:02:00 AM   \n",
       "\n",
       "                                      Found Location      Intake Type  \\\n",
       "0  S Pleasant Valley Rd And E Riverside Dr in Aus...            Stray   \n",
       "1                    8312 North Ih 35 in Austin (TX)            Stray   \n",
       "2                       1109 Shady Ln in Austin (TX)            Stray   \n",
       "3     Airport Blvd And Oak Springs Dr in Austin (TX)            Stray   \n",
       "4                                        Austin (TX)  Owner Surrender   \n",
       "\n",
       "  Intake Condition Animal Type Sex upon Intake Age upon Intake  \\\n",
       "0           Normal         Dog   Intact Female       10 months   \n",
       "1           Normal         Dog   Intact Female        5 months   \n",
       "2           Normal         Cat     Intact Male        7 months   \n",
       "3           Normal         Dog     Intact Male         3 years   \n",
       "4          Nursing         Dog   Intact Female         4 weeks   \n",
       "\n",
       "                     Breed        Color  \n",
       "0             Pit Bull Mix        Black  \n",
       "1  Miniature Schnauzer Mix  White/Cream  \n",
       "2   Domestic Shorthair Mix   Blue Tabby  \n",
       "3         Bichon Frise Mix        White  \n",
       "4        Border Collie Mix  Brown/White  "
      ]
     },
     "execution_count": 5,
     "metadata": {},
     "output_type": "execute_result"
    }
   ],
   "source": [
    "# Read the csv files into new dataframe\n",
    "CatDogData_df = pd.read_csv(csv_filepath1, encoding=\"iso-8859-1\", low_memory=False)\n",
    "CatDogData_df.head()"
   ]
  },
  {
   "cell_type": "code",
   "execution_count": 26,
   "metadata": {},
   "outputs": [
    {
     "name": "stdout",
     "output_type": "stream",
     "text": [
      "Index(['Animal ID', 'Name_intake', 'DateTime_intake', 'Found Location',\n",
      "       'Intake Type', 'Intake Condition', 'Animal Type_intake',\n",
      "       'Sex upon Intake', 'Age upon Intake', 'Breed_intake', 'Color_intake',\n",
      "       'Sex_intake', 'Female_intake', 'Male_intake', 'SpayNeuter_intake',\n",
      "       'Purebred_intake', 'NumAge_intake', 'AgeUnits_intake', 'AgeDays_intake',\n",
      "       'Name_outcome', 'DateTime_outcome', 'Date of Birth', 'Outcome Type',\n",
      "       'Outcome Subtype', 'Animal Type_outcome', 'Sex upon Outcome',\n",
      "       'Age upon Outcome', 'Breed_outcome', 'Color_outcome', 'Sex_outcome',\n",
      "       'Female_outcome', 'Male_outcome', 'SpayNeuter_outcome',\n",
      "       'Purebred_outcome', 'NumAge_outcome', 'AgeUnits_outcome',\n",
      "       'AgeDays_outcome'],\n",
      "      dtype='object')\n"
     ]
    }
   ],
   "source": [
    "print(CatDogData_df.columns)"
   ]
  },
  {
   "cell_type": "code",
   "execution_count": 30,
   "metadata": {},
   "outputs": [
    {
     "data": {
      "text/plain": [
       "57593"
      ]
     },
     "execution_count": 30,
     "metadata": {},
     "output_type": "execute_result"
    }
   ],
   "source": [
    "#Filter for only Dogs and Cats\n",
    "#animalData_df = animalData_df.loc[animalData_df[\"Animal Type_intake\"].isin([\"Dog\",\"Cat\"])]\n",
    "len(animalData_df)"
   ]
  },
  {
   "cell_type": "code",
   "execution_count": 32,
   "metadata": {},
   "outputs": [
    {
     "data": {
      "text/html": [
       "<div>\n",
       "<style>\n",
       "    .dataframe thead tr:only-child th {\n",
       "        text-align: right;\n",
       "    }\n",
       "\n",
       "    .dataframe thead th {\n",
       "        text-align: left;\n",
       "    }\n",
       "\n",
       "    .dataframe tbody tr th {\n",
       "        vertical-align: top;\n",
       "    }\n",
       "</style>\n",
       "<table border=\"1\" class=\"dataframe\">\n",
       "  <thead>\n",
       "    <tr style=\"text-align: right;\">\n",
       "      <th></th>\n",
       "      <th>Female</th>\n",
       "      <th>Male</th>\n",
       "      <th>Purebred</th>\n",
       "      <th>NumAge</th>\n",
       "      <th>AgeDays</th>\n",
       "    </tr>\n",
       "  </thead>\n",
       "  <tbody>\n",
       "    <tr>\n",
       "      <th>count</th>\n",
       "      <td>75506.000000</td>\n",
       "      <td>75506.000000</td>\n",
       "      <td>75508.000000</td>\n",
       "      <td>75502.000000</td>\n",
       "      <td>75508.000000</td>\n",
       "    </tr>\n",
       "    <tr>\n",
       "      <th>mean</th>\n",
       "      <td>0.437767</td>\n",
       "      <td>0.476492</td>\n",
       "      <td>0.067198</td>\n",
       "      <td>3.528211</td>\n",
       "      <td>772.159175</td>\n",
       "    </tr>\n",
       "    <tr>\n",
       "      <th>std</th>\n",
       "      <td>0.496115</td>\n",
       "      <td>0.499450</td>\n",
       "      <td>0.250367</td>\n",
       "      <td>2.901128</td>\n",
       "      <td>1052.357298</td>\n",
       "    </tr>\n",
       "    <tr>\n",
       "      <th>min</th>\n",
       "      <td>0.000000</td>\n",
       "      <td>0.000000</td>\n",
       "      <td>0.000000</td>\n",
       "      <td>0.000000</td>\n",
       "      <td>0.000000</td>\n",
       "    </tr>\n",
       "    <tr>\n",
       "      <th>25%</th>\n",
       "      <td>0.000000</td>\n",
       "      <td>0.000000</td>\n",
       "      <td>0.000000</td>\n",
       "      <td>2.000000</td>\n",
       "      <td>90.000000</td>\n",
       "    </tr>\n",
       "    <tr>\n",
       "      <th>50%</th>\n",
       "      <td>0.000000</td>\n",
       "      <td>0.000000</td>\n",
       "      <td>0.000000</td>\n",
       "      <td>2.000000</td>\n",
       "      <td>365.000000</td>\n",
       "    </tr>\n",
       "    <tr>\n",
       "      <th>75%</th>\n",
       "      <td>1.000000</td>\n",
       "      <td>1.000000</td>\n",
       "      <td>0.000000</td>\n",
       "      <td>5.000000</td>\n",
       "      <td>1095.000000</td>\n",
       "    </tr>\n",
       "    <tr>\n",
       "      <th>max</th>\n",
       "      <td>1.000000</td>\n",
       "      <td>1.000000</td>\n",
       "      <td>1.000000</td>\n",
       "      <td>25.000000</td>\n",
       "      <td>9125.000000</td>\n",
       "    </tr>\n",
       "  </tbody>\n",
       "</table>\n",
       "</div>"
      ],
      "text/plain": [
       "             Female          Male      Purebred        NumAge       AgeDays\n",
       "count  75506.000000  75506.000000  75508.000000  75502.000000  75508.000000\n",
       "mean       0.437767      0.476492      0.067198      3.528211    772.159175\n",
       "std        0.496115      0.499450      0.250367      2.901128   1052.357298\n",
       "min        0.000000      0.000000      0.000000      0.000000      0.000000\n",
       "25%        0.000000      0.000000      0.000000      2.000000     90.000000\n",
       "50%        0.000000      0.000000      0.000000      2.000000    365.000000\n",
       "75%        1.000000      1.000000      0.000000      5.000000   1095.000000\n",
       "max        1.000000      1.000000      1.000000     25.000000   9125.000000"
      ]
     },
     "execution_count": 32,
     "metadata": {},
     "output_type": "execute_result"
    }
   ],
   "source": [
    "# Get metrics on the raw outcomes file\n",
    "CatDogData_df.describe()"
   ]
  },
  {
   "cell_type": "code",
   "execution_count": 33,
   "metadata": {},
   "outputs": [
    {
     "name": "stdout",
     "output_type": "stream",
     "text": [
      "Number of records in Outcomes file: 57593\n",
      "Number of Animal Type: Animal Type_intake\n",
      "Cat    25896\n",
      "Dog    31697\n",
      "dtype: int64\n",
      "Number of Animals by Type and Sex: Animal Type_intake  Sex_intake \n",
      "Cat                 Female         11909\n",
      "                    Male           11474\n",
      "                    Unknown Sex     2513\n",
      "Dog                 Female         14723\n",
      "                    Male           16763\n",
      "                    Unknown Sex      210\n",
      "dtype: int64\n",
      "Number of Animals by Type and Intake Reason: Animal Type_intake  Intake Type       \n",
      "Cat                 Euthanasia Request       50\n",
      "                    Owner Surrender        4313\n",
      "                    Public Assist           558\n",
      "                    Stray                 20975\n",
      "Dog                 Euthanasia Request      169\n",
      "                    Owner Surrender        4913\n",
      "                    Public Assist          2736\n",
      "                    Stray                 23879\n",
      "dtype: int64\n",
      "Number of Animals by Type and Outcome: Animal Type_intake  Outcome Type   \n",
      "Cat                 Adoption           10508\n",
      "                    Died                 376\n",
      "                    Disposal              12\n",
      "                    Euthanasia          1390\n",
      "                    Missing               26\n",
      "                    Return to Owner     1121\n",
      "                    Rto-Adopt             17\n",
      "                    Transfer           12446\n",
      "Dog                 Adoption           13830\n",
      "                    Died                 128\n",
      "                    Disposal              10\n",
      "                    Euthanasia          1262\n",
      "                    Missing               11\n",
      "                    Return to Owner     8375\n",
      "                    Rto-Adopt             63\n",
      "                    Transfer            8016\n",
      "dtype: int64\n"
     ]
    }
   ],
   "source": [
    "#Metrics cont'd\n",
    "data_recs = len(CatDogData_df)\n",
    "data_AnimalTypes = CatDogData_df.groupby([\"Animal Type_intake\"]).size()\n",
    "data_Sex = CatDogData_df.groupby([\"Animal Type_intake\", \"Sex_intake\"]).size()\n",
    "data_Intake = CatDogData_df.groupby([\"Animal Type_intake\", \"Intake Type\"]).size()\n",
    "data_Outcome = CatDogData_df.groupby([\"Animal Type_intake\", \"Outcome Type\"]).size()\n",
    "\n",
    "print(f\"Number of records in Outcomes file: {data_recs}\")\n",
    "print(f\"Number of Animal Type: {data_AnimalTypes}\")\n",
    "print(f\"Number of Animals by Type and Sex: {data_AnimalSex}\")\n",
    "print(f\"Number of Animals by Type and Intake Reason: {data_AnimalIntake}\")\n",
    "print(f\"Number of Animals by Type and Outcome: {data_AnimalOutcome}\")"
   ]
  },
  {
   "cell_type": "code",
   "execution_count": null,
   "metadata": {
    "collapsed": true
   },
   "outputs": [],
   "source": []
  }
 ],
 "metadata": {
  "kernelspec": {
   "display_name": "Python 3",
   "language": "python",
   "name": "python3"
  },
  "language_info": {
   "codemirror_mode": {
    "name": "ipython",
    "version": 3
   },
   "file_extension": ".py",
   "mimetype": "text/x-python",
   "name": "python",
   "nbconvert_exporter": "python",
   "pygments_lexer": "ipython3",
   "version": "3.6.1"
  }
 },
 "nbformat": 4,
 "nbformat_minor": 2
}
